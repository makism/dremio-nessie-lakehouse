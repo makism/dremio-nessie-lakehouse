{
 "cells": [
  {
   "cell_type": "markdown",
   "id": "11bff561-4ee5-4bdf-834c-25c5ea888b67",
   "metadata": {},
   "source": [
    "# Imports "
   ]
  },
  {
   "cell_type": "code",
   "execution_count": 1,
   "id": "c1bfeca8-9ab0-4b91-a417-0b9a57d1fbde",
   "metadata": {
    "execution": {
     "iopub.execute_input": "2023-12-06T18:19:38.309124Z",
     "iopub.status.busy": "2023-12-06T18:19:38.308751Z",
     "iopub.status.idle": "2023-12-06T18:19:38.513257Z",
     "shell.execute_reply": "2023-12-06T18:19:38.512577Z",
     "shell.execute_reply.started": "2023-12-06T18:19:38.309084Z"
    },
    "tags": []
   },
   "outputs": [],
   "source": [
    "from common import getOrCreateSparkSession"
   ]
  },
  {
   "cell_type": "code",
   "execution_count": 2,
   "id": "d631e748-5113-4e66-934f-158ae67aa1d5",
   "metadata": {
    "execution": {
     "iopub.execute_input": "2023-12-06T18:19:38.514682Z",
     "iopub.status.busy": "2023-12-06T18:19:38.514280Z",
     "iopub.status.idle": "2023-12-06T18:19:42.322042Z",
     "shell.execute_reply": "2023-12-06T18:19:42.321325Z",
     "shell.execute_reply.started": "2023-12-06T18:19:38.514658Z"
    },
    "tags": []
   },
   "outputs": [
    {
     "name": "stdout",
     "output_type": "stream",
     "text": [
      ":: loading settings :: url = jar:file:/usr/local/lib/python3.10/dist-packages/pyspark/jars/ivy-2.5.1.jar!/org/apache/ivy/core/settings/ivysettings.xml\n"
     ]
    },
    {
     "name": "stderr",
     "output_type": "stream",
     "text": [
      "Ivy Default Cache set to: /root/.ivy2/cache\n",
      "The jars for the packages stored in: /root/.ivy2/jars\n",
      "org.apache.iceberg#iceberg-spark-runtime-3.2_2.12 added as a dependency\n",
      "org.projectnessie.nessie-integrations#nessie-spark-extensions-3.2_2.12 added as a dependency\n",
      ":: resolving dependencies :: org.apache.spark#spark-submit-parent-83d5ad77-4d4b-431a-b673-809c9c329df8;1.0\n",
      "\tconfs: [default]\n",
      "\tfound org.apache.iceberg#iceberg-spark-runtime-3.2_2.12;1.4.2 in central\n",
      "\tfound org.projectnessie.nessie-integrations#nessie-spark-extensions-3.2_2.12;0.74.0 in central\n",
      ":: resolution report :: resolve 105ms :: artifacts dl 6ms\n",
      "\t:: modules in use:\n",
      "\torg.apache.iceberg#iceberg-spark-runtime-3.2_2.12;1.4.2 from central in [default]\n",
      "\torg.projectnessie.nessie-integrations#nessie-spark-extensions-3.2_2.12;0.74.0 from central in [default]\n",
      "\t---------------------------------------------------------------------\n",
      "\t|                  |            modules            ||   artifacts   |\n",
      "\t|       conf       | number| search|dwnlded|evicted|| number|dwnlded|\n",
      "\t---------------------------------------------------------------------\n",
      "\t|      default     |   2   |   0   |   0   |   0   ||   2   |   0   |\n",
      "\t---------------------------------------------------------------------\n",
      ":: retrieving :: org.apache.spark#spark-submit-parent-83d5ad77-4d4b-431a-b673-809c9c329df8\n",
      "\tconfs: [default]\n",
      "\t0 artifacts copied, 2 already retrieved (0kB/5ms)\n",
      "23/12/06 18:19:39 WARN NativeCodeLoader: Unable to load native-hadoop library for your platform... using builtin-java classes where applicable\n",
      "Using Spark's default log4j profile: org/apache/spark/log4j-defaults.properties\n",
      "Setting default log level to \"WARN\".\n",
      "To adjust logging level use sc.setLogLevel(newLevel). For SparkR, use setLogLevel(newLevel).\n"
     ]
    }
   ],
   "source": [
    "spark = getOrCreateSparkSession()"
   ]
  },
  {
   "cell_type": "code",
   "execution_count": 3,
   "id": "436e5884-37ce-497a-8589-c95f43716646",
   "metadata": {
    "execution": {
     "iopub.execute_input": "2023-12-06T18:19:42.323088Z",
     "iopub.status.busy": "2023-12-06T18:19:42.322919Z",
     "iopub.status.idle": "2023-12-06T18:19:42.333725Z",
     "shell.execute_reply": "2023-12-06T18:19:42.332953Z",
     "shell.execute_reply.started": "2023-12-06T18:19:42.323071Z"
    },
    "tags": []
   },
   "outputs": [
    {
     "data": {
      "text/html": [
       "\n",
       "            <div>\n",
       "                <p><b>SparkSession - in-memory</b></p>\n",
       "                \n",
       "        <div>\n",
       "            <p><b>SparkContext</b></p>\n",
       "\n",
       "            <p><a href=\"http://fabfe2341a88:4040\">Spark UI</a></p>\n",
       "\n",
       "            <dl>\n",
       "              <dt>Version</dt>\n",
       "                <dd><code>v3.2.4</code></dd>\n",
       "              <dt>Master</dt>\n",
       "                <dd><code>local[*]</code></dd>\n",
       "              <dt>AppName</dt>\n",
       "                <dd><code>app_name</code></dd>\n",
       "            </dl>\n",
       "        </div>\n",
       "        \n",
       "            </div>\n",
       "        "
      ],
      "text/plain": [
       "<pyspark.sql.session.SparkSession at 0x7f9b680e5420>"
      ]
     },
     "execution_count": 3,
     "metadata": {},
     "output_type": "execute_result"
    }
   ],
   "source": [
    "spark"
   ]
  },
  {
   "cell_type": "markdown",
   "id": "8c4932e3-68f5-494e-9926-a4641173af29",
   "metadata": {},
   "source": [
    "# Clean Up"
   ]
  },
  {
   "cell_type": "code",
   "execution_count": 4,
   "id": "4e01c2fe-926d-4411-8fb9-d2197c54df12",
   "metadata": {
    "execution": {
     "iopub.execute_input": "2023-12-06T18:19:42.336450Z",
     "iopub.status.busy": "2023-12-06T18:19:42.336115Z",
     "iopub.status.idle": "2023-12-06T18:19:45.596559Z",
     "shell.execute_reply": "2023-12-06T18:19:45.595931Z",
     "shell.execute_reply.started": "2023-12-06T18:19:42.336419Z"
    },
    "tags": []
   },
   "outputs": [
    {
     "data": {
      "text/html": [
       "<div>\n",
       "<style scoped>\n",
       "    .dataframe tbody tr th:only-of-type {\n",
       "        vertical-align: middle;\n",
       "    }\n",
       "\n",
       "    .dataframe tbody tr th {\n",
       "        vertical-align: top;\n",
       "    }\n",
       "\n",
       "    .dataframe thead th {\n",
       "        text-align: right;\n",
       "    }\n",
       "</style>\n",
       "<table border=\"1\" class=\"dataframe\">\n",
       "  <thead>\n",
       "    <tr style=\"text-align: right;\">\n",
       "      <th></th>\n",
       "    </tr>\n",
       "  </thead>\n",
       "  <tbody>\n",
       "  </tbody>\n",
       "</table>\n",
       "</div>"
      ],
      "text/plain": [
       "Empty DataFrame\n",
       "Columns: []\n",
       "Index: []"
      ]
     },
     "execution_count": 4,
     "metadata": {},
     "output_type": "execute_result"
    }
   ],
   "source": [
    "spark.sql(\"DROP TABLE IF EXISTS nessie.taxis.trips\").toPandas()"
   ]
  },
  {
   "cell_type": "code",
   "execution_count": 5,
   "id": "392476d3-1e14-4901-ae8f-ff05449e49b4",
   "metadata": {
    "execution": {
     "iopub.execute_input": "2023-12-06T18:19:45.597840Z",
     "iopub.status.busy": "2023-12-06T18:19:45.597501Z",
     "iopub.status.idle": "2023-12-06T18:19:45.663715Z",
     "shell.execute_reply": "2023-12-06T18:19:45.663189Z",
     "shell.execute_reply.started": "2023-12-06T18:19:45.597819Z"
    }
   },
   "outputs": [
    {
     "data": {
      "text/html": [
       "<div>\n",
       "<style scoped>\n",
       "    .dataframe tbody tr th:only-of-type {\n",
       "        vertical-align: middle;\n",
       "    }\n",
       "\n",
       "    .dataframe tbody tr th {\n",
       "        vertical-align: top;\n",
       "    }\n",
       "\n",
       "    .dataframe thead th {\n",
       "        text-align: right;\n",
       "    }\n",
       "</style>\n",
       "<table border=\"1\" class=\"dataframe\">\n",
       "  <thead>\n",
       "    <tr style=\"text-align: right;\">\n",
       "      <th></th>\n",
       "    </tr>\n",
       "  </thead>\n",
       "  <tbody>\n",
       "  </tbody>\n",
       "</table>\n",
       "</div>"
      ],
      "text/plain": [
       "Empty DataFrame\n",
       "Columns: []\n",
       "Index: []"
      ]
     },
     "execution_count": 5,
     "metadata": {},
     "output_type": "execute_result"
    }
   ],
   "source": [
    "spark.sql(\"DROP TABLE IF EXISTS nessie.taxis.new_trips\").toPandas()"
   ]
  },
  {
   "cell_type": "code",
   "execution_count": 6,
   "id": "b281a829-3770-474b-909e-9e9b26060133",
   "metadata": {
    "execution": {
     "iopub.execute_input": "2023-12-06T18:19:45.664920Z",
     "iopub.status.busy": "2023-12-06T18:19:45.664621Z",
     "iopub.status.idle": "2023-12-06T18:19:45.754981Z",
     "shell.execute_reply": "2023-12-06T18:19:45.754309Z",
     "shell.execute_reply.started": "2023-12-06T18:19:45.664890Z"
    },
    "tags": []
   },
   "outputs": [
    {
     "data": {
      "text/html": [
       "<div>\n",
       "<style scoped>\n",
       "    .dataframe tbody tr th:only-of-type {\n",
       "        vertical-align: middle;\n",
       "    }\n",
       "\n",
       "    .dataframe tbody tr th {\n",
       "        vertical-align: top;\n",
       "    }\n",
       "\n",
       "    .dataframe thead th {\n",
       "        text-align: right;\n",
       "    }\n",
       "</style>\n",
       "<table border=\"1\" class=\"dataframe\">\n",
       "  <thead>\n",
       "    <tr style=\"text-align: right;\">\n",
       "      <th></th>\n",
       "    </tr>\n",
       "  </thead>\n",
       "  <tbody>\n",
       "  </tbody>\n",
       "</table>\n",
       "</div>"
      ],
      "text/plain": [
       "Empty DataFrame\n",
       "Columns: []\n",
       "Index: []"
      ]
     },
     "execution_count": 6,
     "metadata": {},
     "output_type": "execute_result"
    }
   ],
   "source": [
    "spark.sql(\"DROP NAMESPACE IF EXISTS nessie.taxis;\").toPandas()"
   ]
  },
  {
   "cell_type": "code",
   "execution_count": 7,
   "id": "8c389433-0936-4cbe-a4ee-d5227b05fc81",
   "metadata": {
    "execution": {
     "iopub.execute_input": "2023-12-06T18:19:45.756093Z",
     "iopub.status.busy": "2023-12-06T18:19:45.755831Z",
     "iopub.status.idle": "2023-12-06T18:19:46.111364Z",
     "shell.execute_reply": "2023-12-06T18:19:46.110678Z",
     "shell.execute_reply.started": "2023-12-06T18:19:45.756060Z"
    },
    "tags": []
   },
   "outputs": [
    {
     "data": {
      "text/html": [
       "<div>\n",
       "<style scoped>\n",
       "    .dataframe tbody tr th:only-of-type {\n",
       "        vertical-align: middle;\n",
       "    }\n",
       "\n",
       "    .dataframe tbody tr th {\n",
       "        vertical-align: top;\n",
       "    }\n",
       "\n",
       "    .dataframe thead th {\n",
       "        text-align: right;\n",
       "    }\n",
       "</style>\n",
       "<table border=\"1\" class=\"dataframe\">\n",
       "  <thead>\n",
       "    <tr style=\"text-align: right;\">\n",
       "      <th></th>\n",
       "      <th>status</th>\n",
       "    </tr>\n",
       "  </thead>\n",
       "  <tbody>\n",
       "    <tr>\n",
       "      <th>0</th>\n",
       "      <td>OK</td>\n",
       "    </tr>\n",
       "  </tbody>\n",
       "</table>\n",
       "</div>"
      ],
      "text/plain": [
       "  status\n",
       "0     OK"
      ]
     },
     "execution_count": 7,
     "metadata": {},
     "output_type": "execute_result"
    }
   ],
   "source": [
    "spark.sql(\"DROP BRANCH IF EXISTS batch2 IN nessie\").toPandas()"
   ]
  },
  {
   "cell_type": "markdown",
   "id": "caedb22b-3824-4394-baff-37b9fb7876e8",
   "metadata": {},
   "source": [
    "# Prepare namespace and tables"
   ]
  },
  {
   "cell_type": "code",
   "execution_count": 8,
   "id": "aeeb6aec-5eb2-4c18-9396-1be33612005d",
   "metadata": {
    "execution": {
     "iopub.execute_input": "2023-12-06T18:19:46.112808Z",
     "iopub.status.busy": "2023-12-06T18:19:46.112410Z",
     "iopub.status.idle": "2023-12-06T18:19:46.189339Z",
     "shell.execute_reply": "2023-12-06T18:19:46.188671Z",
     "shell.execute_reply.started": "2023-12-06T18:19:46.112778Z"
    },
    "tags": []
   },
   "outputs": [
    {
     "data": {
      "text/html": [
       "<div>\n",
       "<style scoped>\n",
       "    .dataframe tbody tr th:only-of-type {\n",
       "        vertical-align: middle;\n",
       "    }\n",
       "\n",
       "    .dataframe tbody tr th {\n",
       "        vertical-align: top;\n",
       "    }\n",
       "\n",
       "    .dataframe thead th {\n",
       "        text-align: right;\n",
       "    }\n",
       "</style>\n",
       "<table border=\"1\" class=\"dataframe\">\n",
       "  <thead>\n",
       "    <tr style=\"text-align: right;\">\n",
       "      <th></th>\n",
       "    </tr>\n",
       "  </thead>\n",
       "  <tbody>\n",
       "  </tbody>\n",
       "</table>\n",
       "</div>"
      ],
      "text/plain": [
       "Empty DataFrame\n",
       "Columns: []\n",
       "Index: []"
      ]
     },
     "execution_count": 8,
     "metadata": {},
     "output_type": "execute_result"
    }
   ],
   "source": [
    "spark.sql(\"CREATE NAMESPACE IF NOT EXISTS nessie.taxis;\").toPandas()"
   ]
  },
  {
   "cell_type": "code",
   "execution_count": 9,
   "id": "041e5307-f02f-46e2-af6a-3d4b95ade9f1",
   "metadata": {
    "execution": {
     "iopub.execute_input": "2023-12-06T18:19:46.190398Z",
     "iopub.status.busy": "2023-12-06T18:19:46.190130Z",
     "iopub.status.idle": "2023-12-06T18:19:46.260794Z",
     "shell.execute_reply": "2023-12-06T18:19:46.259945Z",
     "shell.execute_reply.started": "2023-12-06T18:19:46.190368Z"
    },
    "tags": []
   },
   "outputs": [
    {
     "data": {
      "text/html": [
       "<div>\n",
       "<style scoped>\n",
       "    .dataframe tbody tr th:only-of-type {\n",
       "        vertical-align: middle;\n",
       "    }\n",
       "\n",
       "    .dataframe tbody tr th {\n",
       "        vertical-align: top;\n",
       "    }\n",
       "\n",
       "    .dataframe thead th {\n",
       "        text-align: right;\n",
       "    }\n",
       "</style>\n",
       "<table border=\"1\" class=\"dataframe\">\n",
       "  <thead>\n",
       "    <tr style=\"text-align: right;\">\n",
       "      <th></th>\n",
       "      <th>refType</th>\n",
       "      <th>name</th>\n",
       "      <th>hash</th>\n",
       "    </tr>\n",
       "  </thead>\n",
       "  <tbody>\n",
       "    <tr>\n",
       "      <th>0</th>\n",
       "      <td>Branch</td>\n",
       "      <td>dev</td>\n",
       "      <td>aabe970e6cd4bd7c323d5fc66908da5baaab44063cbdb8...</td>\n",
       "    </tr>\n",
       "    <tr>\n",
       "      <th>1</th>\n",
       "      <td>Branch</td>\n",
       "      <td>main</td>\n",
       "      <td>b943563d86f2d0c8046d0ff54ffce1d6deb2aed42d778f...</td>\n",
       "    </tr>\n",
       "  </tbody>\n",
       "</table>\n",
       "</div>"
      ],
      "text/plain": [
       "  refType  name                                               hash\n",
       "0  Branch   dev  aabe970e6cd4bd7c323d5fc66908da5baaab44063cbdb8...\n",
       "1  Branch  main  b943563d86f2d0c8046d0ff54ffce1d6deb2aed42d778f..."
      ]
     },
     "execution_count": 9,
     "metadata": {},
     "output_type": "execute_result"
    }
   ],
   "source": [
    "spark.sql(\"LIST REFERENCES IN nessie\").toPandas()"
   ]
  },
  {
   "cell_type": "code",
   "execution_count": 10,
   "id": "7e64e26d-9c30-44aa-b8b6-b3ca886d9ff1",
   "metadata": {
    "execution": {
     "iopub.execute_input": "2023-12-06T18:19:46.261851Z",
     "iopub.status.busy": "2023-12-06T18:19:46.261614Z",
     "iopub.status.idle": "2023-12-06T18:19:46.450342Z",
     "shell.execute_reply": "2023-12-06T18:19:46.449630Z",
     "shell.execute_reply.started": "2023-12-06T18:19:46.261823Z"
    },
    "tags": []
   },
   "outputs": [
    {
     "data": {
      "text/html": [
       "<div>\n",
       "<style scoped>\n",
       "    .dataframe tbody tr th:only-of-type {\n",
       "        vertical-align: middle;\n",
       "    }\n",
       "\n",
       "    .dataframe tbody tr th {\n",
       "        vertical-align: top;\n",
       "    }\n",
       "\n",
       "    .dataframe thead th {\n",
       "        text-align: right;\n",
       "    }\n",
       "</style>\n",
       "<table border=\"1\" class=\"dataframe\">\n",
       "  <thead>\n",
       "    <tr style=\"text-align: right;\">\n",
       "      <th></th>\n",
       "    </tr>\n",
       "  </thead>\n",
       "  <tbody>\n",
       "  </tbody>\n",
       "</table>\n",
       "</div>"
      ],
      "text/plain": [
       "Empty DataFrame\n",
       "Columns: []\n",
       "Index: []"
      ]
     },
     "execution_count": 10,
     "metadata": {},
     "output_type": "execute_result"
    }
   ],
   "source": [
    "spark.sql(\n",
    "\"\"\"\n",
    "CREATE TABLE IF NOT EXISTS nessie.taxis.trips(\n",
    "    vendor_id INT,\n",
    "    pickup_datetime TIMESTAMP,\n",
    "    dropoff_datetime TIMESTAMP,\n",
    "    passenger_count INT,\n",
    "    pickup_location_id INT,\n",
    "    dropoff_location_id INT,\n",
    "    fare_amount FLOAT\n",
    ")\n",
    "USING iceberg;\n",
    "\"\"\"\n",
    ").toPandas()"
   ]
  },
  {
   "cell_type": "markdown",
   "id": "a566083e-83bd-4250-8bbe-8ffe4a7c3731",
   "metadata": {},
   "source": [
    "# Ingest data into `@main`"
   ]
  },
  {
   "cell_type": "code",
   "execution_count": 11,
   "id": "b17f2ae9-6439-465e-8f6f-0f7baae4bd07",
   "metadata": {
    "execution": {
     "iopub.execute_input": "2023-12-06T18:19:46.451618Z",
     "iopub.status.busy": "2023-12-06T18:19:46.451272Z",
     "iopub.status.idle": "2023-12-06T18:19:48.031585Z",
     "shell.execute_reply": "2023-12-06T18:19:48.030777Z",
     "shell.execute_reply.started": "2023-12-06T18:19:46.451585Z"
    }
   },
   "outputs": [
    {
     "data": {
      "text/html": [
       "<div>\n",
       "<style scoped>\n",
       "    .dataframe tbody tr th:only-of-type {\n",
       "        vertical-align: middle;\n",
       "    }\n",
       "\n",
       "    .dataframe tbody tr th {\n",
       "        vertical-align: top;\n",
       "    }\n",
       "\n",
       "    .dataframe thead th {\n",
       "        text-align: right;\n",
       "    }\n",
       "</style>\n",
       "<table border=\"1\" class=\"dataframe\">\n",
       "  <thead>\n",
       "    <tr style=\"text-align: right;\">\n",
       "      <th></th>\n",
       "    </tr>\n",
       "  </thead>\n",
       "  <tbody>\n",
       "  </tbody>\n",
       "</table>\n",
       "</div>"
      ],
      "text/plain": [
       "Empty DataFrame\n",
       "Columns: []\n",
       "Index: []"
      ]
     },
     "execution_count": 11,
     "metadata": {},
     "output_type": "execute_result"
    }
   ],
   "source": [
    "spark.sql(\n",
    "\"\"\"\n",
    "CREATE OR REPLACE TEMPORARY VIEW trips_table USING csv\n",
    "OPTIONS (path \"/data/yellow_tripdata_sample_2019_01.csv\", header true);\n",
    "\"\"\"\n",
    ").toPandas()"
   ]
  },
  {
   "cell_type": "code",
   "execution_count": 12,
   "id": "43b27168-07d3-4eec-aa3c-2d908d12b2a9",
   "metadata": {
    "execution": {
     "iopub.execute_input": "2023-12-06T18:19:48.033351Z",
     "iopub.status.busy": "2023-12-06T18:19:48.032746Z",
     "iopub.status.idle": "2023-12-06T18:19:48.608193Z",
     "shell.execute_reply": "2023-12-06T18:19:48.607455Z",
     "shell.execute_reply.started": "2023-12-06T18:19:48.033313Z"
    },
    "tags": []
   },
   "outputs": [
    {
     "data": {
      "text/html": [
       "<div>\n",
       "<style scoped>\n",
       "    .dataframe tbody tr th:only-of-type {\n",
       "        vertical-align: middle;\n",
       "    }\n",
       "\n",
       "    .dataframe tbody tr th {\n",
       "        vertical-align: top;\n",
       "    }\n",
       "\n",
       "    .dataframe thead th {\n",
       "        text-align: right;\n",
       "    }\n",
       "</style>\n",
       "<table border=\"1\" class=\"dataframe\">\n",
       "  <thead>\n",
       "    <tr style=\"text-align: right;\">\n",
       "      <th></th>\n",
       "      <th>count(1)</th>\n",
       "    </tr>\n",
       "  </thead>\n",
       "  <tbody>\n",
       "    <tr>\n",
       "      <th>0</th>\n",
       "      <td>15</td>\n",
       "    </tr>\n",
       "  </tbody>\n",
       "</table>\n",
       "</div>"
      ],
      "text/plain": [
       "   count(1)\n",
       "0        15"
      ]
     },
     "execution_count": 12,
     "metadata": {},
     "output_type": "execute_result"
    }
   ],
   "source": [
    "spark.sql(\"SELECT COUNT(*) FROM trips_table;\").toPandas()"
   ]
  },
  {
   "cell_type": "code",
   "execution_count": 13,
   "id": "fa7782e9-dbef-4907-8dbf-86bbef4701b0",
   "metadata": {
    "execution": {
     "iopub.execute_input": "2023-12-06T18:19:48.611045Z",
     "iopub.status.busy": "2023-12-06T18:19:48.610639Z",
     "iopub.status.idle": "2023-12-06T18:19:50.000549Z",
     "shell.execute_reply": "2023-12-06T18:19:49.999728Z",
     "shell.execute_reply.started": "2023-12-06T18:19:48.611011Z"
    },
    "tags": []
   },
   "outputs": [
    {
     "name": "stderr",
     "output_type": "stream",
     "text": [
      "                                                                                \r"
     ]
    },
    {
     "data": {
      "text/html": [
       "<div>\n",
       "<style scoped>\n",
       "    .dataframe tbody tr th:only-of-type {\n",
       "        vertical-align: middle;\n",
       "    }\n",
       "\n",
       "    .dataframe tbody tr th {\n",
       "        vertical-align: top;\n",
       "    }\n",
       "\n",
       "    .dataframe thead th {\n",
       "        text-align: right;\n",
       "    }\n",
       "</style>\n",
       "<table border=\"1\" class=\"dataframe\">\n",
       "  <thead>\n",
       "    <tr style=\"text-align: right;\">\n",
       "      <th></th>\n",
       "    </tr>\n",
       "  </thead>\n",
       "  <tbody>\n",
       "  </tbody>\n",
       "</table>\n",
       "</div>"
      ],
      "text/plain": [
       "Empty DataFrame\n",
       "Columns: []\n",
       "Index: []"
      ]
     },
     "execution_count": 13,
     "metadata": {},
     "output_type": "execute_result"
    }
   ],
   "source": [
    "spark.sql(\"\"\"\n",
    "INSERT INTO nessie.taxis.trips\n",
    "SELECT \n",
    "    CAST(vendor_id AS INT),\n",
    "    CAST(pickup_datetime AS TIMESTAMP),\n",
    "    CAST(dropoff_datetime AS TIMESTAMP),\n",
    "    CAST(passenger_count AS INT),\n",
    "    CAST(pickup_location_id AS INT),\n",
    "    CAST(dropoff_location_id AS INT),\n",
    "    CAST(fare_amount AS FLOAT)\n",
    "FROM trips_table;\n",
    "\"\"\"\n",
    ").toPandas()"
   ]
  },
  {
   "cell_type": "code",
   "execution_count": 14,
   "id": "167026d0-8e76-4761-900b-f81fdd84a8b5",
   "metadata": {
    "execution": {
     "iopub.execute_input": "2023-12-06T18:19:50.002186Z",
     "iopub.status.busy": "2023-12-06T18:19:50.001748Z",
     "iopub.status.idle": "2023-12-06T18:19:50.569695Z",
     "shell.execute_reply": "2023-12-06T18:19:50.568938Z",
     "shell.execute_reply.started": "2023-12-06T18:19:50.002145Z"
    }
   },
   "outputs": [
    {
     "name": "stderr",
     "output_type": "stream",
     "text": [
      "/usr/local/lib/python3.10/dist-packages/pyspark/sql/pandas/conversion.py:194: FutureWarning: Passing unit-less datetime64 dtype to .astype is deprecated and will raise in a future version. Pass 'datetime64[ns]' instead\n",
      "  series = series.astype(t, copy=False)\n",
      "/usr/local/lib/python3.10/dist-packages/pyspark/sql/pandas/conversion.py:194: FutureWarning: Passing unit-less datetime64 dtype to .astype is deprecated and will raise in a future version. Pass 'datetime64[ns]' instead\n",
      "  series = series.astype(t, copy=False)\n"
     ]
    },
    {
     "data": {
      "text/html": [
       "<div>\n",
       "<style scoped>\n",
       "    .dataframe tbody tr th:only-of-type {\n",
       "        vertical-align: middle;\n",
       "    }\n",
       "\n",
       "    .dataframe tbody tr th {\n",
       "        vertical-align: top;\n",
       "    }\n",
       "\n",
       "    .dataframe thead th {\n",
       "        text-align: right;\n",
       "    }\n",
       "</style>\n",
       "<table border=\"1\" class=\"dataframe\">\n",
       "  <thead>\n",
       "    <tr style=\"text-align: right;\">\n",
       "      <th></th>\n",
       "      <th>vendor_id</th>\n",
       "      <th>pickup_datetime</th>\n",
       "      <th>dropoff_datetime</th>\n",
       "      <th>passenger_count</th>\n",
       "      <th>pickup_location_id</th>\n",
       "      <th>dropoff_location_id</th>\n",
       "      <th>fare_amount</th>\n",
       "    </tr>\n",
       "  </thead>\n",
       "  <tbody>\n",
       "    <tr>\n",
       "      <th>0</th>\n",
       "      <td>1</td>\n",
       "      <td>2019-01-15 03:36:12</td>\n",
       "      <td>2019-01-15 03:42:19</td>\n",
       "      <td>1</td>\n",
       "      <td>230</td>\n",
       "      <td>48</td>\n",
       "      <td>6.5</td>\n",
       "    </tr>\n",
       "    <tr>\n",
       "      <th>1</th>\n",
       "      <td>1</td>\n",
       "      <td>2019-01-25 18:20:32</td>\n",
       "      <td>2019-01-25 18:26:55</td>\n",
       "      <td>1</td>\n",
       "      <td>112</td>\n",
       "      <td>112</td>\n",
       "      <td>6.0</td>\n",
       "    </tr>\n",
       "    <tr>\n",
       "      <th>2</th>\n",
       "      <td>1</td>\n",
       "      <td>2019-01-05 06:47:31</td>\n",
       "      <td>2019-01-05 06:52:19</td>\n",
       "      <td>1</td>\n",
       "      <td>107</td>\n",
       "      <td>4</td>\n",
       "      <td>6.0</td>\n",
       "    </tr>\n",
       "    <tr>\n",
       "      <th>3</th>\n",
       "      <td>1</td>\n",
       "      <td>2019-01-09 15:08:02</td>\n",
       "      <td>2019-01-09 15:20:17</td>\n",
       "      <td>1</td>\n",
       "      <td>143</td>\n",
       "      <td>158</td>\n",
       "      <td>11.0</td>\n",
       "    </tr>\n",
       "    <tr>\n",
       "      <th>4</th>\n",
       "      <td>1</td>\n",
       "      <td>2019-01-25 18:49:51</td>\n",
       "      <td>2019-01-25 18:56:44</td>\n",
       "      <td>1</td>\n",
       "      <td>246</td>\n",
       "      <td>90</td>\n",
       "      <td>6.5</td>\n",
       "    </tr>\n",
       "  </tbody>\n",
       "</table>\n",
       "</div>"
      ],
      "text/plain": [
       "   vendor_id     pickup_datetime    dropoff_datetime  passenger_count  \\\n",
       "0          1 2019-01-15 03:36:12 2019-01-15 03:42:19                1   \n",
       "1          1 2019-01-25 18:20:32 2019-01-25 18:26:55                1   \n",
       "2          1 2019-01-05 06:47:31 2019-01-05 06:52:19                1   \n",
       "3          1 2019-01-09 15:08:02 2019-01-09 15:20:17                1   \n",
       "4          1 2019-01-25 18:49:51 2019-01-25 18:56:44                1   \n",
       "\n",
       "   pickup_location_id  dropoff_location_id  fare_amount  \n",
       "0                 230                   48          6.5  \n",
       "1                 112                  112          6.0  \n",
       "2                 107                    4          6.0  \n",
       "3                 143                  158         11.0  \n",
       "4                 246                   90          6.5  "
      ]
     },
     "execution_count": 14,
     "metadata": {},
     "output_type": "execute_result"
    }
   ],
   "source": [
    "spark.sql(\"SELECT * FROM nessie.taxis.trips LIMIT 5;\").toPandas()"
   ]
  },
  {
   "cell_type": "code",
   "execution_count": 15,
   "id": "4e8b02d5-0618-4932-8114-3b1336119742",
   "metadata": {
    "execution": {
     "iopub.execute_input": "2023-12-06T18:19:50.571213Z",
     "iopub.status.busy": "2023-12-06T18:19:50.570889Z",
     "iopub.status.idle": "2023-12-06T18:19:50.721442Z",
     "shell.execute_reply": "2023-12-06T18:19:50.720634Z",
     "shell.execute_reply.started": "2023-12-06T18:19:50.571187Z"
    },
    "tags": []
   },
   "outputs": [
    {
     "data": {
      "text/html": [
       "<div>\n",
       "<style scoped>\n",
       "    .dataframe tbody tr th:only-of-type {\n",
       "        vertical-align: middle;\n",
       "    }\n",
       "\n",
       "    .dataframe tbody tr th {\n",
       "        vertical-align: top;\n",
       "    }\n",
       "\n",
       "    .dataframe thead th {\n",
       "        text-align: right;\n",
       "    }\n",
       "</style>\n",
       "<table border=\"1\" class=\"dataframe\">\n",
       "  <thead>\n",
       "    <tr style=\"text-align: right;\">\n",
       "      <th></th>\n",
       "      <th>count(1)</th>\n",
       "    </tr>\n",
       "  </thead>\n",
       "  <tbody>\n",
       "    <tr>\n",
       "      <th>0</th>\n",
       "      <td>15</td>\n",
       "    </tr>\n",
       "  </tbody>\n",
       "</table>\n",
       "</div>"
      ],
      "text/plain": [
       "   count(1)\n",
       "0        15"
      ]
     },
     "execution_count": 15,
     "metadata": {},
     "output_type": "execute_result"
    }
   ],
   "source": [
    "spark.sql(\"SELECT COUNT(*) FROM nessie.taxis.trips;\").toPandas()"
   ]
  },
  {
   "cell_type": "markdown",
   "id": "568bc675-9d55-4630-bac9-719d921b0869",
   "metadata": {},
   "source": [
    "Drop temporary view"
   ]
  },
  {
   "cell_type": "code",
   "execution_count": 16,
   "id": "66531078-18cb-4d95-bf5f-bb0a4d1af97c",
   "metadata": {
    "execution": {
     "iopub.execute_input": "2023-12-06T18:19:50.722938Z",
     "iopub.status.busy": "2023-12-06T18:19:50.722512Z",
     "iopub.status.idle": "2023-12-06T18:19:50.782530Z",
     "shell.execute_reply": "2023-12-06T18:19:50.781631Z",
     "shell.execute_reply.started": "2023-12-06T18:19:50.722901Z"
    },
    "tags": []
   },
   "outputs": [
    {
     "data": {
      "text/html": [
       "<div>\n",
       "<style scoped>\n",
       "    .dataframe tbody tr th:only-of-type {\n",
       "        vertical-align: middle;\n",
       "    }\n",
       "\n",
       "    .dataframe tbody tr th {\n",
       "        vertical-align: top;\n",
       "    }\n",
       "\n",
       "    .dataframe thead th {\n",
       "        text-align: right;\n",
       "    }\n",
       "</style>\n",
       "<table border=\"1\" class=\"dataframe\">\n",
       "  <thead>\n",
       "    <tr style=\"text-align: right;\">\n",
       "      <th></th>\n",
       "    </tr>\n",
       "  </thead>\n",
       "  <tbody>\n",
       "  </tbody>\n",
       "</table>\n",
       "</div>"
      ],
      "text/plain": [
       "Empty DataFrame\n",
       "Columns: []\n",
       "Index: []"
      ]
     },
     "execution_count": 16,
     "metadata": {},
     "output_type": "execute_result"
    }
   ],
   "source": [
    "spark.sql(\"DROP VIEW IF EXISTS trips_table\").toPandas()"
   ]
  },
  {
   "cell_type": "code",
   "execution_count": 17,
   "id": "8f1dd892-5336-4afe-8b1c-ac757c712b93",
   "metadata": {
    "execution": {
     "iopub.execute_input": "2023-12-06T18:19:50.784085Z",
     "iopub.status.busy": "2023-12-06T18:19:50.783682Z",
     "iopub.status.idle": "2023-12-06T18:19:50.881227Z",
     "shell.execute_reply": "2023-12-06T18:19:50.880261Z",
     "shell.execute_reply.started": "2023-12-06T18:19:50.784054Z"
    }
   },
   "outputs": [
    {
     "data": {
      "text/html": [
       "<div>\n",
       "<style scoped>\n",
       "    .dataframe tbody tr th:only-of-type {\n",
       "        vertical-align: middle;\n",
       "    }\n",
       "\n",
       "    .dataframe tbody tr th {\n",
       "        vertical-align: top;\n",
       "    }\n",
       "\n",
       "    .dataframe thead th {\n",
       "        text-align: right;\n",
       "    }\n",
       "</style>\n",
       "<table border=\"1\" class=\"dataframe\">\n",
       "  <thead>\n",
       "    <tr style=\"text-align: right;\">\n",
       "      <th></th>\n",
       "      <th>namespace</th>\n",
       "      <th>tableName</th>\n",
       "      <th>isTemporary</th>\n",
       "    </tr>\n",
       "  </thead>\n",
       "  <tbody>\n",
       "    <tr>\n",
       "      <th>0</th>\n",
       "      <td>taxis</td>\n",
       "      <td>trips</td>\n",
       "      <td>False</td>\n",
       "    </tr>\n",
       "  </tbody>\n",
       "</table>\n",
       "</div>"
      ],
      "text/plain": [
       "  namespace tableName  isTemporary\n",
       "0     taxis     trips        False"
      ]
     },
     "execution_count": 17,
     "metadata": {},
     "output_type": "execute_result"
    }
   ],
   "source": [
    "spark.sql(\"SHOW TABLES IN nessie;\").toPandas()"
   ]
  },
  {
   "cell_type": "code",
   "execution_count": null,
   "id": "e9d5e334-c62e-440d-9682-9ede614b7fc1",
   "metadata": {},
   "outputs": [],
   "source": []
  }
 ],
 "metadata": {
  "kernelspec": {
   "display_name": "Python 3 (ipykernel)",
   "language": "python",
   "name": "python3"
  },
  "language_info": {
   "codemirror_mode": {
    "name": "ipython",
    "version": 3
   },
   "file_extension": ".py",
   "mimetype": "text/x-python",
   "name": "python",
   "nbconvert_exporter": "python",
   "pygments_lexer": "ipython3",
   "version": "3.10.12"
  }
 },
 "nbformat": 4,
 "nbformat_minor": 5
}
