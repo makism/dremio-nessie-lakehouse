{
 "cells": [
  {
   "cell_type": "code",
   "execution_count": 1,
   "id": "c292ef2e-b644-45cf-baa8-7be4a3af7dae",
   "metadata": {
    "execution": {
     "iopub.execute_input": "2023-12-04T21:38:15.119222Z",
     "iopub.status.busy": "2023-12-04T21:38:15.118800Z",
     "iopub.status.idle": "2023-12-04T21:38:15.320261Z",
     "shell.execute_reply": "2023-12-04T21:38:15.319569Z",
     "shell.execute_reply.started": "2023-12-04T21:38:15.119196Z"
    },
    "tags": []
   },
   "outputs": [],
   "source": [
    "import pyspark\n",
    "from pyspark.sql import SparkSession"
   ]
  },
  {
   "cell_type": "code",
   "execution_count": 2,
   "id": "5830a2e9-1e86-4422-aa43-eb4b21ed2eaf",
   "metadata": {
    "execution": {
     "iopub.execute_input": "2023-12-04T21:38:15.321489Z",
     "iopub.status.busy": "2023-12-04T21:38:15.321196Z",
     "iopub.status.idle": "2023-12-04T21:38:15.325318Z",
     "shell.execute_reply": "2023-12-04T21:38:15.324650Z",
     "shell.execute_reply.started": "2023-12-04T21:38:15.321461Z"
    },
    "tags": []
   },
   "outputs": [],
   "source": [
    "NESSIE_URI = \"http://nessie:19120/api/v1\"\n",
    "AWS_ACCESS_KEY = \"minio\"\n",
    "AWS_SECRET_KEY = \"minio123\"\n",
    "AWS_S3_ENDPOINT = \"http://minio:9000\"\n",
    "WAREHOUSE = \"s3a://lake/\""
   ]
  },
  {
   "cell_type": "code",
   "execution_count": 3,
   "id": "adda2840-a3a5-4b92-b0ed-568e9efc1e5c",
   "metadata": {
    "execution": {
     "iopub.execute_input": "2023-12-04T21:38:15.326539Z",
     "iopub.status.busy": "2023-12-04T21:38:15.326249Z",
     "iopub.status.idle": "2023-12-04T21:38:15.332201Z",
     "shell.execute_reply": "2023-12-04T21:38:15.331497Z",
     "shell.execute_reply.started": "2023-12-04T21:38:15.326500Z"
    },
    "tags": []
   },
   "outputs": [],
   "source": [
    "conf = (\n",
    "    pyspark.SparkConf()\n",
    "        .setAppName('app_name')\n",
    "        .set(\n",
    "            \"spark.jars.packages\",\n",
    "            \"software.amazon.awssdk:bundle:2.17.178,software.amazon.awssdk:url-connection-client:2.17.178,org.apache.iceberg:iceberg-spark-runtime-3.2_2.12:1.4.2,org.projectnessie.nessie-integrations:nessie-spark-extensions-3.2_2.12:0.74.0\",\n",
    "        )\n",
    "        .set(\"spark.sql.execution.pyarrow.enabled\", \"true\")\n",
    "        .set('spark.sql.catalog.nessie', 'org.apache.iceberg.spark.SparkCatalog')\n",
    "        .set('spark.sql.catalog.nessie.uri', NESSIE_URI)\n",
    "        .set('spark.sql.catalog.nessie.ref', 'main')\n",
    "        .set('spark.sql.catalog.nessie.authentication.type', 'NONE')\n",
    "        .set('spark.sql.catalog.nessie.catalog-impl', 'org.apache.iceberg.nessie.NessieCatalog')\n",
    "        .set('spark.sql.catalog.nessie.s3.endpoint', AWS_S3_ENDPOINT)\n",
    "        .set('spark.sql.catalog.nessie.warehouse', WAREHOUSE)\n",
    "        .set('spark.sql.catalog.nessie.io-impl', 'org.apache.iceberg.aws.s3.S3FileIO')\n",
    "        .set('spark.hadoop.fs.s3a.access.key', AWS_ACCESS_KEY)\n",
    "        .set('spark.hadoop.fs.s3a.secret.key', AWS_SECRET_KEY)\n",
    "        .set(\n",
    "            \"spark.sql.extensions\",\n",
    "            \"org.apache.iceberg.spark.extensions.IcebergSparkSessionExtensions,org.projectnessie.spark.extensions.NessieSparkSessionExtensions\",\n",
    "        )\n",
    ")"
   ]
  },
  {
   "cell_type": "code",
   "execution_count": 4,
   "id": "350163c7-daab-4e4b-9f1b-15220855eac5",
   "metadata": {
    "execution": {
     "iopub.execute_input": "2023-12-04T21:38:15.334937Z",
     "iopub.status.busy": "2023-12-04T21:38:15.334201Z",
     "iopub.status.idle": "2023-12-04T21:38:57.427824Z",
     "shell.execute_reply": "2023-12-04T21:38:57.427032Z",
     "shell.execute_reply.started": "2023-12-04T21:38:15.334895Z"
    },
    "tags": []
   },
   "outputs": [
    {
     "name": "stdout",
     "output_type": "stream",
     "text": [
      ":: loading settings :: url = jar:file:/usr/local/lib/python3.10/dist-packages/pyspark/jars/ivy-2.5.1.jar!/org/apache/ivy/core/settings/ivysettings.xml\n"
     ]
    },
    {
     "name": "stderr",
     "output_type": "stream",
     "text": [
      "Ivy Default Cache set to: /root/.ivy2/cache\n",
      "The jars for the packages stored in: /root/.ivy2/jars\n",
      "software.amazon.awssdk#bundle added as a dependency\n",
      "software.amazon.awssdk#url-connection-client added as a dependency\n",
      "org.apache.iceberg#iceberg-spark-runtime-3.2_2.12 added as a dependency\n",
      "org.projectnessie.nessie-integrations#nessie-spark-extensions-3.2_2.12 added as a dependency\n",
      ":: resolving dependencies :: org.apache.spark#spark-submit-parent-c2aa87fe-3bea-42b9-b719-ab8636785289;1.0\n",
      "\tconfs: [default]\n",
      "\tfound software.amazon.awssdk#bundle;2.17.178 in central\n",
      "\tfound software.amazon.eventstream#eventstream;1.0.1 in central\n",
      "\tfound software.amazon.awssdk#url-connection-client;2.17.178 in central\n",
      "\tfound software.amazon.awssdk#utils;2.17.178 in central\n",
      "\tfound org.reactivestreams#reactive-streams;1.0.3 in central\n",
      "\tfound software.amazon.awssdk#annotations;2.17.178 in central\n",
      "\tfound org.slf4j#slf4j-api;1.7.30 in central\n",
      "\tfound software.amazon.awssdk#http-client-spi;2.17.178 in central\n",
      "\tfound software.amazon.awssdk#metrics-spi;2.17.178 in central\n",
      "\tfound org.apache.iceberg#iceberg-spark-runtime-3.2_2.12;1.4.2 in central\n",
      "\tfound org.projectnessie.nessie-integrations#nessie-spark-extensions-3.2_2.12;0.74.0 in central\n",
      "downloading https://repo1.maven.org/maven2/software/amazon/awssdk/bundle/2.17.178/bundle-2.17.178.jar ...\n",
      "\t[SUCCESSFUL ] software.amazon.awssdk#bundle;2.17.178!bundle.jar (27799ms)\n",
      "downloading https://repo1.maven.org/maven2/software/amazon/awssdk/url-connection-client/2.17.178/url-connection-client-2.17.178.jar ...\n",
      "\t[SUCCESSFUL ] software.amazon.awssdk#url-connection-client;2.17.178!url-connection-client.jar (19ms)\n",
      "downloading https://repo1.maven.org/maven2/org/apache/iceberg/iceberg-spark-runtime-3.2_2.12/1.4.2/iceberg-spark-runtime-3.2_2.12-1.4.2.jar ...\n",
      "\t[SUCCESSFUL ] org.apache.iceberg#iceberg-spark-runtime-3.2_2.12;1.4.2!iceberg-spark-runtime-3.2_2.12.jar (2281ms)\n",
      "downloading https://repo1.maven.org/maven2/org/projectnessie/nessie-integrations/nessie-spark-extensions-3.2_2.12/0.74.0/nessie-spark-extensions-3.2_2.12-0.74.0.jar ...\n",
      "\t[SUCCESSFUL ] org.projectnessie.nessie-integrations#nessie-spark-extensions-3.2_2.12;0.74.0!nessie-spark-extensions-3.2_2.12.jar (187ms)\n",
      "downloading https://repo1.maven.org/maven2/software/amazon/eventstream/eventstream/1.0.1/eventstream-1.0.1.jar ...\n",
      "\t[SUCCESSFUL ] software.amazon.eventstream#eventstream;1.0.1!eventstream.jar (19ms)\n",
      "downloading https://repo1.maven.org/maven2/software/amazon/awssdk/utils/2.17.178/utils-2.17.178.jar ...\n",
      "\t[SUCCESSFUL ] software.amazon.awssdk#utils;2.17.178!utils.jar (39ms)\n",
      "downloading https://repo1.maven.org/maven2/software/amazon/awssdk/annotations/2.17.178/annotations-2.17.178.jar ...\n",
      "\t[SUCCESSFUL ] software.amazon.awssdk#annotations;2.17.178!annotations.jar (14ms)\n",
      "downloading https://repo1.maven.org/maven2/software/amazon/awssdk/http-client-spi/2.17.178/http-client-spi-2.17.178.jar ...\n",
      "\t[SUCCESSFUL ] software.amazon.awssdk#http-client-spi;2.17.178!http-client-spi.jar (18ms)\n",
      "downloading https://repo1.maven.org/maven2/org/reactivestreams/reactive-streams/1.0.3/reactive-streams-1.0.3.jar ...\n",
      "\t[SUCCESSFUL ] org.reactivestreams#reactive-streams;1.0.3!reactive-streams.jar (14ms)\n",
      "downloading https://repo1.maven.org/maven2/org/slf4j/slf4j-api/1.7.30/slf4j-api-1.7.30.jar ...\n",
      "\t[SUCCESSFUL ] org.slf4j#slf4j-api;1.7.30!slf4j-api.jar (21ms)\n",
      "downloading https://repo1.maven.org/maven2/software/amazon/awssdk/metrics-spi/2.17.178/metrics-spi-2.17.178.jar ...\n",
      "\t[SUCCESSFUL ] software.amazon.awssdk#metrics-spi;2.17.178!metrics-spi.jar (26ms)\n",
      ":: resolution report :: resolve 5960ms :: artifacts dl 30456ms\n",
      "\t:: modules in use:\n",
      "\torg.apache.iceberg#iceberg-spark-runtime-3.2_2.12;1.4.2 from central in [default]\n",
      "\torg.projectnessie.nessie-integrations#nessie-spark-extensions-3.2_2.12;0.74.0 from central in [default]\n",
      "\torg.reactivestreams#reactive-streams;1.0.3 from central in [default]\n",
      "\torg.slf4j#slf4j-api;1.7.30 from central in [default]\n",
      "\tsoftware.amazon.awssdk#annotations;2.17.178 from central in [default]\n",
      "\tsoftware.amazon.awssdk#bundle;2.17.178 from central in [default]\n",
      "\tsoftware.amazon.awssdk#http-client-spi;2.17.178 from central in [default]\n",
      "\tsoftware.amazon.awssdk#metrics-spi;2.17.178 from central in [default]\n",
      "\tsoftware.amazon.awssdk#url-connection-client;2.17.178 from central in [default]\n",
      "\tsoftware.amazon.awssdk#utils;2.17.178 from central in [default]\n",
      "\tsoftware.amazon.eventstream#eventstream;1.0.1 from central in [default]\n",
      "\t---------------------------------------------------------------------\n",
      "\t|                  |            modules            ||   artifacts   |\n",
      "\t|       conf       | number| search|dwnlded|evicted|| number|dwnlded|\n",
      "\t---------------------------------------------------------------------\n",
      "\t|      default     |   11  |   11  |   11  |   0   ||   11  |   11  |\n",
      "\t---------------------------------------------------------------------\n",
      ":: retrieving :: org.apache.spark#spark-submit-parent-c2aa87fe-3bea-42b9-b719-ab8636785289\n",
      "\tconfs: [default]\n",
      "\t11 artifacts copied, 0 already retrieved (368283kB/208ms)\n",
      "23/12/04 21:38:53 WARN NativeCodeLoader: Unable to load native-hadoop library for your platform... using builtin-java classes where applicable\n",
      "Using Spark's default log4j profile: org/apache/spark/log4j-defaults.properties\n",
      "Setting default log level to \"WARN\".\n",
      "To adjust logging level use sc.setLogLevel(newLevel). For SparkR, use setLogLevel(newLevel).\n"
     ]
    }
   ],
   "source": [
    "spark = SparkSession.builder.config(conf=conf).getOrCreate()"
   ]
  },
  {
   "cell_type": "code",
   "execution_count": 5,
   "id": "369d610c-d75a-4556-956c-2f53fdffdd26",
   "metadata": {
    "execution": {
     "iopub.execute_input": "2023-12-04T21:38:57.429290Z",
     "iopub.status.busy": "2023-12-04T21:38:57.428996Z",
     "iopub.status.idle": "2023-12-04T21:39:01.247046Z",
     "shell.execute_reply": "2023-12-04T21:39:01.245628Z",
     "shell.execute_reply.started": "2023-12-04T21:38:57.429260Z"
    },
    "tags": []
   },
   "outputs": [
    {
     "name": "stderr",
     "output_type": "stream",
     "text": [
      "SLF4J: Failed to load class \"org.slf4j.impl.StaticLoggerBinder\".\n",
      "SLF4J: Defaulting to no-operation (NOP) logger implementation\n",
      "SLF4J: See http://www.slf4j.org/codes.html#StaticLoggerBinder for further details.\n"
     ]
    },
    {
     "name": "stdout",
     "output_type": "stream",
     "text": [
      "++\n",
      "||\n",
      "++\n",
      "++\n",
      "\n"
     ]
    }
   ],
   "source": [
    "spark.sql(\"CREATE TABLE nessie.names2 (name STRING) USING iceberg;\").show()"
   ]
  },
  {
   "cell_type": "code",
   "execution_count": 6,
   "id": "33d94af0-ebe1-467a-8636-d27598c37042",
   "metadata": {
    "execution": {
     "iopub.execute_input": "2023-12-04T21:39:01.248392Z",
     "iopub.status.busy": "2023-12-04T21:39:01.248059Z",
     "iopub.status.idle": "2023-12-04T21:39:04.030004Z",
     "shell.execute_reply": "2023-12-04T21:39:04.028295Z",
     "shell.execute_reply.started": "2023-12-04T21:39:01.248361Z"
    },
    "tags": []
   },
   "outputs": [
    {
     "name": "stderr",
     "output_type": "stream",
     "text": [
      "                                                                                \r"
     ]
    },
    {
     "data": {
      "text/plain": [
       "DataFrame[]"
      ]
     },
     "execution_count": 6,
     "metadata": {},
     "output_type": "execute_result"
    }
   ],
   "source": [
    "spark.sql(\"INSERT INTO nessie.names2 VALUES ('Alex Merced'), ('Dipankar Mazumdar'), ('Jason Hughes')\")"
   ]
  },
  {
   "cell_type": "code",
   "execution_count": 7,
   "id": "fa7782e9-dbef-4907-8dbf-86bbef4701b0",
   "metadata": {
    "execution": {
     "iopub.execute_input": "2023-12-04T21:39:04.032404Z",
     "iopub.status.busy": "2023-12-04T21:39:04.031967Z",
     "iopub.status.idle": "2023-12-04T21:39:05.403421Z",
     "shell.execute_reply": "2023-12-04T21:39:05.402272Z",
     "shell.execute_reply.started": "2023-12-04T21:39:04.032369Z"
    },
    "tags": []
   },
   "outputs": [
    {
     "name": "stderr",
     "output_type": "stream",
     "text": [
      "[Stage 1:>                                                          (0 + 1) / 1]\r"
     ]
    },
    {
     "name": "stdout",
     "output_type": "stream",
     "text": [
      "+-----------------+\n",
      "|             name|\n",
      "+-----------------+\n",
      "|      Alex Merced|\n",
      "|Dipankar Mazumdar|\n",
      "|     Jason Hughes|\n",
      "+-----------------+\n",
      "\n"
     ]
    },
    {
     "name": "stderr",
     "output_type": "stream",
     "text": [
      "                                                                                \r"
     ]
    }
   ],
   "source": [
    "spark.sql(\"SELECT * FROM nessie.names2;\").show()"
   ]
  },
  {
   "cell_type": "code",
   "execution_count": null,
   "id": "33001ff2-ca8e-44be-a8e7-ac5ae1f2647e",
   "metadata": {},
   "outputs": [],
   "source": [
    "s"
   ]
  }
 ],
 "metadata": {
  "kernelspec": {
   "display_name": "Python 3 (ipykernel)",
   "language": "python",
   "name": "python3"
  },
  "language_info": {
   "codemirror_mode": {
    "name": "ipython",
    "version": 3
   },
   "file_extension": ".py",
   "mimetype": "text/x-python",
   "name": "python",
   "nbconvert_exporter": "python",
   "pygments_lexer": "ipython3",
   "version": "3.10.12"
  }
 },
 "nbformat": 4,
 "nbformat_minor": 5
}
