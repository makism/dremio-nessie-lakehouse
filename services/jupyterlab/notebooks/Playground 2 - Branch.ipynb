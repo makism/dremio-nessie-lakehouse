{
 "cells": [
  {
   "cell_type": "markdown",
   "id": "11bff561-4ee5-4bdf-834c-25c5ea888b67",
   "metadata": {},
   "source": [
    "# Imports "
   ]
  },
  {
   "cell_type": "code",
   "execution_count": 1,
   "id": "ece2fcfb-fe6e-4a96-a581-bc3424424808",
   "metadata": {
    "execution": {
     "iopub.execute_input": "2023-12-06T18:26:31.598911Z",
     "iopub.status.busy": "2023-12-06T18:26:31.597847Z",
     "iopub.status.idle": "2023-12-06T18:26:31.791956Z",
     "shell.execute_reply": "2023-12-06T18:26:31.791299Z",
     "shell.execute_reply.started": "2023-12-06T18:26:31.598862Z"
    }
   },
   "outputs": [],
   "source": [
    "from common import getOrCreateSparkSession"
   ]
  },
  {
   "cell_type": "code",
   "execution_count": 2,
   "id": "a55df75f-6609-4405-b978-e15615cc1d53",
   "metadata": {
    "execution": {
     "iopub.execute_input": "2023-12-06T18:26:31.825097Z",
     "iopub.status.busy": "2023-12-06T18:26:31.824780Z",
     "iopub.status.idle": "2023-12-06T18:26:35.625520Z",
     "shell.execute_reply": "2023-12-06T18:26:35.624758Z",
     "shell.execute_reply.started": "2023-12-06T18:26:31.825074Z"
    }
   },
   "outputs": [
    {
     "name": "stdout",
     "output_type": "stream",
     "text": [
      ":: loading settings :: url = jar:file:/usr/local/lib/python3.10/dist-packages/pyspark/jars/ivy-2.5.1.jar!/org/apache/ivy/core/settings/ivysettings.xml\n"
     ]
    },
    {
     "name": "stderr",
     "output_type": "stream",
     "text": [
      "Ivy Default Cache set to: /root/.ivy2/cache\n",
      "The jars for the packages stored in: /root/.ivy2/jars\n",
      "org.apache.iceberg#iceberg-spark-runtime-3.2_2.12 added as a dependency\n",
      "org.projectnessie.nessie-integrations#nessie-spark-extensions-3.2_2.12 added as a dependency\n",
      ":: resolving dependencies :: org.apache.spark#spark-submit-parent-5e9af8a9-ae41-4e03-8243-c00dbe3f0fbb;1.0\n",
      "\tconfs: [default]\n",
      "\tfound org.apache.iceberg#iceberg-spark-runtime-3.2_2.12;1.4.2 in central\n",
      "\tfound org.projectnessie.nessie-integrations#nessie-spark-extensions-3.2_2.12;0.74.0 in central\n",
      ":: resolution report :: resolve 109ms :: artifacts dl 5ms\n",
      "\t:: modules in use:\n",
      "\torg.apache.iceberg#iceberg-spark-runtime-3.2_2.12;1.4.2 from central in [default]\n",
      "\torg.projectnessie.nessie-integrations#nessie-spark-extensions-3.2_2.12;0.74.0 from central in [default]\n",
      "\t---------------------------------------------------------------------\n",
      "\t|                  |            modules            ||   artifacts   |\n",
      "\t|       conf       | number| search|dwnlded|evicted|| number|dwnlded|\n",
      "\t---------------------------------------------------------------------\n",
      "\t|      default     |   2   |   0   |   0   |   0   ||   2   |   0   |\n",
      "\t---------------------------------------------------------------------\n",
      ":: retrieving :: org.apache.spark#spark-submit-parent-5e9af8a9-ae41-4e03-8243-c00dbe3f0fbb\n",
      "\tconfs: [default]\n",
      "\t0 artifacts copied, 2 already retrieved (0kB/4ms)\n",
      "23/12/06 18:26:33 WARN NativeCodeLoader: Unable to load native-hadoop library for your platform... using builtin-java classes where applicable\n",
      "Using Spark's default log4j profile: org/apache/spark/log4j-defaults.properties\n",
      "Setting default log level to \"WARN\".\n",
      "To adjust logging level use sc.setLogLevel(newLevel). For SparkR, use setLogLevel(newLevel).\n",
      "23/12/06 18:26:34 WARN Utils: Service 'SparkUI' could not bind on port 4040. Attempting port 4041.\n"
     ]
    }
   ],
   "source": [
    "spark = getOrCreateSparkSession()"
   ]
  },
  {
   "cell_type": "markdown",
   "id": "4567def9-04b7-431f-a523-f19a366c4584",
   "metadata": {},
   "source": [
    "# Branch out "
   ]
  },
  {
   "cell_type": "code",
   "execution_count": 4,
   "id": "ae3804b2-df14-4dec-ae5a-aba7ec4b38a4",
   "metadata": {
    "execution": {
     "iopub.execute_input": "2023-12-06T18:33:53.370894Z",
     "iopub.status.busy": "2023-12-06T18:33:53.370573Z",
     "iopub.status.idle": "2023-12-06T18:33:54.274287Z",
     "shell.execute_reply": "2023-12-06T18:33:54.273637Z",
     "shell.execute_reply.started": "2023-12-06T18:33:53.370868Z"
    },
    "tags": []
   },
   "outputs": [
    {
     "data": {
      "text/html": [
       "<div>\n",
       "<style scoped>\n",
       "    .dataframe tbody tr th:only-of-type {\n",
       "        vertical-align: middle;\n",
       "    }\n",
       "\n",
       "    .dataframe tbody tr th {\n",
       "        vertical-align: top;\n",
       "    }\n",
       "\n",
       "    .dataframe thead th {\n",
       "        text-align: right;\n",
       "    }\n",
       "</style>\n",
       "<table border=\"1\" class=\"dataframe\">\n",
       "  <thead>\n",
       "    <tr style=\"text-align: right;\">\n",
       "      <th></th>\n",
       "      <th>refType</th>\n",
       "      <th>name</th>\n",
       "      <th>hash</th>\n",
       "    </tr>\n",
       "  </thead>\n",
       "  <tbody>\n",
       "    <tr>\n",
       "      <th>0</th>\n",
       "      <td>Branch</td>\n",
       "      <td>dev</td>\n",
       "      <td>c7d26b422a1f7a0e6eac5ee670c3da8a5a6595e2e8e3e4...</td>\n",
       "    </tr>\n",
       "  </tbody>\n",
       "</table>\n",
       "</div>"
      ],
      "text/plain": [
       "  refType name                                               hash\n",
       "0  Branch  dev  c7d26b422a1f7a0e6eac5ee670c3da8a5a6595e2e8e3e4..."
      ]
     },
     "execution_count": 4,
     "metadata": {},
     "output_type": "execute_result"
    }
   ],
   "source": [
    "spark.sql(\"CREATE BRANCH dev IN nessie FROM main\").toPandas()"
   ]
  },
  {
   "cell_type": "code",
   "execution_count": 5,
   "id": "5e4b2009-ee64-4b77-9ee0-f9484598e7d0",
   "metadata": {
    "execution": {
     "iopub.execute_input": "2023-12-06T18:33:54.865378Z",
     "iopub.status.busy": "2023-12-06T18:33:54.865021Z",
     "iopub.status.idle": "2023-12-06T18:33:54.945319Z",
     "shell.execute_reply": "2023-12-06T18:33:54.944576Z",
     "shell.execute_reply.started": "2023-12-06T18:33:54.865346Z"
    },
    "tags": []
   },
   "outputs": [
    {
     "data": {
      "text/html": [
       "<div>\n",
       "<style scoped>\n",
       "    .dataframe tbody tr th:only-of-type {\n",
       "        vertical-align: middle;\n",
       "    }\n",
       "\n",
       "    .dataframe tbody tr th {\n",
       "        vertical-align: top;\n",
       "    }\n",
       "\n",
       "    .dataframe thead th {\n",
       "        text-align: right;\n",
       "    }\n",
       "</style>\n",
       "<table border=\"1\" class=\"dataframe\">\n",
       "  <thead>\n",
       "    <tr style=\"text-align: right;\">\n",
       "      <th></th>\n",
       "      <th>refType</th>\n",
       "      <th>name</th>\n",
       "      <th>hash</th>\n",
       "    </tr>\n",
       "  </thead>\n",
       "  <tbody>\n",
       "    <tr>\n",
       "      <th>0</th>\n",
       "      <td>Branch</td>\n",
       "      <td>dev</td>\n",
       "      <td>c7d26b422a1f7a0e6eac5ee670c3da8a5a6595e2e8e3e4...</td>\n",
       "    </tr>\n",
       "    <tr>\n",
       "      <th>1</th>\n",
       "      <td>Branch</td>\n",
       "      <td>main</td>\n",
       "      <td>c7d26b422a1f7a0e6eac5ee670c3da8a5a6595e2e8e3e4...</td>\n",
       "    </tr>\n",
       "  </tbody>\n",
       "</table>\n",
       "</div>"
      ],
      "text/plain": [
       "  refType  name                                               hash\n",
       "0  Branch   dev  c7d26b422a1f7a0e6eac5ee670c3da8a5a6595e2e8e3e4...\n",
       "1  Branch  main  c7d26b422a1f7a0e6eac5ee670c3da8a5a6595e2e8e3e4..."
      ]
     },
     "execution_count": 5,
     "metadata": {},
     "output_type": "execute_result"
    }
   ],
   "source": [
    "spark.sql(\"LIST REFERENCES IN nessie\").toPandas()"
   ]
  },
  {
   "cell_type": "code",
   "execution_count": 6,
   "id": "96f87b57-3f6e-4e0c-a258-8bda79b8124a",
   "metadata": {
    "execution": {
     "iopub.execute_input": "2023-12-06T18:36:16.772949Z",
     "iopub.status.busy": "2023-12-06T18:36:16.772437Z",
     "iopub.status.idle": "2023-12-06T18:36:16.842762Z",
     "shell.execute_reply": "2023-12-06T18:36:16.841997Z",
     "shell.execute_reply.started": "2023-12-06T18:36:16.772903Z"
    },
    "tags": []
   },
   "outputs": [
    {
     "data": {
      "text/html": [
       "<div>\n",
       "<style scoped>\n",
       "    .dataframe tbody tr th:only-of-type {\n",
       "        vertical-align: middle;\n",
       "    }\n",
       "\n",
       "    .dataframe tbody tr th {\n",
       "        vertical-align: top;\n",
       "    }\n",
       "\n",
       "    .dataframe thead th {\n",
       "        text-align: right;\n",
       "    }\n",
       "</style>\n",
       "<table border=\"1\" class=\"dataframe\">\n",
       "  <thead>\n",
       "    <tr style=\"text-align: right;\">\n",
       "      <th></th>\n",
       "      <th>refType</th>\n",
       "      <th>name</th>\n",
       "      <th>hash</th>\n",
       "    </tr>\n",
       "  </thead>\n",
       "  <tbody>\n",
       "    <tr>\n",
       "      <th>0</th>\n",
       "      <td>Branch</td>\n",
       "      <td>dev</td>\n",
       "      <td>c7d26b422a1f7a0e6eac5ee670c3da8a5a6595e2e8e3e4...</td>\n",
       "    </tr>\n",
       "  </tbody>\n",
       "</table>\n",
       "</div>"
      ],
      "text/plain": [
       "  refType name                                               hash\n",
       "0  Branch  dev  c7d26b422a1f7a0e6eac5ee670c3da8a5a6595e2e8e3e4..."
      ]
     },
     "execution_count": 6,
     "metadata": {},
     "output_type": "execute_result"
    }
   ],
   "source": [
    "spark.sql(\"USE REFERENCE dev IN nessie\").toPandas()"
   ]
  },
  {
   "cell_type": "code",
   "execution_count": 7,
   "id": "2ea608b5-7dd9-4ffc-ba2f-71ebe0bd7897",
   "metadata": {
    "execution": {
     "iopub.execute_input": "2023-12-06T18:36:23.574715Z",
     "iopub.status.busy": "2023-12-06T18:36:23.574284Z",
     "iopub.status.idle": "2023-12-06T18:36:24.023969Z",
     "shell.execute_reply": "2023-12-06T18:36:24.023091Z",
     "shell.execute_reply.started": "2023-12-06T18:36:23.574678Z"
    },
    "tags": []
   },
   "outputs": [
    {
     "data": {
      "text/html": [
       "<div>\n",
       "<style scoped>\n",
       "    .dataframe tbody tr th:only-of-type {\n",
       "        vertical-align: middle;\n",
       "    }\n",
       "\n",
       "    .dataframe tbody tr th {\n",
       "        vertical-align: top;\n",
       "    }\n",
       "\n",
       "    .dataframe thead th {\n",
       "        text-align: right;\n",
       "    }\n",
       "</style>\n",
       "<table border=\"1\" class=\"dataframe\">\n",
       "  <thead>\n",
       "    <tr style=\"text-align: right;\">\n",
       "      <th></th>\n",
       "    </tr>\n",
       "  </thead>\n",
       "  <tbody>\n",
       "  </tbody>\n",
       "</table>\n",
       "</div>"
      ],
      "text/plain": [
       "Empty DataFrame\n",
       "Columns: []\n",
       "Index: []"
      ]
     },
     "execution_count": 7,
     "metadata": {},
     "output_type": "execute_result"
    }
   ],
   "source": [
    "spark.sql(\n",
    "\"\"\"\n",
    "CREATE TABLE IF NOT EXISTS nessie.taxis.vendors (\n",
    "    vendor_id INT,\n",
    "    title STRING\n",
    ")\n",
    "USING iceberg;\n",
    "\"\"\"\n",
    ").toPandas()"
   ]
  },
  {
   "cell_type": "code",
   "execution_count": 8,
   "id": "a801481e-af63-4099-a904-7875261f2bf1",
   "metadata": {
    "execution": {
     "iopub.execute_input": "2023-12-06T18:36:24.811578Z",
     "iopub.status.busy": "2023-12-06T18:36:24.810699Z",
     "iopub.status.idle": "2023-12-06T18:36:25.019650Z",
     "shell.execute_reply": "2023-12-06T18:36:25.018428Z",
     "shell.execute_reply.started": "2023-12-06T18:36:24.811495Z"
    },
    "tags": []
   },
   "outputs": [
    {
     "data": {
      "text/html": [
       "<div>\n",
       "<style scoped>\n",
       "    .dataframe tbody tr th:only-of-type {\n",
       "        vertical-align: middle;\n",
       "    }\n",
       "\n",
       "    .dataframe tbody tr th {\n",
       "        vertical-align: top;\n",
       "    }\n",
       "\n",
       "    .dataframe thead th {\n",
       "        text-align: right;\n",
       "    }\n",
       "</style>\n",
       "<table border=\"1\" class=\"dataframe\">\n",
       "  <thead>\n",
       "    <tr style=\"text-align: right;\">\n",
       "      <th></th>\n",
       "      <th>namespace</th>\n",
       "      <th>tableName</th>\n",
       "      <th>isTemporary</th>\n",
       "    </tr>\n",
       "  </thead>\n",
       "  <tbody>\n",
       "    <tr>\n",
       "      <th>0</th>\n",
       "      <td>taxis</td>\n",
       "      <td>trips</td>\n",
       "      <td>False</td>\n",
       "    </tr>\n",
       "    <tr>\n",
       "      <th>1</th>\n",
       "      <td>taxis</td>\n",
       "      <td>vendors</td>\n",
       "      <td>False</td>\n",
       "    </tr>\n",
       "  </tbody>\n",
       "</table>\n",
       "</div>"
      ],
      "text/plain": [
       "  namespace tableName  isTemporary\n",
       "0     taxis     trips        False\n",
       "1     taxis   vendors        False"
      ]
     },
     "execution_count": 8,
     "metadata": {},
     "output_type": "execute_result"
    }
   ],
   "source": [
    "spark.sql(\"SHOW TABLES IN nessie;\").toPandas()"
   ]
  },
  {
   "cell_type": "code",
   "execution_count": 9,
   "id": "2dd6342a-cdf9-48cd-acbc-59e7144e2590",
   "metadata": {
    "execution": {
     "iopub.execute_input": "2023-12-06T18:36:28.698280Z",
     "iopub.status.busy": "2023-12-06T18:36:28.697268Z",
     "iopub.status.idle": "2023-12-06T18:36:30.874312Z",
     "shell.execute_reply": "2023-12-06T18:36:30.873616Z",
     "shell.execute_reply.started": "2023-12-06T18:36:28.698187Z"
    },
    "tags": []
   },
   "outputs": [
    {
     "name": "stderr",
     "output_type": "stream",
     "text": [
      "                                                                                \r"
     ]
    },
    {
     "data": {
      "text/html": [
       "<div>\n",
       "<style scoped>\n",
       "    .dataframe tbody tr th:only-of-type {\n",
       "        vertical-align: middle;\n",
       "    }\n",
       "\n",
       "    .dataframe tbody tr th {\n",
       "        vertical-align: top;\n",
       "    }\n",
       "\n",
       "    .dataframe thead th {\n",
       "        text-align: right;\n",
       "    }\n",
       "</style>\n",
       "<table border=\"1\" class=\"dataframe\">\n",
       "  <thead>\n",
       "    <tr style=\"text-align: right;\">\n",
       "      <th></th>\n",
       "    </tr>\n",
       "  </thead>\n",
       "  <tbody>\n",
       "  </tbody>\n",
       "</table>\n",
       "</div>"
      ],
      "text/plain": [
       "Empty DataFrame\n",
       "Columns: []\n",
       "Index: []"
      ]
     },
     "execution_count": 9,
     "metadata": {},
     "output_type": "execute_result"
    }
   ],
   "source": [
    "spark.sql(\n",
    "\"\"\"\n",
    "INSERT INTO nessie.taxis.vendors VALUES\n",
    "    (1, \"Yellow Taxi\"),\n",
    "    (10, \"We'll Get You There Compnay\"),\n",
    "    (4252, \"Not Uber\")\n",
    "\"\"\"\n",
    ").toPandas()"
   ]
  },
  {
   "cell_type": "code",
   "execution_count": 10,
   "id": "4e504d62-82cc-424d-9c98-4788e28d38d9",
   "metadata": {
    "execution": {
     "iopub.execute_input": "2023-12-06T18:44:22.796263Z",
     "iopub.status.busy": "2023-12-06T18:44:22.795899Z",
     "iopub.status.idle": "2023-12-06T18:44:23.523987Z",
     "shell.execute_reply": "2023-12-06T18:44:23.523259Z",
     "shell.execute_reply.started": "2023-12-06T18:44:22.796232Z"
    },
    "tags": []
   },
   "outputs": [
    {
     "data": {
      "text/html": [
       "<div>\n",
       "<style scoped>\n",
       "    .dataframe tbody tr th:only-of-type {\n",
       "        vertical-align: middle;\n",
       "    }\n",
       "\n",
       "    .dataframe tbody tr th {\n",
       "        vertical-align: top;\n",
       "    }\n",
       "\n",
       "    .dataframe thead th {\n",
       "        text-align: right;\n",
       "    }\n",
       "</style>\n",
       "<table border=\"1\" class=\"dataframe\">\n",
       "  <thead>\n",
       "    <tr style=\"text-align: right;\">\n",
       "      <th></th>\n",
       "      <th>total_vendors</th>\n",
       "    </tr>\n",
       "  </thead>\n",
       "  <tbody>\n",
       "    <tr>\n",
       "      <th>0</th>\n",
       "      <td>3</td>\n",
       "    </tr>\n",
       "  </tbody>\n",
       "</table>\n",
       "</div>"
      ],
      "text/plain": [
       "   total_vendors\n",
       "0              3"
      ]
     },
     "execution_count": 10,
     "metadata": {},
     "output_type": "execute_result"
    }
   ],
   "source": [
    "spark.sql(\"SELECT COUNT(*) AS total_vendors FROM nessie.taxis.vendors;\").toPandas()"
   ]
  },
  {
   "cell_type": "code",
   "execution_count": 11,
   "id": "0ecf3086-a086-419f-8d9b-6dfc9346b776",
   "metadata": {
    "execution": {
     "iopub.execute_input": "2023-12-06T18:44:24.246971Z",
     "iopub.status.busy": "2023-12-06T18:44:24.245200Z",
     "iopub.status.idle": "2023-12-06T18:44:24.419510Z",
     "shell.execute_reply": "2023-12-06T18:44:24.418687Z",
     "shell.execute_reply.started": "2023-12-06T18:44:24.246876Z"
    }
   },
   "outputs": [
    {
     "data": {
      "text/html": [
       "<div>\n",
       "<style scoped>\n",
       "    .dataframe tbody tr th:only-of-type {\n",
       "        vertical-align: middle;\n",
       "    }\n",
       "\n",
       "    .dataframe tbody tr th {\n",
       "        vertical-align: top;\n",
       "    }\n",
       "\n",
       "    .dataframe thead th {\n",
       "        text-align: right;\n",
       "    }\n",
       "</style>\n",
       "<table border=\"1\" class=\"dataframe\">\n",
       "  <thead>\n",
       "    <tr style=\"text-align: right;\">\n",
       "      <th></th>\n",
       "      <th>total_trips</th>\n",
       "    </tr>\n",
       "  </thead>\n",
       "  <tbody>\n",
       "    <tr>\n",
       "      <th>0</th>\n",
       "      <td>15</td>\n",
       "    </tr>\n",
       "  </tbody>\n",
       "</table>\n",
       "</div>"
      ],
      "text/plain": [
       "   total_trips\n",
       "0           15"
      ]
     },
     "execution_count": 11,
     "metadata": {},
     "output_type": "execute_result"
    }
   ],
   "source": [
    "spark.sql(\"SELECT COUNT(*) AS total_trips FROM nessie.taxis.trips;\").toPandas()"
   ]
  },
  {
   "cell_type": "code",
   "execution_count": 12,
   "id": "6655e2d7-4ebf-4cd7-a550-7d1ea2402eaf",
   "metadata": {
    "execution": {
     "iopub.execute_input": "2023-12-06T18:44:27.758005Z",
     "iopub.status.busy": "2023-12-06T18:44:27.757235Z",
     "iopub.status.idle": "2023-12-06T18:44:28.505194Z",
     "shell.execute_reply": "2023-12-06T18:44:28.504336Z",
     "shell.execute_reply.started": "2023-12-06T18:44:27.757931Z"
    },
    "tags": []
   },
   "outputs": [
    {
     "data": {
      "text/html": [
       "<div>\n",
       "<style scoped>\n",
       "    .dataframe tbody tr th:only-of-type {\n",
       "        vertical-align: middle;\n",
       "    }\n",
       "\n",
       "    .dataframe tbody tr th {\n",
       "        vertical-align: top;\n",
       "    }\n",
       "\n",
       "    .dataframe thead th {\n",
       "        text-align: right;\n",
       "    }\n",
       "</style>\n",
       "<table border=\"1\" class=\"dataframe\">\n",
       "  <thead>\n",
       "    <tr style=\"text-align: right;\">\n",
       "      <th></th>\n",
       "    </tr>\n",
       "  </thead>\n",
       "  <tbody>\n",
       "  </tbody>\n",
       "</table>\n",
       "</div>"
      ],
      "text/plain": [
       "Empty DataFrame\n",
       "Columns: []\n",
       "Index: []"
      ]
     },
     "execution_count": 12,
     "metadata": {},
     "output_type": "execute_result"
    }
   ],
   "source": [
    "spark.sql(\n",
    "\"\"\"\n",
    "CREATE OR REPLACE TEMPORARY VIEW new_trips USING csv\n",
    "OPTIONS (path \"/data/yellow_tripdata_sample_2019_02.csv\", header true);\n",
    "\"\"\"\n",
    ").toPandas()"
   ]
  },
  {
   "cell_type": "code",
   "execution_count": 13,
   "id": "af3b92a7-3645-4d74-aae5-8bc226ab0a3d",
   "metadata": {
    "execution": {
     "iopub.execute_input": "2023-12-06T18:44:32.672050Z",
     "iopub.status.busy": "2023-12-06T18:44:32.671499Z",
     "iopub.status.idle": "2023-12-06T18:44:33.028582Z",
     "shell.execute_reply": "2023-12-06T18:44:33.027914Z",
     "shell.execute_reply.started": "2023-12-06T18:44:32.672003Z"
    },
    "tags": []
   },
   "outputs": [
    {
     "data": {
      "text/html": [
       "<div>\n",
       "<style scoped>\n",
       "    .dataframe tbody tr th:only-of-type {\n",
       "        vertical-align: middle;\n",
       "    }\n",
       "\n",
       "    .dataframe tbody tr th {\n",
       "        vertical-align: top;\n",
       "    }\n",
       "\n",
       "    .dataframe thead th {\n",
       "        text-align: right;\n",
       "    }\n",
       "</style>\n",
       "<table border=\"1\" class=\"dataframe\">\n",
       "  <thead>\n",
       "    <tr style=\"text-align: right;\">\n",
       "      <th></th>\n",
       "    </tr>\n",
       "  </thead>\n",
       "  <tbody>\n",
       "  </tbody>\n",
       "</table>\n",
       "</div>"
      ],
      "text/plain": [
       "Empty DataFrame\n",
       "Columns: []\n",
       "Index: []"
      ]
     },
     "execution_count": 13,
     "metadata": {},
     "output_type": "execute_result"
    }
   ],
   "source": [
    "spark.sql(\"\"\"\n",
    "INSERT INTO nessie.taxis.trips\n",
    "SELECT \n",
    "    CAST(vendor_id AS INT),\n",
    "    CAST(pickup_datetime AS TIMESTAMP),\n",
    "    CAST(dropoff_datetime AS TIMESTAMP),\n",
    "    CAST(passenger_count AS INT),\n",
    "    CAST(pickup_location_id AS INT),\n",
    "    CAST(dropoff_location_id AS INT),\n",
    "    CAST(fare_amount AS FLOAT)\n",
    "FROM new_trips;\n",
    "\"\"\"\n",
    ").toPandas()"
   ]
  },
  {
   "cell_type": "code",
   "execution_count": 14,
   "id": "31df6e5c-bb5c-46d3-ba34-34f603901d0a",
   "metadata": {
    "execution": {
     "iopub.execute_input": "2023-12-06T18:44:34.127294Z",
     "iopub.status.busy": "2023-12-06T18:44:34.126791Z",
     "iopub.status.idle": "2023-12-06T18:44:34.231227Z",
     "shell.execute_reply": "2023-12-06T18:44:34.230479Z",
     "shell.execute_reply.started": "2023-12-06T18:44:34.127246Z"
    },
    "tags": []
   },
   "outputs": [
    {
     "data": {
      "text/html": [
       "<div>\n",
       "<style scoped>\n",
       "    .dataframe tbody tr th:only-of-type {\n",
       "        vertical-align: middle;\n",
       "    }\n",
       "\n",
       "    .dataframe tbody tr th {\n",
       "        vertical-align: top;\n",
       "    }\n",
       "\n",
       "    .dataframe thead th {\n",
       "        text-align: right;\n",
       "    }\n",
       "</style>\n",
       "<table border=\"1\" class=\"dataframe\">\n",
       "  <thead>\n",
       "    <tr style=\"text-align: right;\">\n",
       "      <th></th>\n",
       "      <th>count(1)</th>\n",
       "    </tr>\n",
       "  </thead>\n",
       "  <tbody>\n",
       "    <tr>\n",
       "      <th>0</th>\n",
       "      <td>20</td>\n",
       "    </tr>\n",
       "  </tbody>\n",
       "</table>\n",
       "</div>"
      ],
      "text/plain": [
       "   count(1)\n",
       "0        20"
      ]
     },
     "execution_count": 14,
     "metadata": {},
     "output_type": "execute_result"
    }
   ],
   "source": [
    "spark.sql(\"SELECT COUNT(*) FROM nessie.taxis.trips;\").toPandas()"
   ]
  },
  {
   "cell_type": "code",
   "execution_count": 16,
   "id": "7ef94e61-f100-40e2-902d-76ce216b0df0",
   "metadata": {
    "execution": {
     "iopub.execute_input": "2023-12-06T18:44:51.434122Z",
     "iopub.status.busy": "2023-12-06T18:44:51.433729Z",
     "iopub.status.idle": "2023-12-06T18:44:51.760260Z",
     "shell.execute_reply": "2023-12-06T18:44:51.759576Z",
     "shell.execute_reply.started": "2023-12-06T18:44:51.434088Z"
    },
    "tags": []
   },
   "outputs": [
    {
     "data": {
      "text/html": [
       "<div>\n",
       "<style scoped>\n",
       "    .dataframe tbody tr th:only-of-type {\n",
       "        vertical-align: middle;\n",
       "    }\n",
       "\n",
       "    .dataframe tbody tr th {\n",
       "        vertical-align: top;\n",
       "    }\n",
       "\n",
       "    .dataframe thead th {\n",
       "        text-align: right;\n",
       "    }\n",
       "</style>\n",
       "<table border=\"1\" class=\"dataframe\">\n",
       "  <thead>\n",
       "    <tr style=\"text-align: right;\">\n",
       "      <th></th>\n",
       "      <th>count(1)</th>\n",
       "    </tr>\n",
       "  </thead>\n",
       "  <tbody>\n",
       "    <tr>\n",
       "      <th>0</th>\n",
       "      <td>5</td>\n",
       "    </tr>\n",
       "  </tbody>\n",
       "</table>\n",
       "</div>"
      ],
      "text/plain": [
       "   count(1)\n",
       "0         5"
      ]
     },
     "execution_count": 16,
     "metadata": {},
     "output_type": "execute_result"
    }
   ],
   "source": [
    "spark.sql(\"SELECT COUNT(*) FROM new_trips;\").toPandas()"
   ]
  },
  {
   "cell_type": "code",
   "execution_count": 17,
   "id": "ca70efef-7606-43d1-9e33-02e2aa9a181a",
   "metadata": {
    "execution": {
     "iopub.execute_input": "2023-12-06T18:44:55.020266Z",
     "iopub.status.busy": "2023-12-06T18:44:55.019754Z",
     "iopub.status.idle": "2023-12-06T18:44:55.078315Z",
     "shell.execute_reply": "2023-12-06T18:44:55.077434Z",
     "shell.execute_reply.started": "2023-12-06T18:44:55.020221Z"
    }
   },
   "outputs": [
    {
     "data": {
      "text/html": [
       "<div>\n",
       "<style scoped>\n",
       "    .dataframe tbody tr th:only-of-type {\n",
       "        vertical-align: middle;\n",
       "    }\n",
       "\n",
       "    .dataframe tbody tr th {\n",
       "        vertical-align: top;\n",
       "    }\n",
       "\n",
       "    .dataframe thead th {\n",
       "        text-align: right;\n",
       "    }\n",
       "</style>\n",
       "<table border=\"1\" class=\"dataframe\">\n",
       "  <thead>\n",
       "    <tr style=\"text-align: right;\">\n",
       "      <th></th>\n",
       "    </tr>\n",
       "  </thead>\n",
       "  <tbody>\n",
       "  </tbody>\n",
       "</table>\n",
       "</div>"
      ],
      "text/plain": [
       "Empty DataFrame\n",
       "Columns: []\n",
       "Index: []"
      ]
     },
     "execution_count": 17,
     "metadata": {},
     "output_type": "execute_result"
    }
   ],
   "source": [
    "spark.sql(\"DROP TABLE new_trips;\").toPandas()"
   ]
  },
  {
   "cell_type": "markdown",
   "id": "a5ef40be-1b29-4f85-98ca-b3f4bbc137b3",
   "metadata": {},
   "source": [
    "# Merge back into `@main`"
   ]
  },
  {
   "cell_type": "code",
   "execution_count": 18,
   "id": "e8965537-512b-479d-85ec-48b096242f37",
   "metadata": {
    "execution": {
     "iopub.execute_input": "2023-12-06T18:47:32.674148Z",
     "iopub.status.busy": "2023-12-06T18:47:32.671735Z",
     "iopub.status.idle": "2023-12-06T18:47:32.733021Z",
     "shell.execute_reply": "2023-12-06T18:47:32.732082Z",
     "shell.execute_reply.started": "2023-12-06T18:47:32.674050Z"
    },
    "tags": []
   },
   "outputs": [
    {
     "data": {
      "text/html": [
       "<div>\n",
       "<style scoped>\n",
       "    .dataframe tbody tr th:only-of-type {\n",
       "        vertical-align: middle;\n",
       "    }\n",
       "\n",
       "    .dataframe tbody tr th {\n",
       "        vertical-align: top;\n",
       "    }\n",
       "\n",
       "    .dataframe thead th {\n",
       "        text-align: right;\n",
       "    }\n",
       "</style>\n",
       "<table border=\"1\" class=\"dataframe\">\n",
       "  <thead>\n",
       "    <tr style=\"text-align: right;\">\n",
       "      <th></th>\n",
       "      <th>namespace</th>\n",
       "      <th>tableName</th>\n",
       "      <th>isTemporary</th>\n",
       "    </tr>\n",
       "  </thead>\n",
       "  <tbody>\n",
       "    <tr>\n",
       "      <th>0</th>\n",
       "      <td>taxis</td>\n",
       "      <td>trips</td>\n",
       "      <td>False</td>\n",
       "    </tr>\n",
       "    <tr>\n",
       "      <th>1</th>\n",
       "      <td>taxis</td>\n",
       "      <td>vendors</td>\n",
       "      <td>False</td>\n",
       "    </tr>\n",
       "  </tbody>\n",
       "</table>\n",
       "</div>"
      ],
      "text/plain": [
       "  namespace tableName  isTemporary\n",
       "0     taxis     trips        False\n",
       "1     taxis   vendors        False"
      ]
     },
     "execution_count": 18,
     "metadata": {},
     "output_type": "execute_result"
    }
   ],
   "source": [
    "spark.sql(\"SHOW TABLES IN nessie\").toPandas()"
   ]
  },
  {
   "cell_type": "code",
   "execution_count": 20,
   "id": "30c58c67-888f-4d0c-8f5b-cbf6866c7d5b",
   "metadata": {
    "execution": {
     "iopub.execute_input": "2023-12-06T18:47:48.056821Z",
     "iopub.status.busy": "2023-12-06T18:47:48.056119Z",
     "iopub.status.idle": "2023-12-06T18:47:48.209751Z",
     "shell.execute_reply": "2023-12-06T18:47:48.208876Z",
     "shell.execute_reply.started": "2023-12-06T18:47:48.056771Z"
    },
    "tags": []
   },
   "outputs": [
    {
     "data": {
      "text/html": [
       "<div>\n",
       "<style scoped>\n",
       "    .dataframe tbody tr th:only-of-type {\n",
       "        vertical-align: middle;\n",
       "    }\n",
       "\n",
       "    .dataframe tbody tr th {\n",
       "        vertical-align: top;\n",
       "    }\n",
       "\n",
       "    .dataframe thead th {\n",
       "        text-align: right;\n",
       "    }\n",
       "</style>\n",
       "<table border=\"1\" class=\"dataframe\">\n",
       "  <thead>\n",
       "    <tr style=\"text-align: right;\">\n",
       "      <th></th>\n",
       "      <th>name</th>\n",
       "      <th>hash</th>\n",
       "    </tr>\n",
       "  </thead>\n",
       "  <tbody>\n",
       "    <tr>\n",
       "      <th>0</th>\n",
       "      <td>main</td>\n",
       "      <td>1de998576faf154bf496cb3262ac45472e406eac2bb2a1...</td>\n",
       "    </tr>\n",
       "  </tbody>\n",
       "</table>\n",
       "</div>"
      ],
      "text/plain": [
       "   name                                               hash\n",
       "0  main  1de998576faf154bf496cb3262ac45472e406eac2bb2a1..."
      ]
     },
     "execution_count": 20,
     "metadata": {},
     "output_type": "execute_result"
    }
   ],
   "source": [
    "spark.sql(\"MERGE BRANCH dev INTO main IN nessie\").toPandas()"
   ]
  },
  {
   "cell_type": "code",
   "execution_count": 21,
   "id": "bcacbe7e-61e6-42ff-8821-250238190aa8",
   "metadata": {
    "execution": {
     "iopub.execute_input": "2023-12-06T18:47:51.261886Z",
     "iopub.status.busy": "2023-12-06T18:47:51.260727Z",
     "iopub.status.idle": "2023-12-06T18:47:51.331459Z",
     "shell.execute_reply": "2023-12-06T18:47:51.330665Z",
     "shell.execute_reply.started": "2023-12-06T18:47:51.261784Z"
    }
   },
   "outputs": [
    {
     "data": {
      "text/html": [
       "<div>\n",
       "<style scoped>\n",
       "    .dataframe tbody tr th:only-of-type {\n",
       "        vertical-align: middle;\n",
       "    }\n",
       "\n",
       "    .dataframe tbody tr th {\n",
       "        vertical-align: top;\n",
       "    }\n",
       "\n",
       "    .dataframe thead th {\n",
       "        text-align: right;\n",
       "    }\n",
       "</style>\n",
       "<table border=\"1\" class=\"dataframe\">\n",
       "  <thead>\n",
       "    <tr style=\"text-align: right;\">\n",
       "      <th></th>\n",
       "      <th>refType</th>\n",
       "      <th>name</th>\n",
       "      <th>hash</th>\n",
       "    </tr>\n",
       "  </thead>\n",
       "  <tbody>\n",
       "    <tr>\n",
       "      <th>0</th>\n",
       "      <td>Branch</td>\n",
       "      <td>main</td>\n",
       "      <td>1de998576faf154bf496cb3262ac45472e406eac2bb2a1...</td>\n",
       "    </tr>\n",
       "  </tbody>\n",
       "</table>\n",
       "</div>"
      ],
      "text/plain": [
       "  refType  name                                               hash\n",
       "0  Branch  main  1de998576faf154bf496cb3262ac45472e406eac2bb2a1..."
      ]
     },
     "execution_count": 21,
     "metadata": {},
     "output_type": "execute_result"
    }
   ],
   "source": [
    "spark.sql(\"USE REFERENCE main IN nessie\").toPandas()"
   ]
  },
  {
   "cell_type": "code",
   "execution_count": 22,
   "id": "8d7d9be7-1554-474b-9a14-d28bbdeae213",
   "metadata": {
    "execution": {
     "iopub.execute_input": "2023-12-06T18:47:51.524068Z",
     "iopub.status.busy": "2023-12-06T18:47:51.523507Z",
     "iopub.status.idle": "2023-12-06T18:47:51.581095Z",
     "shell.execute_reply": "2023-12-06T18:47:51.580277Z",
     "shell.execute_reply.started": "2023-12-06T18:47:51.524022Z"
    },
    "tags": []
   },
   "outputs": [
    {
     "data": {
      "text/html": [
       "<div>\n",
       "<style scoped>\n",
       "    .dataframe tbody tr th:only-of-type {\n",
       "        vertical-align: middle;\n",
       "    }\n",
       "\n",
       "    .dataframe tbody tr th {\n",
       "        vertical-align: top;\n",
       "    }\n",
       "\n",
       "    .dataframe thead th {\n",
       "        text-align: right;\n",
       "    }\n",
       "</style>\n",
       "<table border=\"1\" class=\"dataframe\">\n",
       "  <thead>\n",
       "    <tr style=\"text-align: right;\">\n",
       "      <th></th>\n",
       "      <th>namespace</th>\n",
       "      <th>tableName</th>\n",
       "      <th>isTemporary</th>\n",
       "    </tr>\n",
       "  </thead>\n",
       "  <tbody>\n",
       "    <tr>\n",
       "      <th>0</th>\n",
       "      <td>taxis</td>\n",
       "      <td>trips</td>\n",
       "      <td>False</td>\n",
       "    </tr>\n",
       "    <tr>\n",
       "      <th>1</th>\n",
       "      <td>taxis</td>\n",
       "      <td>vendors</td>\n",
       "      <td>False</td>\n",
       "    </tr>\n",
       "  </tbody>\n",
       "</table>\n",
       "</div>"
      ],
      "text/plain": [
       "  namespace tableName  isTemporary\n",
       "0     taxis     trips        False\n",
       "1     taxis   vendors        False"
      ]
     },
     "execution_count": 22,
     "metadata": {},
     "output_type": "execute_result"
    }
   ],
   "source": [
    "spark.sql(\"SHOW TABLES IN nessie\").toPandas()"
   ]
  },
  {
   "cell_type": "code",
   "execution_count": 23,
   "id": "2b350be1-1934-4405-aede-50183e4b73bf",
   "metadata": {
    "execution": {
     "iopub.execute_input": "2023-12-06T18:47:54.322981Z",
     "iopub.status.busy": "2023-12-06T18:47:54.322347Z",
     "iopub.status.idle": "2023-12-06T18:47:54.439619Z",
     "shell.execute_reply": "2023-12-06T18:47:54.438774Z",
     "shell.execute_reply.started": "2023-12-06T18:47:54.322922Z"
    },
    "tags": []
   },
   "outputs": [
    {
     "data": {
      "text/html": [
       "<div>\n",
       "<style scoped>\n",
       "    .dataframe tbody tr th:only-of-type {\n",
       "        vertical-align: middle;\n",
       "    }\n",
       "\n",
       "    .dataframe tbody tr th {\n",
       "        vertical-align: top;\n",
       "    }\n",
       "\n",
       "    .dataframe thead th {\n",
       "        text-align: right;\n",
       "    }\n",
       "</style>\n",
       "<table border=\"1\" class=\"dataframe\">\n",
       "  <thead>\n",
       "    <tr style=\"text-align: right;\">\n",
       "      <th></th>\n",
       "      <th>count(1)</th>\n",
       "    </tr>\n",
       "  </thead>\n",
       "  <tbody>\n",
       "    <tr>\n",
       "      <th>0</th>\n",
       "      <td>20</td>\n",
       "    </tr>\n",
       "  </tbody>\n",
       "</table>\n",
       "</div>"
      ],
      "text/plain": [
       "   count(1)\n",
       "0        20"
      ]
     },
     "execution_count": 23,
     "metadata": {},
     "output_type": "execute_result"
    }
   ],
   "source": [
    "spark.sql(\"SELECT COUNT(*) FROM nessie.taxis.trips\").toPandas()"
   ]
  },
  {
   "cell_type": "markdown",
   "id": "146b8d53-abec-45d2-8e4a-7f6dc8845672",
   "metadata": {},
   "source": [
    "# Clean Up"
   ]
  },
  {
   "cell_type": "code",
   "execution_count": 25,
   "id": "08450639-114d-43f9-a6de-246656d22bdf",
   "metadata": {
    "execution": {
     "iopub.execute_input": "2023-12-06T18:48:07.410455Z",
     "iopub.status.busy": "2023-12-06T18:48:07.409156Z",
     "iopub.status.idle": "2023-12-06T18:48:07.462313Z",
     "shell.execute_reply": "2023-12-06T18:48:07.461369Z",
     "shell.execute_reply.started": "2023-12-06T18:48:07.410407Z"
    },
    "tags": []
   },
   "outputs": [
    {
     "data": {
      "text/html": [
       "<div>\n",
       "<style scoped>\n",
       "    .dataframe tbody tr th:only-of-type {\n",
       "        vertical-align: middle;\n",
       "    }\n",
       "\n",
       "    .dataframe tbody tr th {\n",
       "        vertical-align: top;\n",
       "    }\n",
       "\n",
       "    .dataframe thead th {\n",
       "        text-align: right;\n",
       "    }\n",
       "</style>\n",
       "<table border=\"1\" class=\"dataframe\">\n",
       "  <thead>\n",
       "    <tr style=\"text-align: right;\">\n",
       "      <th></th>\n",
       "      <th>status</th>\n",
       "    </tr>\n",
       "  </thead>\n",
       "  <tbody>\n",
       "    <tr>\n",
       "      <th>0</th>\n",
       "      <td>OK</td>\n",
       "    </tr>\n",
       "  </tbody>\n",
       "</table>\n",
       "</div>"
      ],
      "text/plain": [
       "  status\n",
       "0     OK"
      ]
     },
     "execution_count": 25,
     "metadata": {},
     "output_type": "execute_result"
    }
   ],
   "source": [
    "spark.sql(\"DROP BRANCH IF EXISTS dev IN nessie\").toPandas()"
   ]
  }
 ],
 "metadata": {
  "kernelspec": {
   "display_name": "Python 3 (ipykernel)",
   "language": "python",
   "name": "python3"
  },
  "language_info": {
   "codemirror_mode": {
    "name": "ipython",
    "version": 3
   },
   "file_extension": ".py",
   "mimetype": "text/x-python",
   "name": "python",
   "nbconvert_exporter": "python",
   "pygments_lexer": "ipython3",
   "version": "3.10.12"
  }
 },
 "nbformat": 4,
 "nbformat_minor": 5
}
