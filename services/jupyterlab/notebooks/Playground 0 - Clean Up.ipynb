{
 "cells": [
  {
   "cell_type": "markdown",
   "id": "11bff561-4ee5-4bdf-834c-25c5ea888b67",
   "metadata": {},
   "source": [
    "# Imports "
   ]
  },
  {
   "cell_type": "code",
   "execution_count": 2,
   "id": "c1bfeca8-9ab0-4b91-a417-0b9a57d1fbde",
   "metadata": {
    "execution": {
     "iopub.execute_input": "2023-12-06T18:33:36.539815Z",
     "iopub.status.busy": "2023-12-06T18:33:36.538983Z",
     "iopub.status.idle": "2023-12-06T18:33:36.736523Z",
     "shell.execute_reply": "2023-12-06T18:33:36.735869Z",
     "shell.execute_reply.started": "2023-12-06T18:33:36.539782Z"
    },
    "tags": []
   },
   "outputs": [],
   "source": [
    "from common import getOrCreateSparkSession"
   ]
  },
  {
   "cell_type": "code",
   "execution_count": 3,
   "id": "d631e748-5113-4e66-934f-158ae67aa1d5",
   "metadata": {
    "execution": {
     "iopub.execute_input": "2023-12-06T18:33:36.737741Z",
     "iopub.status.busy": "2023-12-06T18:33:36.737480Z",
     "iopub.status.idle": "2023-12-06T18:33:40.590633Z",
     "shell.execute_reply": "2023-12-06T18:33:40.589859Z",
     "shell.execute_reply.started": "2023-12-06T18:33:36.737722Z"
    },
    "tags": []
   },
   "outputs": [
    {
     "name": "stdout",
     "output_type": "stream",
     "text": [
      ":: loading settings :: url = jar:file:/usr/local/lib/python3.10/dist-packages/pyspark/jars/ivy-2.5.1.jar!/org/apache/ivy/core/settings/ivysettings.xml\n"
     ]
    },
    {
     "name": "stderr",
     "output_type": "stream",
     "text": [
      "Ivy Default Cache set to: /root/.ivy2/cache\n",
      "The jars for the packages stored in: /root/.ivy2/jars\n",
      "org.apache.iceberg#iceberg-spark-runtime-3.2_2.12 added as a dependency\n",
      "org.projectnessie.nessie-integrations#nessie-spark-extensions-3.2_2.12 added as a dependency\n",
      ":: resolving dependencies :: org.apache.spark#spark-submit-parent-29f161ff-4f33-4d8d-b7bb-1a52f390c805;1.0\n",
      "\tconfs: [default]\n",
      "\tfound org.apache.iceberg#iceberg-spark-runtime-3.2_2.12;1.4.2 in central\n",
      "\tfound org.projectnessie.nessie-integrations#nessie-spark-extensions-3.2_2.12;0.74.0 in central\n",
      ":: resolution report :: resolve 110ms :: artifacts dl 5ms\n",
      "\t:: modules in use:\n",
      "\torg.apache.iceberg#iceberg-spark-runtime-3.2_2.12;1.4.2 from central in [default]\n",
      "\torg.projectnessie.nessie-integrations#nessie-spark-extensions-3.2_2.12;0.74.0 from central in [default]\n",
      "\t---------------------------------------------------------------------\n",
      "\t|                  |            modules            ||   artifacts   |\n",
      "\t|       conf       | number| search|dwnlded|evicted|| number|dwnlded|\n",
      "\t---------------------------------------------------------------------\n",
      "\t|      default     |   2   |   0   |   0   |   0   ||   2   |   0   |\n",
      "\t---------------------------------------------------------------------\n",
      ":: retrieving :: org.apache.spark#spark-submit-parent-29f161ff-4f33-4d8d-b7bb-1a52f390c805\n",
      "\tconfs: [default]\n",
      "\t0 artifacts copied, 2 already retrieved (0kB/4ms)\n",
      "23/12/06 18:33:38 WARN NativeCodeLoader: Unable to load native-hadoop library for your platform... using builtin-java classes where applicable\n",
      "Using Spark's default log4j profile: org/apache/spark/log4j-defaults.properties\n",
      "Setting default log level to \"WARN\".\n",
      "To adjust logging level use sc.setLogLevel(newLevel). For SparkR, use setLogLevel(newLevel).\n",
      "23/12/06 18:33:39 WARN Utils: Service 'SparkUI' could not bind on port 4040. Attempting port 4041.\n",
      "23/12/06 18:33:39 WARN Utils: Service 'SparkUI' could not bind on port 4041. Attempting port 4042.\n"
     ]
    }
   ],
   "source": [
    "spark = getOrCreateSparkSession()"
   ]
  },
  {
   "cell_type": "markdown",
   "id": "8c4932e3-68f5-494e-9926-a4641173af29",
   "metadata": {},
   "source": [
    "# Clean Up"
   ]
  },
  {
   "cell_type": "code",
   "execution_count": null,
   "id": "4e01c2fe-926d-4411-8fb9-d2197c54df12",
   "metadata": {
    "tags": []
   },
   "outputs": [],
   "source": [
    "spark.sql(\"DROP TABLE IF EXISTS nessie.taxis.trips\").toPandas()"
   ]
  },
  {
   "cell_type": "code",
   "execution_count": null,
   "id": "392476d3-1e14-4901-ae8f-ff05449e49b4",
   "metadata": {},
   "outputs": [],
   "source": [
    "spark.sql(\"DROP TABLE IF EXISTS nessie.taxis.new_trips\").toPandas()"
   ]
  },
  {
   "cell_type": "code",
   "execution_count": null,
   "id": "cd10047a-18d1-418e-a71a-eddbef677155",
   "metadata": {},
   "outputs": [],
   "source": [
    "spark.sql(\"DROP TABLE IF EXISTS nessie.taxis.trips_table\").toPandas()"
   ]
  },
  {
   "cell_type": "code",
   "execution_count": 5,
   "id": "8c389433-0936-4cbe-a4ee-d5227b05fc81",
   "metadata": {
    "execution": {
     "iopub.execute_input": "2023-12-06T18:33:40.998476Z",
     "iopub.status.busy": "2023-12-06T18:33:40.997914Z",
     "iopub.status.idle": "2023-12-06T18:33:44.336327Z",
     "shell.execute_reply": "2023-12-06T18:33:44.335489Z",
     "shell.execute_reply.started": "2023-12-06T18:33:40.998425Z"
    },
    "tags": []
   },
   "outputs": [
    {
     "data": {
      "text/html": [
       "<div>\n",
       "<style scoped>\n",
       "    .dataframe tbody tr th:only-of-type {\n",
       "        vertical-align: middle;\n",
       "    }\n",
       "\n",
       "    .dataframe tbody tr th {\n",
       "        vertical-align: top;\n",
       "    }\n",
       "\n",
       "    .dataframe thead th {\n",
       "        text-align: right;\n",
       "    }\n",
       "</style>\n",
       "<table border=\"1\" class=\"dataframe\">\n",
       "  <thead>\n",
       "    <tr style=\"text-align: right;\">\n",
       "      <th></th>\n",
       "      <th>status</th>\n",
       "    </tr>\n",
       "  </thead>\n",
       "  <tbody>\n",
       "    <tr>\n",
       "      <th>0</th>\n",
       "      <td>OK</td>\n",
       "    </tr>\n",
       "  </tbody>\n",
       "</table>\n",
       "</div>"
      ],
      "text/plain": [
       "  status\n",
       "0     OK"
      ]
     },
     "execution_count": 5,
     "metadata": {},
     "output_type": "execute_result"
    }
   ],
   "source": [
    "spark.sql(\"DROP BRANCH IF EXISTS dev IN nessie\").toPandas()"
   ]
  },
  {
   "cell_type": "code",
   "execution_count": null,
   "id": "3b86fa5f-5bf3-4041-8433-7bc0a8fe121f",
   "metadata": {},
   "outputs": [],
   "source": [
    "spark.sql(\"DROP NAMESPACE IF EXISTS nessie.taxis;\").toPandas()"
   ]
  }
 ],
 "metadata": {
  "kernelspec": {
   "display_name": "Python 3 (ipykernel)",
   "language": "python",
   "name": "python3"
  },
  "language_info": {
   "codemirror_mode": {
    "name": "ipython",
    "version": 3
   },
   "file_extension": ".py",
   "mimetype": "text/x-python",
   "name": "python",
   "nbconvert_exporter": "python",
   "pygments_lexer": "ipython3",
   "version": "3.10.12"
  }
 },
 "nbformat": 4,
 "nbformat_minor": 5
}
