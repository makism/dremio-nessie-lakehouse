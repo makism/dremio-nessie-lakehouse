{
 "cells": [
  {
   "cell_type": "code",
   "execution_count": null,
   "id": "97ca831c-6b0a-4756-86b7-26f7bfa4b36c",
   "metadata": {},
   "outputs": [],
   "source": [
    "import os"
   ]
  },
  {
   "cell_type": "code",
   "execution_count": null,
   "id": "c292ef2e-b644-45cf-baa8-7be4a3af7dae",
   "metadata": {
    "tags": []
   },
   "outputs": [],
   "source": [
    "import pyspark\n",
    "from pyspark.sql import SparkSession"
   ]
  },
  {
   "cell_type": "code",
   "execution_count": null,
   "id": "5830a2e9-1e86-4422-aa43-eb4b21ed2eaf",
   "metadata": {
    "tags": []
   },
   "outputs": [],
   "source": [
    "NESSIE_URI = \"http://nessie:19120/api/v1\"\n",
    "AWS_ACCESS_KEY = \"minio\"\n",
    "AWS_SECRET_KEY = \"minio123\"\n",
    "AWS_S3_ENDPOINT = \"http://minio:9000\"\n",
    "WAREHOUSE = \"s3a://lake/\""
   ]
  },
  {
   "cell_type": "code",
   "execution_count": null,
   "id": "adda2840-a3a5-4b92-b0ed-568e9efc1e5c",
   "metadata": {
    "tags": []
   },
   "outputs": [],
   "source": [
    "conf = (\n",
    "    pyspark.SparkConf()\n",
    "        .setAppName('app_name')\n",
    "        .set(\"spark.sql.execution.pyarrow.enabled\", \"true\")\n",
    "        .set(\n",
    "            \"spark.jars.packages\",\n",
    "            f\"org.apache.iceberg:iceberg-spark-runtime-3.2_2.12:1.4.2,org.projectnessie.nessie-integrations:nessie-spark-extensions-3.2_2.12:0.74.0\",\n",
    "        )\n",
    "        .set('spark.sql.catalog.nessie', 'org.apache.iceberg.spark.SparkCatalog')\n",
    "        .set('spark.sql.catalog.nessie.uri', NESSIE_URI)\n",
    "        .set('spark.sql.catalog.nessie.ref', 'main')\n",
    "        .set('spark.sql.catalog.nessie.authentication.type', 'NONE')\n",
    "        .set('spark.sql.catalog.nessie.catalog-impl', 'org.apache.iceberg.nessie.NessieCatalog')\n",
    "        .set(\"spark.sql.catalog.nessie.warehouse\", \"file://\" + os.getcwd() + \"/spark_warehouse/iceberg\")\n",
    "        .set('spark.hadoop.fs.s3a.access.key', 'minio')\n",
    "        .set('spark.hadoop.fs.s3a.secret.key', 'minio123')\n",
    "        .set('spark.hadoop.fs.s3a.endpoint', \"http://minio:9000\")\n",
    "        .set('spark.hadoop.fs.s3a.connection.ssl.enabled', \"false\")\n",
    "        .set('spark.hadoop.fs.s3a.path.style.access', \"true\")\n",
    "        .set(\n",
    "            \"spark.sql.extensions\",\n",
    "            \"org.apache.iceberg.spark.extensions.IcebergSparkSessionExtensions,org.projectnessie.spark.extensions.NessieSparkSessionExtensions\",\n",
    "        )\n",
    ")"
   ]
  },
  {
   "cell_type": "code",
   "execution_count": null,
   "id": "350163c7-daab-4e4b-9f1b-15220855eac5",
   "metadata": {
    "tags": []
   },
   "outputs": [],
   "source": [
    "spark = SparkSession.builder.config(conf=conf).getOrCreate()"
   ]
  },
  {
   "cell_type": "code",
   "execution_count": null,
   "id": "369d610c-d75a-4556-956c-2f53fdffdd26",
   "metadata": {
    "tags": []
   },
   "outputs": [],
   "source": [
    "spark.sql(\"CREATE TABLE nessie.names (name STRING) USING iceberg;\").show()"
   ]
  },
  {
   "cell_type": "code",
   "execution_count": null,
   "id": "33d94af0-ebe1-467a-8636-d27598c37042",
   "metadata": {
    "tags": []
   },
   "outputs": [],
   "source": [
    "spark.sql(\"INSERT INTO nessie.names VALUES ('Alex Merced'), ('Dipankar Mazumdar'), ('Jason Hughes')\")"
   ]
  },
  {
   "cell_type": "code",
   "execution_count": null,
   "id": "fa7782e9-dbef-4907-8dbf-86bbef4701b0",
   "metadata": {
    "tags": []
   },
   "outputs": [],
   "source": [
    "spark.sql(\"SELECT * FROM nessie.names;\").show()"
   ]
  }
 ],
 "metadata": {
  "kernelspec": {
   "display_name": "Python 3 (ipykernel)",
   "language": "python",
   "name": "python3"
  },
  "language_info": {
   "codemirror_mode": {
    "name": "ipython",
    "version": 3
   },
   "file_extension": ".py",
   "mimetype": "text/x-python",
   "name": "python",
   "nbconvert_exporter": "python",
   "pygments_lexer": "ipython3",
   "version": "3.10.12"
  }
 },
 "nbformat": 4,
 "nbformat_minor": 5
}
