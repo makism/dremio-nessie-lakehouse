{
 "cells": [
  {
   "cell_type": "code",
   "execution_count": 1,
   "id": "2ff1ba06-e3c7-4713-b0fc-0d5a521417ec",
   "metadata": {
    "execution": {
     "iopub.execute_input": "2023-12-04T20:54:41.633907Z",
     "iopub.status.busy": "2023-12-04T20:54:41.632194Z",
     "iopub.status.idle": "2023-12-04T20:54:41.643186Z",
     "shell.execute_reply": "2023-12-04T20:54:41.641342Z",
     "shell.execute_reply.started": "2023-12-04T20:54:41.633858Z"
    },
    "tags": []
   },
   "outputs": [],
   "source": [
    "# import os\n",
    "# os.environ['PYSPARK_SUBMIT_ARGS'] = \"--packages org.apache.iceberg:iceberg-spark-runtime-3.2_2.12:1.4.2,org.projectnessie.nessie-integrations:nessie-spark-extensions-3.2_2.12:0.74.0,com.amazonaws:aws-java-sdk-bundle:1.12.26 pyspark-shell\""
   ]
  },
  {
   "cell_type": "code",
   "execution_count": 2,
   "id": "97ca831c-6b0a-4756-86b7-26f7bfa4b36c",
   "metadata": {
    "execution": {
     "iopub.execute_input": "2023-12-04T20:54:41.645961Z",
     "iopub.status.busy": "2023-12-04T20:54:41.645077Z",
     "iopub.status.idle": "2023-12-04T20:54:41.657328Z",
     "shell.execute_reply": "2023-12-04T20:54:41.656343Z",
     "shell.execute_reply.started": "2023-12-04T20:54:41.645903Z"
    }
   },
   "outputs": [],
   "source": [
    "import os"
   ]
  },
  {
   "cell_type": "code",
   "execution_count": 3,
   "id": "c292ef2e-b644-45cf-baa8-7be4a3af7dae",
   "metadata": {
    "execution": {
     "iopub.execute_input": "2023-12-04T20:54:41.658922Z",
     "iopub.status.busy": "2023-12-04T20:54:41.658548Z",
     "iopub.status.idle": "2023-12-04T20:54:41.841737Z",
     "shell.execute_reply": "2023-12-04T20:54:41.841176Z",
     "shell.execute_reply.started": "2023-12-04T20:54:41.658885Z"
    },
    "tags": []
   },
   "outputs": [],
   "source": [
    "import pyspark\n",
    "from pyspark.sql import SparkSession"
   ]
  },
  {
   "cell_type": "code",
   "execution_count": 4,
   "id": "5830a2e9-1e86-4422-aa43-eb4b21ed2eaf",
   "metadata": {
    "execution": {
     "iopub.execute_input": "2023-12-04T20:54:41.843431Z",
     "iopub.status.busy": "2023-12-04T20:54:41.843155Z",
     "iopub.status.idle": "2023-12-04T20:54:41.847548Z",
     "shell.execute_reply": "2023-12-04T20:54:41.846675Z",
     "shell.execute_reply.started": "2023-12-04T20:54:41.843412Z"
    },
    "tags": []
   },
   "outputs": [],
   "source": [
    "NESSIE_URI = \"http://nessie:19120/api/v1\"\n",
    "AWS_ACCESS_KEY = \"minio\"\n",
    "AWS_SECRET_KEY = \"minio123\"\n",
    "AWS_S3_ENDPOINT = \"http://minio:9000\"\n",
    "WAREHOUSE = \"s3a://lake/\""
   ]
  },
  {
   "cell_type": "code",
   "execution_count": 5,
   "id": "adda2840-a3a5-4b92-b0ed-568e9efc1e5c",
   "metadata": {
    "execution": {
     "iopub.execute_input": "2023-12-04T20:54:41.849011Z",
     "iopub.status.busy": "2023-12-04T20:54:41.848691Z",
     "iopub.status.idle": "2023-12-04T20:54:41.858489Z",
     "shell.execute_reply": "2023-12-04T20:54:41.857835Z",
     "shell.execute_reply.started": "2023-12-04T20:54:41.848984Z"
    },
    "tags": []
   },
   "outputs": [],
   "source": [
    "conf = (\n",
    "    pyspark.SparkConf()\n",
    "        .setAppName('app_name')\n",
    "        # .set('spark.jars.packages', 'org.apache.iceberg:iceberg-spark-runtime-3.2_2.12:0.13.1,org.projectnessie.nessie-integrations:nessie-spark-extensions-3.3_2.12:0.67.0,software.amazon.awssdk:bundle:2.17.178,software.amazon.awssdk:url-connection-client:2.17.178')\n",
    "        .set(\"spark.sql.execution.pyarrow.enabled\", \"true\")\n",
    "        .set(\n",
    "            \"spark.jars.packages\",\n",
    "            f\"org.apache.iceberg:iceberg-spark-runtime-3.2_2.12:1.4.2,org.projectnessie.nessie-integrations:nessie-spark-extensions-3.2_2.12:0.74.0\",\n",
    "        )\n",
    "        .set('spark.sql.catalog.nessie', 'org.apache.iceberg.spark.SparkCatalog')\n",
    "        .set('spark.sql.catalog.nessie.uri', NESSIE_URI)\n",
    "        .set('spark.sql.catalog.nessie.ref', 'main')\n",
    "        .set('spark.sql.catalog.nessie.authentication.type', 'NONE')\n",
    "        .set('spark.sql.catalog.nessie.catalog-impl', 'org.apache.iceberg.nessie.NessieCatalog')\n",
    "        # .set('spark.sql.catalog.nessie.s3.endpoint', AWS_S3_ENDPOINT)\n",
    "        # .set('spark.sql.catalog.nessie.warehouse', WAREHOUSE)\n",
    "        .set(\"spark.sql.catalog.nessie.warehouse\", \"file://\" + os.getcwd() + \"/spark_warehouse/iceberg\")\n",
    "        # .set('spark.sql.catalog.nessie.io-impl', 'org.apache.iceberg.aws.s3.S3FileIO')\n",
    "        .set('spark.hadoop.fs.s3a.access.key', 'minio')\n",
    "        .set('spark.hadoop.fs.s3a.secret.key', 'minio123')\n",
    "        .set('spark.hadoop.fs.s3a.endpoint', \"http://minio:9000\")\n",
    "        .set('spark.hadoop.fs.s3a.connection.ssl.enabled', \"false\")\n",
    "        .set('spark.hadoop.fs.s3a.path.style.access', \"true\")\n",
    "        .set(\n",
    "            \"spark.sql.extensions\",\n",
    "            \"org.apache.iceberg.spark.extensions.IcebergSparkSessionExtensions,org.projectnessie.spark.extensions.NessieSparkSessionExtensions\",\n",
    "        )\n",
    ")"
   ]
  },
  {
   "cell_type": "code",
   "execution_count": 6,
   "id": "350163c7-daab-4e4b-9f1b-15220855eac5",
   "metadata": {
    "execution": {
     "iopub.execute_input": "2023-12-04T20:54:41.859489Z",
     "iopub.status.busy": "2023-12-04T20:54:41.859243Z",
     "iopub.status.idle": "2023-12-04T20:54:51.313027Z",
     "shell.execute_reply": "2023-12-04T20:54:51.312292Z",
     "shell.execute_reply.started": "2023-12-04T20:54:41.859468Z"
    },
    "tags": []
   },
   "outputs": [
    {
     "name": "stdout",
     "output_type": "stream",
     "text": [
      ":: loading settings :: url = jar:file:/usr/local/lib/python3.10/dist-packages/pyspark/jars/ivy-2.5.1.jar!/org/apache/ivy/core/settings/ivysettings.xml\n"
     ]
    },
    {
     "name": "stderr",
     "output_type": "stream",
     "text": [
      "Ivy Default Cache set to: /root/.ivy2/cache\n",
      "The jars for the packages stored in: /root/.ivy2/jars\n",
      "org.apache.iceberg#iceberg-spark-runtime-3.2_2.12 added as a dependency\n",
      "org.projectnessie.nessie-integrations#nessie-spark-extensions-3.2_2.12 added as a dependency\n",
      ":: resolving dependencies :: org.apache.spark#spark-submit-parent-3670911a-0a88-4e25-bd28-b5bd11075e51;1.0\n",
      "\tconfs: [default]\n",
      "\tfound org.apache.iceberg#iceberg-spark-runtime-3.2_2.12;1.4.2 in central\n",
      "\tfound org.projectnessie.nessie-integrations#nessie-spark-extensions-3.2_2.12;0.74.0 in central\n",
      "downloading https://repo1.maven.org/maven2/org/apache/iceberg/iceberg-spark-runtime-3.2_2.12/1.4.2/iceberg-spark-runtime-3.2_2.12-1.4.2.jar ...\n",
      "\t[SUCCESSFUL ] org.apache.iceberg#iceberg-spark-runtime-3.2_2.12;1.4.2!iceberg-spark-runtime-3.2_2.12.jar (2861ms)\n",
      "downloading https://repo1.maven.org/maven2/org/projectnessie/nessie-integrations/nessie-spark-extensions-3.2_2.12/0.74.0/nessie-spark-extensions-3.2_2.12-0.74.0.jar ...\n",
      "\t[SUCCESSFUL ] org.projectnessie.nessie-integrations#nessie-spark-extensions-3.2_2.12;0.74.0!nessie-spark-extensions-3.2_2.12.jar (189ms)\n",
      ":: resolution report :: resolve 2314ms :: artifacts dl 3058ms\n",
      "\t:: modules in use:\n",
      "\torg.apache.iceberg#iceberg-spark-runtime-3.2_2.12;1.4.2 from central in [default]\n",
      "\torg.projectnessie.nessie-integrations#nessie-spark-extensions-3.2_2.12;0.74.0 from central in [default]\n",
      "\t---------------------------------------------------------------------\n",
      "\t|                  |            modules            ||   artifacts   |\n",
      "\t|       conf       | number| search|dwnlded|evicted|| number|dwnlded|\n",
      "\t---------------------------------------------------------------------\n",
      "\t|      default     |   2   |   2   |   2   |   0   ||   2   |   2   |\n",
      "\t---------------------------------------------------------------------\n",
      ":: retrieving :: org.apache.spark#spark-submit-parent-3670911a-0a88-4e25-bd28-b5bd11075e51\n",
      "\tconfs: [default]\n",
      "\t2 artifacts copied, 0 already retrieved (30586kB/39ms)\n",
      "23/12/04 20:54:48 WARN NativeCodeLoader: Unable to load native-hadoop library for your platform... using builtin-java classes where applicable\n",
      "Using Spark's default log4j profile: org/apache/spark/log4j-defaults.properties\n",
      "Setting default log level to \"WARN\".\n",
      "To adjust logging level use sc.setLogLevel(newLevel). For SparkR, use setLogLevel(newLevel).\n"
     ]
    }
   ],
   "source": [
    "spark = SparkSession.builder.config(conf=conf).getOrCreate()"
   ]
  },
  {
   "cell_type": "code",
   "execution_count": 7,
   "id": "369d610c-d75a-4556-956c-2f53fdffdd26",
   "metadata": {
    "execution": {
     "iopub.execute_input": "2023-12-04T20:54:51.315276Z",
     "iopub.status.busy": "2023-12-04T20:54:51.314382Z",
     "iopub.status.idle": "2023-12-04T20:54:54.134179Z",
     "shell.execute_reply": "2023-12-04T20:54:54.133427Z",
     "shell.execute_reply.started": "2023-12-04T20:54:51.315230Z"
    },
    "tags": []
   },
   "outputs": [
    {
     "name": "stdout",
     "output_type": "stream",
     "text": [
      "++\n",
      "||\n",
      "++\n",
      "++\n",
      "\n"
     ]
    }
   ],
   "source": [
    "spark.sql(\"CREATE TABLE nessie.names (name STRING) USING iceberg;\").show()"
   ]
  },
  {
   "cell_type": "code",
   "execution_count": 8,
   "id": "33d94af0-ebe1-467a-8636-d27598c37042",
   "metadata": {
    "execution": {
     "iopub.execute_input": "2023-12-04T20:54:54.135319Z",
     "iopub.status.busy": "2023-12-04T20:54:54.135053Z",
     "iopub.status.idle": "2023-12-04T20:54:56.421053Z",
     "shell.execute_reply": "2023-12-04T20:54:56.420270Z",
     "shell.execute_reply.started": "2023-12-04T20:54:54.135297Z"
    },
    "tags": []
   },
   "outputs": [
    {
     "name": "stderr",
     "output_type": "stream",
     "text": [
      "                                                                                \r"
     ]
    },
    {
     "data": {
      "text/plain": [
       "DataFrame[]"
      ]
     },
     "execution_count": 8,
     "metadata": {},
     "output_type": "execute_result"
    }
   ],
   "source": [
    "spark.sql(\"INSERT INTO nessie.names VALUES ('Alex Merced'), ('Dipankar Mazumdar'), ('Jason Hughes')\")"
   ]
  },
  {
   "cell_type": "code",
   "execution_count": 9,
   "id": "fa7782e9-dbef-4907-8dbf-86bbef4701b0",
   "metadata": {
    "execution": {
     "iopub.execute_input": "2023-12-04T20:54:56.422299Z",
     "iopub.status.busy": "2023-12-04T20:54:56.421955Z",
     "iopub.status.idle": "2023-12-04T20:54:57.163958Z",
     "shell.execute_reply": "2023-12-04T20:54:57.162961Z",
     "shell.execute_reply.started": "2023-12-04T20:54:56.422266Z"
    },
    "tags": []
   },
   "outputs": [
    {
     "name": "stdout",
     "output_type": "stream",
     "text": [
      "+-----------------+\n",
      "|             name|\n",
      "+-----------------+\n",
      "|      Alex Merced|\n",
      "|Dipankar Mazumdar|\n",
      "|     Jason Hughes|\n",
      "+-----------------+\n",
      "\n"
     ]
    }
   ],
   "source": [
    "spark.sql(\"SELECT * FROM nessie.names;\").show()"
   ]
  }
 ],
 "metadata": {
  "kernelspec": {
   "display_name": "Python 3 (ipykernel)",
   "language": "python",
   "name": "python3"
  },
  "language_info": {
   "codemirror_mode": {
    "name": "ipython",
    "version": 3
   },
   "file_extension": ".py",
   "mimetype": "text/x-python",
   "name": "python",
   "nbconvert_exporter": "python",
   "pygments_lexer": "ipython3",
   "version": "3.10.12"
  }
 },
 "nbformat": 4,
 "nbformat_minor": 5
}
