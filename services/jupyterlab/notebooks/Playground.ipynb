{
 "cells": [
  {
   "cell_type": "markdown",
   "id": "11bff561-4ee5-4bdf-834c-25c5ea888b67",
   "metadata": {},
   "source": [
    "# Imports "
   ]
  },
  {
   "cell_type": "code",
   "execution_count": 1,
   "id": "97ca831c-6b0a-4756-86b7-26f7bfa4b36c",
   "metadata": {
    "execution": {
     "iopub.execute_input": "2023-12-05T21:19:46.878139Z",
     "iopub.status.busy": "2023-12-05T21:19:46.877780Z",
     "iopub.status.idle": "2023-12-05T21:19:46.886570Z",
     "shell.execute_reply": "2023-12-05T21:19:46.885736Z",
     "shell.execute_reply.started": "2023-12-05T21:19:46.878105Z"
    }
   },
   "outputs": [],
   "source": [
    "import os"
   ]
  },
  {
   "cell_type": "code",
   "execution_count": 2,
   "id": "c292ef2e-b644-45cf-baa8-7be4a3af7dae",
   "metadata": {
    "execution": {
     "iopub.execute_input": "2023-12-05T21:19:47.296733Z",
     "iopub.status.busy": "2023-12-05T21:19:47.295777Z",
     "iopub.status.idle": "2023-12-05T21:19:47.494846Z",
     "shell.execute_reply": "2023-12-05T21:19:47.494188Z",
     "shell.execute_reply.started": "2023-12-05T21:19:47.296648Z"
    },
    "tags": []
   },
   "outputs": [],
   "source": [
    "import pyspark\n",
    "from pyspark.sql import SparkSession"
   ]
  },
  {
   "cell_type": "markdown",
   "id": "9894409a-d320-4c36-9844-bbb7b12c0e3f",
   "metadata": {},
   "source": [
    "# Setup "
   ]
  },
  {
   "cell_type": "code",
   "execution_count": 3,
   "id": "ccad669a-f43b-4943-bed0-f082786f0ba2",
   "metadata": {
    "execution": {
     "iopub.execute_input": "2023-12-05T21:19:47.845974Z",
     "iopub.status.busy": "2023-12-05T21:19:47.844881Z",
     "iopub.status.idle": "2023-12-05T21:19:47.859973Z",
     "shell.execute_reply": "2023-12-05T21:19:47.855952Z",
     "shell.execute_reply.started": "2023-12-05T21:19:47.845886Z"
    },
    "tags": []
   },
   "outputs": [],
   "source": [
    "NESSIE_URI = \"http://nessie:19120/api/v1\"\n",
    "AWS_ACCESS_KEY = \"minio\"\n",
    "AWS_SECRET_KEY = \"minio123\"\n",
    "AWS_S3_ENDPOINT = \"http://minio:9000\"\n",
    "WAREHOUSE = \"s3a://lake/\""
   ]
  },
  {
   "cell_type": "code",
   "execution_count": 4,
   "id": "adda2840-a3a5-4b92-b0ed-568e9efc1e5c",
   "metadata": {
    "execution": {
     "iopub.execute_input": "2023-12-05T21:19:48.242303Z",
     "iopub.status.busy": "2023-12-05T21:19:48.241361Z",
     "iopub.status.idle": "2023-12-05T21:19:48.260888Z",
     "shell.execute_reply": "2023-12-05T21:19:48.257995Z",
     "shell.execute_reply.started": "2023-12-05T21:19:48.242218Z"
    },
    "tags": []
   },
   "outputs": [],
   "source": [
    "conf = (\n",
    "    pyspark.SparkConf()\n",
    "        .setAppName('app_name')\n",
    "        .set(\"spark.sql.execution.pyarrow.enabled\", \"true\")\n",
    "        .set(\n",
    "            \"spark.jars.packages\",\n",
    "            f\"org.apache.iceberg:iceberg-spark-runtime-3.2_2.12:1.4.2,org.projectnessie.nessie-integrations:nessie-spark-extensions-3.2_2.12:0.74.0\",\n",
    "        )\n",
    "        .set('spark.sql.catalog.nessie', 'org.apache.iceberg.spark.SparkCatalog')\n",
    "        .set('spark.sql.catalog.nessie.uri', NESSIE_URI)\n",
    "        .set('spark.sql.catalog.nessie.ref', 'main')\n",
    "        .set('spark.sql.catalog.nessie.authentication.type', 'NONE')\n",
    "        .set('spark.sql.catalog.nessie.catalog-impl', 'org.apache.iceberg.nessie.NessieCatalog')\n",
    "        .set(\"spark.sql.catalog.nessie.warehouse\", \"file://\" + os.getcwd() + \"/spark-warehouse/iceberg\")\n",
    "        .set('spark.hadoop.fs.s3a.access.key', 'minio')\n",
    "        .set('spark.hadoop.fs.s3a.secret.key', 'minio123')\n",
    "        .set('spark.hadoop.fs.s3a.endpoint', \"http://minio:9000\")\n",
    "        .set('spark.hadoop.fs.s3a.connection.ssl.enabled', \"false\")\n",
    "        .set('spark.hadoop.fs.s3a.path.style.access', \"true\")\n",
    "        .set(\n",
    "            \"spark.sql.extensions\",\n",
    "            \"org.apache.iceberg.spark.extensions.IcebergSparkSessionExtensions,org.projectnessie.spark.extensions.NessieSparkSessionExtensions\",\n",
    "        )\n",
    ")"
   ]
  },
  {
   "cell_type": "code",
   "execution_count": 5,
   "id": "350163c7-daab-4e4b-9f1b-15220855eac5",
   "metadata": {
    "execution": {
     "iopub.execute_input": "2023-12-05T21:19:49.353390Z",
     "iopub.status.busy": "2023-12-05T21:19:49.352401Z",
     "iopub.status.idle": "2023-12-05T21:19:53.148727Z",
     "shell.execute_reply": "2023-12-05T21:19:53.147931Z",
     "shell.execute_reply.started": "2023-12-05T21:19:49.353304Z"
    },
    "tags": []
   },
   "outputs": [
    {
     "name": "stdout",
     "output_type": "stream",
     "text": [
      ":: loading settings :: url = jar:file:/usr/local/lib/python3.10/dist-packages/pyspark/jars/ivy-2.5.1.jar!/org/apache/ivy/core/settings/ivysettings.xml\n"
     ]
    },
    {
     "name": "stderr",
     "output_type": "stream",
     "text": [
      "Ivy Default Cache set to: /root/.ivy2/cache\n",
      "The jars for the packages stored in: /root/.ivy2/jars\n",
      "org.apache.iceberg#iceberg-spark-runtime-3.2_2.12 added as a dependency\n",
      "org.projectnessie.nessie-integrations#nessie-spark-extensions-3.2_2.12 added as a dependency\n",
      ":: resolving dependencies :: org.apache.spark#spark-submit-parent-14fdafba-931c-4086-9760-4b695d096d52;1.0\n",
      "\tconfs: [default]\n",
      "\tfound org.apache.iceberg#iceberg-spark-runtime-3.2_2.12;1.4.2 in central\n",
      "\tfound org.projectnessie.nessie-integrations#nessie-spark-extensions-3.2_2.12;0.74.0 in central\n",
      ":: resolution report :: resolve 126ms :: artifacts dl 7ms\n",
      "\t:: modules in use:\n",
      "\torg.apache.iceberg#iceberg-spark-runtime-3.2_2.12;1.4.2 from central in [default]\n",
      "\torg.projectnessie.nessie-integrations#nessie-spark-extensions-3.2_2.12;0.74.0 from central in [default]\n",
      "\t---------------------------------------------------------------------\n",
      "\t|                  |            modules            ||   artifacts   |\n",
      "\t|       conf       | number| search|dwnlded|evicted|| number|dwnlded|\n",
      "\t---------------------------------------------------------------------\n",
      "\t|      default     |   2   |   0   |   0   |   0   ||   2   |   0   |\n",
      "\t---------------------------------------------------------------------\n",
      ":: retrieving :: org.apache.spark#spark-submit-parent-14fdafba-931c-4086-9760-4b695d096d52\n",
      "\tconfs: [default]\n",
      "\t0 artifacts copied, 2 already retrieved (0kB/5ms)\n",
      "23/12/05 21:19:50 WARN NativeCodeLoader: Unable to load native-hadoop library for your platform... using builtin-java classes where applicable\n",
      "Using Spark's default log4j profile: org/apache/spark/log4j-defaults.properties\n",
      "Setting default log level to \"WARN\".\n",
      "To adjust logging level use sc.setLogLevel(newLevel). For SparkR, use setLogLevel(newLevel).\n"
     ]
    }
   ],
   "source": [
    "spark = SparkSession.builder.config(conf=conf).getOrCreate()"
   ]
  },
  {
   "cell_type": "markdown",
   "id": "8c4932e3-68f5-494e-9926-a4641173af29",
   "metadata": {},
   "source": [
    "# Clean Up"
   ]
  },
  {
   "cell_type": "code",
   "execution_count": 6,
   "id": "4e01c2fe-926d-4411-8fb9-d2197c54df12",
   "metadata": {
    "execution": {
     "iopub.execute_input": "2023-12-05T21:19:53.150867Z",
     "iopub.status.busy": "2023-12-05T21:19:53.150435Z",
     "iopub.status.idle": "2023-12-05T21:19:56.454552Z",
     "shell.execute_reply": "2023-12-05T21:19:56.453968Z",
     "shell.execute_reply.started": "2023-12-05T21:19:53.150843Z"
    },
    "tags": []
   },
   "outputs": [
    {
     "data": {
      "text/html": [
       "<div>\n",
       "<style scoped>\n",
       "    .dataframe tbody tr th:only-of-type {\n",
       "        vertical-align: middle;\n",
       "    }\n",
       "\n",
       "    .dataframe tbody tr th {\n",
       "        vertical-align: top;\n",
       "    }\n",
       "\n",
       "    .dataframe thead th {\n",
       "        text-align: right;\n",
       "    }\n",
       "</style>\n",
       "<table border=\"1\" class=\"dataframe\">\n",
       "  <thead>\n",
       "    <tr style=\"text-align: right;\">\n",
       "      <th></th>\n",
       "    </tr>\n",
       "  </thead>\n",
       "  <tbody>\n",
       "  </tbody>\n",
       "</table>\n",
       "</div>"
      ],
      "text/plain": [
       "Empty DataFrame\n",
       "Columns: []\n",
       "Index: []"
      ]
     },
     "execution_count": 6,
     "metadata": {},
     "output_type": "execute_result"
    }
   ],
   "source": [
    "spark.sql(\"DROP TABLE IF EXISTS nessie.taxis.trips\").toPandas()"
   ]
  },
  {
   "cell_type": "code",
   "execution_count": 7,
   "id": "b281a829-3770-474b-909e-9e9b26060133",
   "metadata": {
    "execution": {
     "iopub.execute_input": "2023-12-05T21:19:56.455601Z",
     "iopub.status.busy": "2023-12-05T21:19:56.455313Z",
     "iopub.status.idle": "2023-12-05T21:19:56.555448Z",
     "shell.execute_reply": "2023-12-05T21:19:56.554735Z",
     "shell.execute_reply.started": "2023-12-05T21:19:56.455558Z"
    },
    "tags": []
   },
   "outputs": [
    {
     "data": {
      "text/html": [
       "<div>\n",
       "<style scoped>\n",
       "    .dataframe tbody tr th:only-of-type {\n",
       "        vertical-align: middle;\n",
       "    }\n",
       "\n",
       "    .dataframe tbody tr th {\n",
       "        vertical-align: top;\n",
       "    }\n",
       "\n",
       "    .dataframe thead th {\n",
       "        text-align: right;\n",
       "    }\n",
       "</style>\n",
       "<table border=\"1\" class=\"dataframe\">\n",
       "  <thead>\n",
       "    <tr style=\"text-align: right;\">\n",
       "      <th></th>\n",
       "    </tr>\n",
       "  </thead>\n",
       "  <tbody>\n",
       "  </tbody>\n",
       "</table>\n",
       "</div>"
      ],
      "text/plain": [
       "Empty DataFrame\n",
       "Columns: []\n",
       "Index: []"
      ]
     },
     "execution_count": 7,
     "metadata": {},
     "output_type": "execute_result"
    }
   ],
   "source": [
    "spark.sql(\"DROP NAMESPACE IF EXISTS nessie.taxis;\").toPandas()"
   ]
  },
  {
   "cell_type": "code",
   "execution_count": 8,
   "id": "8c389433-0936-4cbe-a4ee-d5227b05fc81",
   "metadata": {
    "execution": {
     "iopub.execute_input": "2023-12-05T21:19:56.556908Z",
     "iopub.status.busy": "2023-12-05T21:19:56.556652Z",
     "iopub.status.idle": "2023-12-05T21:19:56.921675Z",
     "shell.execute_reply": "2023-12-05T21:19:56.921148Z",
     "shell.execute_reply.started": "2023-12-05T21:19:56.556885Z"
    },
    "tags": []
   },
   "outputs": [
    {
     "data": {
      "text/html": [
       "<div>\n",
       "<style scoped>\n",
       "    .dataframe tbody tr th:only-of-type {\n",
       "        vertical-align: middle;\n",
       "    }\n",
       "\n",
       "    .dataframe tbody tr th {\n",
       "        vertical-align: top;\n",
       "    }\n",
       "\n",
       "    .dataframe thead th {\n",
       "        text-align: right;\n",
       "    }\n",
       "</style>\n",
       "<table border=\"1\" class=\"dataframe\">\n",
       "  <thead>\n",
       "    <tr style=\"text-align: right;\">\n",
       "      <th></th>\n",
       "      <th>status</th>\n",
       "    </tr>\n",
       "  </thead>\n",
       "  <tbody>\n",
       "    <tr>\n",
       "      <th>0</th>\n",
       "      <td>OK</td>\n",
       "    </tr>\n",
       "  </tbody>\n",
       "</table>\n",
       "</div>"
      ],
      "text/plain": [
       "  status\n",
       "0     OK"
      ]
     },
     "execution_count": 8,
     "metadata": {},
     "output_type": "execute_result"
    }
   ],
   "source": [
    "spark.sql(\"DROP BRANCH IF EXISTS batch2 IN nessie\").toPandas()"
   ]
  },
  {
   "cell_type": "markdown",
   "id": "caedb22b-3824-4394-baff-37b9fb7876e8",
   "metadata": {},
   "source": [
    "# Query"
   ]
  },
  {
   "cell_type": "code",
   "execution_count": 9,
   "id": "aeeb6aec-5eb2-4c18-9396-1be33612005d",
   "metadata": {
    "execution": {
     "iopub.execute_input": "2023-12-05T21:20:02.379021Z",
     "iopub.status.busy": "2023-12-05T21:20:02.377845Z",
     "iopub.status.idle": "2023-12-05T21:20:02.481299Z",
     "shell.execute_reply": "2023-12-05T21:20:02.480467Z",
     "shell.execute_reply.started": "2023-12-05T21:20:02.378920Z"
    },
    "tags": []
   },
   "outputs": [
    {
     "data": {
      "text/html": [
       "<div>\n",
       "<style scoped>\n",
       "    .dataframe tbody tr th:only-of-type {\n",
       "        vertical-align: middle;\n",
       "    }\n",
       "\n",
       "    .dataframe tbody tr th {\n",
       "        vertical-align: top;\n",
       "    }\n",
       "\n",
       "    .dataframe thead th {\n",
       "        text-align: right;\n",
       "    }\n",
       "</style>\n",
       "<table border=\"1\" class=\"dataframe\">\n",
       "  <thead>\n",
       "    <tr style=\"text-align: right;\">\n",
       "      <th></th>\n",
       "    </tr>\n",
       "  </thead>\n",
       "  <tbody>\n",
       "  </tbody>\n",
       "</table>\n",
       "</div>"
      ],
      "text/plain": [
       "Empty DataFrame\n",
       "Columns: []\n",
       "Index: []"
      ]
     },
     "execution_count": 9,
     "metadata": {},
     "output_type": "execute_result"
    }
   ],
   "source": [
    "spark.sql(\"CREATE NAMESPACE IF NOT EXISTS nessie.taxis;\").toPandas()"
   ]
  },
  {
   "cell_type": "code",
   "execution_count": 10,
   "id": "041e5307-f02f-46e2-af6a-3d4b95ade9f1",
   "metadata": {
    "execution": {
     "iopub.execute_input": "2023-12-05T21:20:04.787296Z",
     "iopub.status.busy": "2023-12-05T21:20:04.786335Z",
     "iopub.status.idle": "2023-12-05T21:20:04.861693Z",
     "shell.execute_reply": "2023-12-05T21:20:04.860991Z",
     "shell.execute_reply.started": "2023-12-05T21:20:04.787264Z"
    },
    "tags": []
   },
   "outputs": [
    {
     "data": {
      "text/html": [
       "<div>\n",
       "<style scoped>\n",
       "    .dataframe tbody tr th:only-of-type {\n",
       "        vertical-align: middle;\n",
       "    }\n",
       "\n",
       "    .dataframe tbody tr th {\n",
       "        vertical-align: top;\n",
       "    }\n",
       "\n",
       "    .dataframe thead th {\n",
       "        text-align: right;\n",
       "    }\n",
       "</style>\n",
       "<table border=\"1\" class=\"dataframe\">\n",
       "  <thead>\n",
       "    <tr style=\"text-align: right;\">\n",
       "      <th></th>\n",
       "      <th>refType</th>\n",
       "      <th>name</th>\n",
       "      <th>hash</th>\n",
       "    </tr>\n",
       "  </thead>\n",
       "  <tbody>\n",
       "    <tr>\n",
       "      <th>0</th>\n",
       "      <td>Branch</td>\n",
       "      <td>main</td>\n",
       "      <td>e3e025593a4b6e5fa426eeab1c482b12f305a490086012...</td>\n",
       "    </tr>\n",
       "  </tbody>\n",
       "</table>\n",
       "</div>"
      ],
      "text/plain": [
       "  refType  name                                               hash\n",
       "0  Branch  main  e3e025593a4b6e5fa426eeab1c482b12f305a490086012..."
      ]
     },
     "execution_count": 10,
     "metadata": {},
     "output_type": "execute_result"
    }
   ],
   "source": [
    "spark.sql(\"LIST REFERENCES IN nessie\").toPandas()"
   ]
  },
  {
   "cell_type": "code",
   "execution_count": 11,
   "id": "7e64e26d-9c30-44aa-b8b6-b3ca886d9ff1",
   "metadata": {
    "execution": {
     "iopub.execute_input": "2023-12-05T21:21:10.214998Z",
     "iopub.status.busy": "2023-12-05T21:21:10.214189Z",
     "iopub.status.idle": "2023-12-05T21:21:10.437546Z",
     "shell.execute_reply": "2023-12-05T21:21:10.436791Z",
     "shell.execute_reply.started": "2023-12-05T21:21:10.214966Z"
    },
    "tags": []
   },
   "outputs": [
    {
     "data": {
      "text/html": [
       "<div>\n",
       "<style scoped>\n",
       "    .dataframe tbody tr th:only-of-type {\n",
       "        vertical-align: middle;\n",
       "    }\n",
       "\n",
       "    .dataframe tbody tr th {\n",
       "        vertical-align: top;\n",
       "    }\n",
       "\n",
       "    .dataframe thead th {\n",
       "        text-align: right;\n",
       "    }\n",
       "</style>\n",
       "<table border=\"1\" class=\"dataframe\">\n",
       "  <thead>\n",
       "    <tr style=\"text-align: right;\">\n",
       "      <th></th>\n",
       "    </tr>\n",
       "  </thead>\n",
       "  <tbody>\n",
       "  </tbody>\n",
       "</table>\n",
       "</div>"
      ],
      "text/plain": [
       "Empty DataFrame\n",
       "Columns: []\n",
       "Index: []"
      ]
     },
     "execution_count": 11,
     "metadata": {},
     "output_type": "execute_result"
    }
   ],
   "source": [
    "spark.sql(\n",
    "\"\"\"\n",
    "CREATE TABLE IF NOT EXISTS nessie.taxis.trips(\n",
    "    vendor_id INT,\n",
    "    pickup_datetime TIMESTAMP,\n",
    "    dropoff_datetime TIMESTAMP,\n",
    "    passenger_count INT,\n",
    "    pickup_location_id INT,\n",
    "    dropoff_location_id INT,\n",
    "    fare_amount FLOAT\n",
    ")\n",
    "USING iceberg;\n",
    "\"\"\"\n",
    ").toPandas()"
   ]
  },
  {
   "cell_type": "code",
   "execution_count": 12,
   "id": "b17f2ae9-6439-465e-8f6f-0f7baae4bd07",
   "metadata": {
    "execution": {
     "iopub.execute_input": "2023-12-05T21:21:12.099821Z",
     "iopub.status.busy": "2023-12-05T21:21:12.098481Z",
     "iopub.status.idle": "2023-12-05T21:21:13.800659Z",
     "shell.execute_reply": "2023-12-05T21:21:13.799475Z",
     "shell.execute_reply.started": "2023-12-05T21:21:12.099675Z"
    }
   },
   "outputs": [
    {
     "data": {
      "text/html": [
       "<div>\n",
       "<style scoped>\n",
       "    .dataframe tbody tr th:only-of-type {\n",
       "        vertical-align: middle;\n",
       "    }\n",
       "\n",
       "    .dataframe tbody tr th {\n",
       "        vertical-align: top;\n",
       "    }\n",
       "\n",
       "    .dataframe thead th {\n",
       "        text-align: right;\n",
       "    }\n",
       "</style>\n",
       "<table border=\"1\" class=\"dataframe\">\n",
       "  <thead>\n",
       "    <tr style=\"text-align: right;\">\n",
       "      <th></th>\n",
       "    </tr>\n",
       "  </thead>\n",
       "  <tbody>\n",
       "  </tbody>\n",
       "</table>\n",
       "</div>"
      ],
      "text/plain": [
       "Empty DataFrame\n",
       "Columns: []\n",
       "Index: []"
      ]
     },
     "execution_count": 12,
     "metadata": {},
     "output_type": "execute_result"
    }
   ],
   "source": [
    "spark.sql(\n",
    "\"\"\"\n",
    "CREATE OR REPLACE TEMPORARY VIEW trips_table USING csv\n",
    "OPTIONS (path \"/data/yellow_tripdata_sample_2019_01.csv\", header true);\n",
    "\"\"\"\n",
    ").toPandas()"
   ]
  },
  {
   "cell_type": "code",
   "execution_count": 13,
   "id": "43b27168-07d3-4eec-aa3c-2d908d12b2a9",
   "metadata": {
    "execution": {
     "iopub.execute_input": "2023-12-05T21:21:15.350459Z",
     "iopub.status.busy": "2023-12-05T21:21:15.349946Z",
     "iopub.status.idle": "2023-12-05T21:21:15.586047Z",
     "shell.execute_reply": "2023-12-05T21:21:15.585208Z",
     "shell.execute_reply.started": "2023-12-05T21:21:15.350413Z"
    },
    "tags": []
   },
   "outputs": [
    {
     "data": {
      "text/html": [
       "<div>\n",
       "<style scoped>\n",
       "    .dataframe tbody tr th:only-of-type {\n",
       "        vertical-align: middle;\n",
       "    }\n",
       "\n",
       "    .dataframe tbody tr th {\n",
       "        vertical-align: top;\n",
       "    }\n",
       "\n",
       "    .dataframe thead th {\n",
       "        text-align: right;\n",
       "    }\n",
       "</style>\n",
       "<table border=\"1\" class=\"dataframe\">\n",
       "  <thead>\n",
       "    <tr style=\"text-align: right;\">\n",
       "      <th></th>\n",
       "      <th>vendor_id</th>\n",
       "      <th>pickup_datetime</th>\n",
       "      <th>dropoff_datetime</th>\n",
       "      <th>passenger_count</th>\n",
       "      <th>pickup_location_id</th>\n",
       "      <th>dropoff_location_id</th>\n",
       "      <th>fare_amount</th>\n",
       "    </tr>\n",
       "  </thead>\n",
       "  <tbody>\n",
       "    <tr>\n",
       "      <th>0</th>\n",
       "      <td>1</td>\n",
       "      <td>2019-01-15 03:36:12</td>\n",
       "      <td>2019-01-15 03:42:19</td>\n",
       "      <td>1</td>\n",
       "      <td>230</td>\n",
       "      <td>48</td>\n",
       "      <td>6.5</td>\n",
       "    </tr>\n",
       "    <tr>\n",
       "      <th>1</th>\n",
       "      <td>1</td>\n",
       "      <td>2019-01-25 18:20:32</td>\n",
       "      <td>2019-01-25 18:26:55</td>\n",
       "      <td>1</td>\n",
       "      <td>112</td>\n",
       "      <td>112</td>\n",
       "      <td>6.0</td>\n",
       "    </tr>\n",
       "    <tr>\n",
       "      <th>2</th>\n",
       "      <td>1</td>\n",
       "      <td>2019-01-05 06:47:31</td>\n",
       "      <td>2019-01-05 06:52:19</td>\n",
       "      <td>1</td>\n",
       "      <td>107</td>\n",
       "      <td>4</td>\n",
       "      <td>6.0</td>\n",
       "    </tr>\n",
       "    <tr>\n",
       "      <th>3</th>\n",
       "      <td>1</td>\n",
       "      <td>2019-01-09 15:08:02</td>\n",
       "      <td>2019-01-09 15:20:17</td>\n",
       "      <td>1</td>\n",
       "      <td>143</td>\n",
       "      <td>158</td>\n",
       "      <td>11.0</td>\n",
       "    </tr>\n",
       "    <tr>\n",
       "      <th>4</th>\n",
       "      <td>1</td>\n",
       "      <td>2019-01-25 18:49:51</td>\n",
       "      <td>2019-01-25 18:56:44</td>\n",
       "      <td>1</td>\n",
       "      <td>246</td>\n",
       "      <td>90</td>\n",
       "      <td>6.5</td>\n",
       "    </tr>\n",
       "  </tbody>\n",
       "</table>\n",
       "</div>"
      ],
      "text/plain": [
       "  vendor_id      pickup_datetime     dropoff_datetime passenger_count  \\\n",
       "0         1  2019-01-15 03:36:12  2019-01-15 03:42:19               1   \n",
       "1         1  2019-01-25 18:20:32  2019-01-25 18:26:55               1   \n",
       "2         1  2019-01-05 06:47:31  2019-01-05 06:52:19               1   \n",
       "3         1  2019-01-09 15:08:02  2019-01-09 15:20:17               1   \n",
       "4         1  2019-01-25 18:49:51  2019-01-25 18:56:44               1   \n",
       "\n",
       "  pickup_location_id dropoff_location_id fare_amount  \n",
       "0                230                  48         6.5  \n",
       "1                112                 112         6.0  \n",
       "2                107                   4         6.0  \n",
       "3                143                 158        11.0  \n",
       "4                246                  90         6.5  "
      ]
     },
     "execution_count": 13,
     "metadata": {},
     "output_type": "execute_result"
    }
   ],
   "source": [
    "spark.sql(\"SELECT * FROM trips_table LIMIT 5;\").toPandas()"
   ]
  },
  {
   "cell_type": "code",
   "execution_count": 14,
   "id": "fa7782e9-dbef-4907-8dbf-86bbef4701b0",
   "metadata": {
    "execution": {
     "iopub.execute_input": "2023-12-05T21:21:18.311103Z",
     "iopub.status.busy": "2023-12-05T21:21:18.310326Z",
     "iopub.status.idle": "2023-12-05T21:21:19.693684Z",
     "shell.execute_reply": "2023-12-05T21:21:19.692919Z",
     "shell.execute_reply.started": "2023-12-05T21:21:18.311066Z"
    },
    "tags": []
   },
   "outputs": [
    {
     "name": "stderr",
     "output_type": "stream",
     "text": [
      "                                                                                \r"
     ]
    },
    {
     "data": {
      "text/html": [
       "<div>\n",
       "<style scoped>\n",
       "    .dataframe tbody tr th:only-of-type {\n",
       "        vertical-align: middle;\n",
       "    }\n",
       "\n",
       "    .dataframe tbody tr th {\n",
       "        vertical-align: top;\n",
       "    }\n",
       "\n",
       "    .dataframe thead th {\n",
       "        text-align: right;\n",
       "    }\n",
       "</style>\n",
       "<table border=\"1\" class=\"dataframe\">\n",
       "  <thead>\n",
       "    <tr style=\"text-align: right;\">\n",
       "      <th></th>\n",
       "    </tr>\n",
       "  </thead>\n",
       "  <tbody>\n",
       "  </tbody>\n",
       "</table>\n",
       "</div>"
      ],
      "text/plain": [
       "Empty DataFrame\n",
       "Columns: []\n",
       "Index: []"
      ]
     },
     "execution_count": 14,
     "metadata": {},
     "output_type": "execute_result"
    }
   ],
   "source": [
    "spark.sql(\"\"\"\n",
    "INSERT INTO nessie.taxis.trips\n",
    "SELECT \n",
    "    CAST(vendor_id AS INT),\n",
    "    CAST(pickup_datetime AS TIMESTAMP),\n",
    "    CAST(dropoff_datetime AS TIMESTAMP),\n",
    "    CAST(passenger_count AS INT),\n",
    "    CAST(pickup_location_id AS INT),\n",
    "    CAST(dropoff_location_id AS INT),\n",
    "    CAST(fare_amount AS FLOAT)\n",
    "FROM trips_table;\n",
    "\"\"\"\n",
    ").toPandas()"
   ]
  },
  {
   "cell_type": "code",
   "execution_count": 15,
   "id": "167026d0-8e76-4761-900b-f81fdd84a8b5",
   "metadata": {
    "execution": {
     "iopub.execute_input": "2023-12-05T21:21:20.834878Z",
     "iopub.status.busy": "2023-12-05T21:21:20.833929Z",
     "iopub.status.idle": "2023-12-05T21:21:21.469312Z",
     "shell.execute_reply": "2023-12-05T21:21:21.468500Z",
     "shell.execute_reply.started": "2023-12-05T21:21:20.834837Z"
    }
   },
   "outputs": [
    {
     "name": "stderr",
     "output_type": "stream",
     "text": [
      "/usr/local/lib/python3.10/dist-packages/pyspark/sql/pandas/conversion.py:194: FutureWarning: Passing unit-less datetime64 dtype to .astype is deprecated and will raise in a future version. Pass 'datetime64[ns]' instead\n",
      "  series = series.astype(t, copy=False)\n",
      "/usr/local/lib/python3.10/dist-packages/pyspark/sql/pandas/conversion.py:194: FutureWarning: Passing unit-less datetime64 dtype to .astype is deprecated and will raise in a future version. Pass 'datetime64[ns]' instead\n",
      "  series = series.astype(t, copy=False)\n"
     ]
    },
    {
     "data": {
      "text/html": [
       "<div>\n",
       "<style scoped>\n",
       "    .dataframe tbody tr th:only-of-type {\n",
       "        vertical-align: middle;\n",
       "    }\n",
       "\n",
       "    .dataframe tbody tr th {\n",
       "        vertical-align: top;\n",
       "    }\n",
       "\n",
       "    .dataframe thead th {\n",
       "        text-align: right;\n",
       "    }\n",
       "</style>\n",
       "<table border=\"1\" class=\"dataframe\">\n",
       "  <thead>\n",
       "    <tr style=\"text-align: right;\">\n",
       "      <th></th>\n",
       "      <th>vendor_id</th>\n",
       "      <th>pickup_datetime</th>\n",
       "      <th>dropoff_datetime</th>\n",
       "      <th>passenger_count</th>\n",
       "      <th>pickup_location_id</th>\n",
       "      <th>dropoff_location_id</th>\n",
       "      <th>fare_amount</th>\n",
       "    </tr>\n",
       "  </thead>\n",
       "  <tbody>\n",
       "    <tr>\n",
       "      <th>0</th>\n",
       "      <td>1</td>\n",
       "      <td>2019-01-15 03:36:12</td>\n",
       "      <td>2019-01-15 03:42:19</td>\n",
       "      <td>1</td>\n",
       "      <td>230</td>\n",
       "      <td>48</td>\n",
       "      <td>6.5</td>\n",
       "    </tr>\n",
       "    <tr>\n",
       "      <th>1</th>\n",
       "      <td>1</td>\n",
       "      <td>2019-01-25 18:20:32</td>\n",
       "      <td>2019-01-25 18:26:55</td>\n",
       "      <td>1</td>\n",
       "      <td>112</td>\n",
       "      <td>112</td>\n",
       "      <td>6.0</td>\n",
       "    </tr>\n",
       "    <tr>\n",
       "      <th>2</th>\n",
       "      <td>1</td>\n",
       "      <td>2019-01-05 06:47:31</td>\n",
       "      <td>2019-01-05 06:52:19</td>\n",
       "      <td>1</td>\n",
       "      <td>107</td>\n",
       "      <td>4</td>\n",
       "      <td>6.0</td>\n",
       "    </tr>\n",
       "    <tr>\n",
       "      <th>3</th>\n",
       "      <td>1</td>\n",
       "      <td>2019-01-09 15:08:02</td>\n",
       "      <td>2019-01-09 15:20:17</td>\n",
       "      <td>1</td>\n",
       "      <td>143</td>\n",
       "      <td>158</td>\n",
       "      <td>11.0</td>\n",
       "    </tr>\n",
       "    <tr>\n",
       "      <th>4</th>\n",
       "      <td>1</td>\n",
       "      <td>2019-01-25 18:49:51</td>\n",
       "      <td>2019-01-25 18:56:44</td>\n",
       "      <td>1</td>\n",
       "      <td>246</td>\n",
       "      <td>90</td>\n",
       "      <td>6.5</td>\n",
       "    </tr>\n",
       "  </tbody>\n",
       "</table>\n",
       "</div>"
      ],
      "text/plain": [
       "   vendor_id     pickup_datetime    dropoff_datetime  passenger_count  \\\n",
       "0          1 2019-01-15 03:36:12 2019-01-15 03:42:19                1   \n",
       "1          1 2019-01-25 18:20:32 2019-01-25 18:26:55                1   \n",
       "2          1 2019-01-05 06:47:31 2019-01-05 06:52:19                1   \n",
       "3          1 2019-01-09 15:08:02 2019-01-09 15:20:17                1   \n",
       "4          1 2019-01-25 18:49:51 2019-01-25 18:56:44                1   \n",
       "\n",
       "   pickup_location_id  dropoff_location_id  fare_amount  \n",
       "0                 230                   48          6.5  \n",
       "1                 112                  112          6.0  \n",
       "2                 107                    4          6.0  \n",
       "3                 143                  158         11.0  \n",
       "4                 246                   90          6.5  "
      ]
     },
     "execution_count": 15,
     "metadata": {},
     "output_type": "execute_result"
    }
   ],
   "source": [
    "spark.sql(\"SELECT * FROM nessie.taxis.trips LIMIT 5;\").toPandas()"
   ]
  },
  {
   "cell_type": "code",
   "execution_count": 18,
   "id": "66531078-18cb-4d95-bf5f-bb0a4d1af97c",
   "metadata": {
    "execution": {
     "iopub.execute_input": "2023-12-05T21:22:10.873899Z",
     "iopub.status.busy": "2023-12-05T21:22:10.872877Z",
     "iopub.status.idle": "2023-12-05T21:22:10.924373Z",
     "shell.execute_reply": "2023-12-05T21:22:10.923458Z",
     "shell.execute_reply.started": "2023-12-05T21:22:10.873814Z"
    },
    "tags": []
   },
   "outputs": [
    {
     "data": {
      "text/html": [
       "<div>\n",
       "<style scoped>\n",
       "    .dataframe tbody tr th:only-of-type {\n",
       "        vertical-align: middle;\n",
       "    }\n",
       "\n",
       "    .dataframe tbody tr th {\n",
       "        vertical-align: top;\n",
       "    }\n",
       "\n",
       "    .dataframe thead th {\n",
       "        text-align: right;\n",
       "    }\n",
       "</style>\n",
       "<table border=\"1\" class=\"dataframe\">\n",
       "  <thead>\n",
       "    <tr style=\"text-align: right;\">\n",
       "      <th></th>\n",
       "    </tr>\n",
       "  </thead>\n",
       "  <tbody>\n",
       "  </tbody>\n",
       "</table>\n",
       "</div>"
      ],
      "text/plain": [
       "Empty DataFrame\n",
       "Columns: []\n",
       "Index: []"
      ]
     },
     "execution_count": 18,
     "metadata": {},
     "output_type": "execute_result"
    }
   ],
   "source": [
    "spark.sql(\"DROP VIEW IF EXISTS trips_table\").toPandas()"
   ]
  },
  {
   "cell_type": "markdown",
   "id": "5f5e3849-f67f-4863-8ba3-ac2fdc02efc8",
   "metadata": {},
   "source": [
    "Create a new branch and ingest more data there"
   ]
  },
  {
   "cell_type": "code",
   "execution_count": null,
   "id": "ae3804b2-df14-4dec-ae5a-aba7ec4b38a4",
   "metadata": {
    "tags": []
   },
   "outputs": [],
   "source": [
    "spark.sql(\"CREATE BRANCH batch2 IN nessie FROM main\").toPandas()"
   ]
  },
  {
   "cell_type": "code",
   "execution_count": null,
   "id": "5e4b2009-ee64-4b77-9ee0-f9484598e7d0",
   "metadata": {
    "tags": []
   },
   "outputs": [],
   "source": [
    "spark.sql(\"LIST REFERENCES IN nessie\").toPandas()"
   ]
  },
  {
   "cell_type": "code",
   "execution_count": null,
   "id": "96f87b57-3f6e-4e0c-a258-8bda79b8124a",
   "metadata": {
    "tags": []
   },
   "outputs": [],
   "source": [
    "spark.sql(\"USE REFERENCE batch2 IN nessie\").toPandas()"
   ]
  },
  {
   "cell_type": "code",
   "execution_count": null,
   "id": "6655e2d7-4ebf-4cd7-a550-7d1ea2402eaf",
   "metadata": {},
   "outputs": [],
   "source": [
    "spark.sql(\n",
    "\"\"\"\n",
    "CREATE OR REPLACE TEMPORARY VIEW trips_table USING csv\n",
    "OPTIONS (path \"/data/yellow_tripdata_sample_2019_02.csv\", header true);\n",
    "\"\"\"\n",
    ").toPandas()"
   ]
  },
  {
   "cell_type": "code",
   "execution_count": null,
   "id": "af3b92a7-3645-4d74-aae5-8bc226ab0a3d",
   "metadata": {
    "tags": []
   },
   "outputs": [],
   "source": [
    "spark.sql(\"\"\"\n",
    "INSERT INTO nessie.taxis.trips\n",
    "SELECT \n",
    "    CAST(vendor_id AS INT),\n",
    "    CAST(pickup_datetime AS TIMESTAMP),\n",
    "    CAST(dropoff_datetime AS TIMESTAMP),\n",
    "    CAST(passenger_count AS INT),\n",
    "    CAST(pickup_location_id AS INT),\n",
    "    CAST(dropoff_location_id AS INT),\n",
    "    CAST(fare_amount AS FLOAT)\n",
    "FROM trips_table;\n",
    "\"\"\"\n",
    ").toPandas()"
   ]
  },
  {
   "cell_type": "code",
   "execution_count": null,
   "id": "31df6e5c-bb5c-46d3-ba34-34f603901d0a",
   "metadata": {},
   "outputs": [],
   "source": [
    "spark.sql(\"SELECT COUNT(*) FROM nessie.taxis.trips;\").toPandas()"
   ]
  },
  {
   "cell_type": "code",
   "execution_count": null,
   "id": "7ef94e61-f100-40e2-902d-76ce216b0df0",
   "metadata": {
    "tags": []
   },
   "outputs": [],
   "source": [
    "spark.sql(\"SELECT COUNT(*) FROM trips_table;\").toPandas()"
   ]
  },
  {
   "cell_type": "code",
   "execution_count": null,
   "id": "30c58c67-888f-4d0c-8f5b-cbf6866c7d5b",
   "metadata": {},
   "outputs": [],
   "source": [
    "spark.sql(\"MERGE BRANCH batch2 INTO main IN nessie\").toPandas()"
   ]
  },
  {
   "cell_type": "code",
   "execution_count": null,
   "id": "2b350be1-1934-4405-aede-50183e4b73bf",
   "metadata": {
    "tags": []
   },
   "outputs": [],
   "source": [
    "spark.sql(\"SELECT COUNT(*) FROM nessie.taxis.trips\").toPandas()"
   ]
  },
  {
   "cell_type": "code",
   "execution_count": null,
   "id": "08450639-114d-43f9-a6de-246656d22bdf",
   "metadata": {},
   "outputs": [],
   "source": []
  }
 ],
 "metadata": {
  "kernelspec": {
   "display_name": "Python 3 (ipykernel)",
   "language": "python",
   "name": "python3"
  },
  "language_info": {
   "codemirror_mode": {
    "name": "ipython",
    "version": 3
   },
   "file_extension": ".py",
   "mimetype": "text/x-python",
   "name": "python",
   "nbconvert_exporter": "python",
   "pygments_lexer": "ipython3",
   "version": "3.10.12"
  }
 },
 "nbformat": 4,
 "nbformat_minor": 5
}
