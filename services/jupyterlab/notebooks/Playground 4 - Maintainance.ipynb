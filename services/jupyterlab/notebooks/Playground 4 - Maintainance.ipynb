{
 "cells": [
  {
   "cell_type": "markdown",
   "id": "11bff561-4ee5-4bdf-834c-25c5ea888b67",
   "metadata": {},
   "source": [
    "# Imports "
   ]
  },
  {
   "cell_type": "code",
   "execution_count": 2,
   "id": "ece2fcfb-fe6e-4a96-a581-bc3424424808",
   "metadata": {
    "execution": {
     "iopub.execute_input": "2023-12-06T19:52:31.936632Z",
     "iopub.status.busy": "2023-12-06T19:52:31.935951Z",
     "iopub.status.idle": "2023-12-06T19:52:32.137075Z",
     "shell.execute_reply": "2023-12-06T19:52:32.136401Z",
     "shell.execute_reply.started": "2023-12-06T19:52:31.936547Z"
    },
    "tags": []
   },
   "outputs": [],
   "source": [
    "from common import getOrCreateSparkSession"
   ]
  },
  {
   "cell_type": "code",
   "execution_count": 3,
   "id": "a55df75f-6609-4405-b978-e15615cc1d53",
   "metadata": {
    "execution": {
     "iopub.execute_input": "2023-12-06T19:52:32.581745Z",
     "iopub.status.busy": "2023-12-06T19:52:32.581131Z",
     "iopub.status.idle": "2023-12-06T19:52:36.426306Z",
     "shell.execute_reply": "2023-12-06T19:52:36.425611Z",
     "shell.execute_reply.started": "2023-12-06T19:52:32.581720Z"
    },
    "tags": []
   },
   "outputs": [
    {
     "name": "stdout",
     "output_type": "stream",
     "text": [
      ":: loading settings :: url = jar:file:/usr/local/lib/python3.10/dist-packages/pyspark/jars/ivy-2.5.1.jar!/org/apache/ivy/core/settings/ivysettings.xml\n"
     ]
    },
    {
     "name": "stderr",
     "output_type": "stream",
     "text": [
      "Ivy Default Cache set to: /root/.ivy2/cache\n",
      "The jars for the packages stored in: /root/.ivy2/jars\n",
      "org.apache.iceberg#iceberg-spark-runtime-3.2_2.12 added as a dependency\n",
      "org.projectnessie.nessie-integrations#nessie-spark-extensions-3.2_2.12 added as a dependency\n",
      ":: resolving dependencies :: org.apache.spark#spark-submit-parent-9a0c8110-986c-4a5a-abec-49e2512737a0;1.0\n",
      "\tconfs: [default]\n",
      "\tfound org.apache.iceberg#iceberg-spark-runtime-3.2_2.12;1.4.2 in central\n",
      "\tfound org.projectnessie.nessie-integrations#nessie-spark-extensions-3.2_2.12;0.74.0 in central\n",
      ":: resolution report :: resolve 121ms :: artifacts dl 5ms\n",
      "\t:: modules in use:\n",
      "\torg.apache.iceberg#iceberg-spark-runtime-3.2_2.12;1.4.2 from central in [default]\n",
      "\torg.projectnessie.nessie-integrations#nessie-spark-extensions-3.2_2.12;0.74.0 from central in [default]\n",
      "\t---------------------------------------------------------------------\n",
      "\t|                  |            modules            ||   artifacts   |\n",
      "\t|       conf       | number| search|dwnlded|evicted|| number|dwnlded|\n",
      "\t---------------------------------------------------------------------\n",
      "\t|      default     |   2   |   0   |   0   |   0   ||   2   |   0   |\n",
      "\t---------------------------------------------------------------------\n",
      ":: retrieving :: org.apache.spark#spark-submit-parent-9a0c8110-986c-4a5a-abec-49e2512737a0\n",
      "\tconfs: [default]\n",
      "\t0 artifacts copied, 2 already retrieved (0kB/5ms)\n",
      "23/12/06 19:52:33 WARN NativeCodeLoader: Unable to load native-hadoop library for your platform... using builtin-java classes where applicable\n",
      "Using Spark's default log4j profile: org/apache/spark/log4j-defaults.properties\n",
      "Setting default log level to \"WARN\".\n",
      "To adjust logging level use sc.setLogLevel(newLevel). For SparkR, use setLogLevel(newLevel).\n",
      "23/12/06 19:52:34 WARN Utils: Service 'SparkUI' could not bind on port 4040. Attempting port 4041.\n",
      "23/12/06 19:52:34 WARN Utils: Service 'SparkUI' could not bind on port 4041. Attempting port 4042.\n",
      "23/12/06 19:52:34 WARN Utils: Service 'SparkUI' could not bind on port 4042. Attempting port 4043.\n",
      "23/12/06 19:52:34 WARN Utils: Service 'SparkUI' could not bind on port 4043. Attempting port 4044.\n"
     ]
    }
   ],
   "source": [
    "spark = getOrCreateSparkSession()"
   ]
  },
  {
   "cell_type": "markdown",
   "id": "4567def9-04b7-431f-a523-f19a366c4584",
   "metadata": {},
   "source": [
    "# Commands"
   ]
  },
  {
   "cell_type": "code",
   "execution_count": 15,
   "id": "6ff54bc0-7cd2-484d-88f7-ca5b8b7080c5",
   "metadata": {
    "execution": {
     "iopub.execute_input": "2023-12-06T19:56:49.536614Z",
     "iopub.status.busy": "2023-12-06T19:56:49.535755Z",
     "iopub.status.idle": "2023-12-06T19:56:49.732601Z",
     "shell.execute_reply": "2023-12-06T19:56:49.731867Z",
     "shell.execute_reply.started": "2023-12-06T19:56:49.536564Z"
    },
    "tags": []
   },
   "outputs": [
    {
     "name": "stderr",
     "output_type": "stream",
     "text": [
      "/usr/local/lib/python3.10/dist-packages/pyspark/sql/pandas/conversion.py:194: FutureWarning: Passing unit-less datetime64 dtype to .astype is deprecated and will raise in a future version. Pass 'datetime64[ns]' instead\n",
      "  series = series.astype(t, copy=False)\n"
     ]
    },
    {
     "data": {
      "text/html": [
       "<div>\n",
       "<style scoped>\n",
       "    .dataframe tbody tr th:only-of-type {\n",
       "        vertical-align: middle;\n",
       "    }\n",
       "\n",
       "    .dataframe tbody tr th {\n",
       "        vertical-align: top;\n",
       "    }\n",
       "\n",
       "    .dataframe thead th {\n",
       "        text-align: right;\n",
       "    }\n",
       "</style>\n",
       "<table border=\"1\" class=\"dataframe\">\n",
       "  <thead>\n",
       "    <tr style=\"text-align: right;\">\n",
       "      <th></th>\n",
       "      <th>committed_at</th>\n",
       "      <th>snapshot_id</th>\n",
       "      <th>parent_id</th>\n",
       "      <th>operation</th>\n",
       "      <th>manifest_list</th>\n",
       "      <th>summary</th>\n",
       "    </tr>\n",
       "  </thead>\n",
       "  <tbody>\n",
       "    <tr>\n",
       "      <th>0</th>\n",
       "      <td>2023-12-06 18:36:30.747</td>\n",
       "      <td>8983225361031603817</td>\n",
       "      <td>NaN</td>\n",
       "      <td>append</td>\n",
       "      <td>file:/opt/workspace/spark-warehouse/iceberg/ta...</td>\n",
       "      <td>{'spark.app.id': 'local-1701887194290', 'chang...</td>\n",
       "    </tr>\n",
       "    <tr>\n",
       "      <th>1</th>\n",
       "      <td>2023-12-06 19:02:20.326</td>\n",
       "      <td>3682576955631043731</td>\n",
       "      <td>8.983225e+18</td>\n",
       "      <td>append</td>\n",
       "      <td>file:/opt/workspace/spark-warehouse/iceberg/ta...</td>\n",
       "      <td>{'spark.app.id': 'local-1701888774141', 'chang...</td>\n",
       "    </tr>\n",
       "  </tbody>\n",
       "</table>\n",
       "</div>"
      ],
      "text/plain": [
       "             committed_at          snapshot_id     parent_id operation  \\\n",
       "0 2023-12-06 18:36:30.747  8983225361031603817           NaN    append   \n",
       "1 2023-12-06 19:02:20.326  3682576955631043731  8.983225e+18    append   \n",
       "\n",
       "                                       manifest_list  \\\n",
       "0  file:/opt/workspace/spark-warehouse/iceberg/ta...   \n",
       "1  file:/opt/workspace/spark-warehouse/iceberg/ta...   \n",
       "\n",
       "                                             summary  \n",
       "0  {'spark.app.id': 'local-1701887194290', 'chang...  \n",
       "1  {'spark.app.id': 'local-1701888774141', 'chang...  "
      ]
     },
     "execution_count": 15,
     "metadata": {},
     "output_type": "execute_result"
    }
   ],
   "source": [
    "spark.sql(\"SELECT * from nessie.taxis.vendors.snapshots;\").toPandas()"
   ]
  },
  {
   "cell_type": "code",
   "execution_count": 4,
   "id": "ae3804b2-df14-4dec-ae5a-aba7ec4b38a4",
   "metadata": {
    "execution": {
     "iopub.execute_input": "2023-12-06T19:52:38.494611Z",
     "iopub.status.busy": "2023-12-06T19:52:38.493777Z",
     "iopub.status.idle": "2023-12-06T19:52:43.373970Z",
     "shell.execute_reply": "2023-12-06T19:52:43.373273Z",
     "shell.execute_reply.started": "2023-12-06T19:52:38.494571Z"
    },
    "tags": []
   },
   "outputs": [
    {
     "name": "stderr",
     "output_type": "stream",
     "text": [
      "/usr/local/lib/python3.10/dist-packages/pyspark/sql/pandas/conversion.py:194: FutureWarning: Passing unit-less datetime64 dtype to .astype is deprecated and will raise in a future version. Pass 'datetime64[ns]' instead\n",
      "  series = series.astype(t, copy=False)\n"
     ]
    },
    {
     "data": {
      "text/html": [
       "<div>\n",
       "<style scoped>\n",
       "    .dataframe tbody tr th:only-of-type {\n",
       "        vertical-align: middle;\n",
       "    }\n",
       "\n",
       "    .dataframe tbody tr th {\n",
       "        vertical-align: top;\n",
       "    }\n",
       "\n",
       "    .dataframe thead th {\n",
       "        text-align: right;\n",
       "    }\n",
       "</style>\n",
       "<table border=\"1\" class=\"dataframe\">\n",
       "  <thead>\n",
       "    <tr style=\"text-align: right;\">\n",
       "      <th></th>\n",
       "      <th>made_current_at</th>\n",
       "      <th>snapshot_id</th>\n",
       "      <th>parent_id</th>\n",
       "      <th>is_current_ancestor</th>\n",
       "    </tr>\n",
       "  </thead>\n",
       "  <tbody>\n",
       "    <tr>\n",
       "      <th>0</th>\n",
       "      <td>2023-12-06 18:36:30.747</td>\n",
       "      <td>8983225361031603817</td>\n",
       "      <td>NaN</td>\n",
       "      <td>True</td>\n",
       "    </tr>\n",
       "    <tr>\n",
       "      <th>1</th>\n",
       "      <td>2023-12-06 19:02:20.326</td>\n",
       "      <td>3682576955631043731</td>\n",
       "      <td>8.983225e+18</td>\n",
       "      <td>True</td>\n",
       "    </tr>\n",
       "  </tbody>\n",
       "</table>\n",
       "</div>"
      ],
      "text/plain": [
       "          made_current_at          snapshot_id     parent_id  \\\n",
       "0 2023-12-06 18:36:30.747  8983225361031603817           NaN   \n",
       "1 2023-12-06 19:02:20.326  3682576955631043731  8.983225e+18   \n",
       "\n",
       "   is_current_ancestor  \n",
       "0                 True  \n",
       "1                 True  "
      ]
     },
     "execution_count": 4,
     "metadata": {},
     "output_type": "execute_result"
    }
   ],
   "source": [
    "spark.sql(\"SELECT * from nessie.taxis.vendors.history\").toPandas()"
   ]
  },
  {
   "cell_type": "code",
   "execution_count": 16,
   "id": "5107ee95-e289-48eb-907c-a6a8a0b38ba4",
   "metadata": {
    "execution": {
     "iopub.execute_input": "2023-12-06T19:57:59.652870Z",
     "iopub.status.busy": "2023-12-06T19:57:59.652307Z",
     "iopub.status.idle": "2023-12-06T19:58:00.084268Z",
     "shell.execute_reply": "2023-12-06T19:58:00.083487Z",
     "shell.execute_reply.started": "2023-12-06T19:57:59.652847Z"
    }
   },
   "outputs": [
    {
     "name": "stderr",
     "output_type": "stream",
     "text": [
      "/usr/local/lib/python3.10/dist-packages/pyspark/sql/pandas/conversion.py:194: FutureWarning: Passing unit-less datetime64 dtype to .astype is deprecated and will raise in a future version. Pass 'datetime64[ns]' instead\n",
      "  series = series.astype(t, copy=False)\n"
     ]
    },
    {
     "data": {
      "text/html": [
       "<div>\n",
       "<style scoped>\n",
       "    .dataframe tbody tr th:only-of-type {\n",
       "        vertical-align: middle;\n",
       "    }\n",
       "\n",
       "    .dataframe tbody tr th {\n",
       "        vertical-align: top;\n",
       "    }\n",
       "\n",
       "    .dataframe thead th {\n",
       "        text-align: right;\n",
       "    }\n",
       "</style>\n",
       "<table border=\"1\" class=\"dataframe\">\n",
       "  <thead>\n",
       "    <tr style=\"text-align: right;\">\n",
       "      <th></th>\n",
       "      <th>record_count</th>\n",
       "      <th>file_count</th>\n",
       "      <th>total_data_file_size_in_bytes</th>\n",
       "      <th>position_delete_record_count</th>\n",
       "      <th>position_delete_file_count</th>\n",
       "      <th>equality_delete_record_count</th>\n",
       "      <th>equality_delete_file_count</th>\n",
       "      <th>last_updated_at</th>\n",
       "      <th>last_updated_snapshot_id</th>\n",
       "    </tr>\n",
       "  </thead>\n",
       "  <tbody>\n",
       "    <tr>\n",
       "      <th>0</th>\n",
       "      <td>5</td>\n",
       "      <td>5</td>\n",
       "      <td>4078</td>\n",
       "      <td>0</td>\n",
       "      <td>0</td>\n",
       "      <td>0</td>\n",
       "      <td>0</td>\n",
       "      <td>2023-12-06 19:02:20.326</td>\n",
       "      <td>3682576955631043731</td>\n",
       "    </tr>\n",
       "  </tbody>\n",
       "</table>\n",
       "</div>"
      ],
      "text/plain": [
       "   record_count  file_count  total_data_file_size_in_bytes  \\\n",
       "0             5           5                           4078   \n",
       "\n",
       "   position_delete_record_count  position_delete_file_count  \\\n",
       "0                             0                           0   \n",
       "\n",
       "   equality_delete_record_count  equality_delete_file_count  \\\n",
       "0                             0                           0   \n",
       "\n",
       "          last_updated_at  last_updated_snapshot_id  \n",
       "0 2023-12-06 19:02:20.326       3682576955631043731  "
      ]
     },
     "execution_count": 16,
     "metadata": {},
     "output_type": "execute_result"
    }
   ],
   "source": [
    "spark.sql(\"SELECT * from nessie.taxis.vendors.partitions\").toPandas()"
   ]
  },
  {
   "cell_type": "code",
   "execution_count": 12,
   "id": "053a6862-f363-4d32-afc3-11ba28ee7a21",
   "metadata": {
    "execution": {
     "iopub.execute_input": "2023-12-06T19:54:57.685601Z",
     "iopub.status.busy": "2023-12-06T19:54:57.684619Z",
     "iopub.status.idle": "2023-12-06T19:54:57.885814Z",
     "shell.execute_reply": "2023-12-06T19:54:57.884672Z",
     "shell.execute_reply.started": "2023-12-06T19:54:57.685562Z"
    },
    "tags": []
   },
   "outputs": [
    {
     "name": "stderr",
     "output_type": "stream",
     "text": [
      "/usr/local/lib/python3.10/dist-packages/pyspark/sql/pandas/conversion.py:194: FutureWarning: Passing unit-less datetime64 dtype to .astype is deprecated and will raise in a future version. Pass 'datetime64[ns]' instead\n",
      "  series = series.astype(t, copy=False)\n",
      "/usr/local/lib/python3.10/dist-packages/pyspark/sql/pandas/conversion.py:194: FutureWarning: Passing unit-less datetime64 dtype to .astype is deprecated and will raise in a future version. Pass 'datetime64[ns]' instead\n",
      "  series = series.astype(t, copy=False)\n"
     ]
    },
    {
     "data": {
      "text/html": [
       "<div>\n",
       "<style scoped>\n",
       "    .dataframe tbody tr th:only-of-type {\n",
       "        vertical-align: middle;\n",
       "    }\n",
       "\n",
       "    .dataframe tbody tr th {\n",
       "        vertical-align: top;\n",
       "    }\n",
       "\n",
       "    .dataframe thead th {\n",
       "        text-align: right;\n",
       "    }\n",
       "</style>\n",
       "<table border=\"1\" class=\"dataframe\">\n",
       "  <thead>\n",
       "    <tr style=\"text-align: right;\">\n",
       "      <th></th>\n",
       "      <th>author</th>\n",
       "      <th>committer</th>\n",
       "      <th>hash</th>\n",
       "      <th>message</th>\n",
       "      <th>signedOffBy</th>\n",
       "      <th>authorTime</th>\n",
       "      <th>committerTime</th>\n",
       "      <th>properties</th>\n",
       "    </tr>\n",
       "  </thead>\n",
       "  <tbody>\n",
       "    <tr>\n",
       "      <th>0</th>\n",
       "      <td></td>\n",
       "      <td></td>\n",
       "      <td>d1ce11c92f031752c99fc04d120681a4559dc7989bea81...</td>\n",
       "      <td>Merged dev at 4563791cac0210e58298954aac184b82...</td>\n",
       "      <td></td>\n",
       "      <td>2023-12-06 19:04:05.990537</td>\n",
       "      <td>2023-12-06 19:04:05.990537</td>\n",
       "      <td>{}</td>\n",
       "    </tr>\n",
       "    <tr>\n",
       "      <th>1</th>\n",
       "      <td></td>\n",
       "      <td></td>\n",
       "      <td>1de998576faf154bf496cb3262ac45472e406eac2bb2a1...</td>\n",
       "      <td>Merged dev at 0aa131e3d99bd6bbfff54310e9067bbf...</td>\n",
       "      <td></td>\n",
       "      <td>2023-12-06 18:47:48.117052</td>\n",
       "      <td>2023-12-06 18:47:48.117052</td>\n",
       "      <td>{}</td>\n",
       "    </tr>\n",
       "    <tr>\n",
       "      <th>2</th>\n",
       "      <td>root</td>\n",
       "      <td></td>\n",
       "      <td>c7d26b422a1f7a0e6eac5ee670c3da8a5a6595e2e8e3e4...</td>\n",
       "      <td>Iceberg append against taxis.trips</td>\n",
       "      <td></td>\n",
       "      <td>2023-12-06 18:19:49.896485</td>\n",
       "      <td>2023-12-06 18:19:49.896485</td>\n",
       "      <td>{'app-id': 'local-1701886781007', 'application...</td>\n",
       "    </tr>\n",
       "    <tr>\n",
       "      <th>3</th>\n",
       "      <td>root</td>\n",
       "      <td></td>\n",
       "      <td>e48a4e0c4e4e96c30cae49ab564707b5d1bbea5db6e4cd...</td>\n",
       "      <td>Iceberg table created/registered with name tax...</td>\n",
       "      <td></td>\n",
       "      <td>2023-12-06 18:19:46.419355</td>\n",
       "      <td>2023-12-06 18:19:46.419355</td>\n",
       "      <td>{'app-id': 'local-1701886781007', 'application...</td>\n",
       "    </tr>\n",
       "    <tr>\n",
       "      <th>4</th>\n",
       "      <td></td>\n",
       "      <td></td>\n",
       "      <td>b943563d86f2d0c8046d0ff54ffce1d6deb2aed42d778f...</td>\n",
       "      <td>create namespace taxis</td>\n",
       "      <td></td>\n",
       "      <td>2023-12-06 18:19:46.166897</td>\n",
       "      <td>2023-12-06 18:19:46.166897</td>\n",
       "      <td>{}</td>\n",
       "    </tr>\n",
       "    <tr>\n",
       "      <th>5</th>\n",
       "      <td></td>\n",
       "      <td></td>\n",
       "      <td>4b6580474f06cd177600d41ceedeb238c259e095a63503...</td>\n",
       "      <td>delete namespace taxis</td>\n",
       "      <td></td>\n",
       "      <td>2023-12-06 18:19:45.732815</td>\n",
       "      <td>2023-12-06 18:19:45.732815</td>\n",
       "      <td>{}</td>\n",
       "    </tr>\n",
       "    <tr>\n",
       "      <th>6</th>\n",
       "      <td>root</td>\n",
       "      <td></td>\n",
       "      <td>4b7c055fbf936d2f39cf36c0467041a76885f63b84ac67...</td>\n",
       "      <td>Iceberg delete table taxis.trips</td>\n",
       "      <td></td>\n",
       "      <td>2023-12-06 18:19:44.948841</td>\n",
       "      <td>2023-12-06 18:19:44.948841</td>\n",
       "      <td>{'app-id': 'local-1701886781007', 'application...</td>\n",
       "    </tr>\n",
       "    <tr>\n",
       "      <th>7</th>\n",
       "      <td>root</td>\n",
       "      <td></td>\n",
       "      <td>24c0d7c7216cf295346e4b1b476dc115f39743f4aff190...</td>\n",
       "      <td>Iceberg append against taxis.trips</td>\n",
       "      <td></td>\n",
       "      <td>2023-12-06 17:37:54.586978</td>\n",
       "      <td>2023-12-06 17:37:54.586978</td>\n",
       "      <td>{'app-id': 'local-1701884200505', 'application...</td>\n",
       "    </tr>\n",
       "    <tr>\n",
       "      <th>8</th>\n",
       "      <td>root</td>\n",
       "      <td></td>\n",
       "      <td>14c724398469c268dd07de1caebba725b0edf5d8adbe78...</td>\n",
       "      <td>Iceberg table created/registered with name tax...</td>\n",
       "      <td></td>\n",
       "      <td>2023-12-06 17:37:47.764890</td>\n",
       "      <td>2023-12-06 17:37:47.764890</td>\n",
       "      <td>{'app-id': 'local-1701884200505', 'application...</td>\n",
       "    </tr>\n",
       "    <tr>\n",
       "      <th>9</th>\n",
       "      <td></td>\n",
       "      <td></td>\n",
       "      <td>e828c875d4ac6ea29b942b522e1c3cf0d2476bd698cca4...</td>\n",
       "      <td>create namespace taxis</td>\n",
       "      <td></td>\n",
       "      <td>2023-12-06 17:37:47.198130</td>\n",
       "      <td>2023-12-06 17:37:47.198130</td>\n",
       "      <td>{}</td>\n",
       "    </tr>\n",
       "  </tbody>\n",
       "</table>\n",
       "</div>"
      ],
      "text/plain": [
       "  author committer                                               hash  \\\n",
       "0                   d1ce11c92f031752c99fc04d120681a4559dc7989bea81...   \n",
       "1                   1de998576faf154bf496cb3262ac45472e406eac2bb2a1...   \n",
       "2   root            c7d26b422a1f7a0e6eac5ee670c3da8a5a6595e2e8e3e4...   \n",
       "3   root            e48a4e0c4e4e96c30cae49ab564707b5d1bbea5db6e4cd...   \n",
       "4                   b943563d86f2d0c8046d0ff54ffce1d6deb2aed42d778f...   \n",
       "5                   4b6580474f06cd177600d41ceedeb238c259e095a63503...   \n",
       "6   root            4b7c055fbf936d2f39cf36c0467041a76885f63b84ac67...   \n",
       "7   root            24c0d7c7216cf295346e4b1b476dc115f39743f4aff190...   \n",
       "8   root            14c724398469c268dd07de1caebba725b0edf5d8adbe78...   \n",
       "9                   e828c875d4ac6ea29b942b522e1c3cf0d2476bd698cca4...   \n",
       "\n",
       "                                             message signedOffBy  \\\n",
       "0  Merged dev at 4563791cac0210e58298954aac184b82...               \n",
       "1  Merged dev at 0aa131e3d99bd6bbfff54310e9067bbf...               \n",
       "2                 Iceberg append against taxis.trips               \n",
       "3  Iceberg table created/registered with name tax...               \n",
       "4                             create namespace taxis               \n",
       "5                             delete namespace taxis               \n",
       "6                   Iceberg delete table taxis.trips               \n",
       "7                 Iceberg append against taxis.trips               \n",
       "8  Iceberg table created/registered with name tax...               \n",
       "9                             create namespace taxis               \n",
       "\n",
       "                  authorTime              committerTime  \\\n",
       "0 2023-12-06 19:04:05.990537 2023-12-06 19:04:05.990537   \n",
       "1 2023-12-06 18:47:48.117052 2023-12-06 18:47:48.117052   \n",
       "2 2023-12-06 18:19:49.896485 2023-12-06 18:19:49.896485   \n",
       "3 2023-12-06 18:19:46.419355 2023-12-06 18:19:46.419355   \n",
       "4 2023-12-06 18:19:46.166897 2023-12-06 18:19:46.166897   \n",
       "5 2023-12-06 18:19:45.732815 2023-12-06 18:19:45.732815   \n",
       "6 2023-12-06 18:19:44.948841 2023-12-06 18:19:44.948841   \n",
       "7 2023-12-06 17:37:54.586978 2023-12-06 17:37:54.586978   \n",
       "8 2023-12-06 17:37:47.764890 2023-12-06 17:37:47.764890   \n",
       "9 2023-12-06 17:37:47.198130 2023-12-06 17:37:47.198130   \n",
       "\n",
       "                                          properties  \n",
       "0                                                 {}  \n",
       "1                                                 {}  \n",
       "2  {'app-id': 'local-1701886781007', 'application...  \n",
       "3  {'app-id': 'local-1701886781007', 'application...  \n",
       "4                                                 {}  \n",
       "5                                                 {}  \n",
       "6  {'app-id': 'local-1701886781007', 'application...  \n",
       "7  {'app-id': 'local-1701884200505', 'application...  \n",
       "8  {'app-id': 'local-1701884200505', 'application...  \n",
       "9                                                 {}  "
      ]
     },
     "execution_count": 12,
     "metadata": {},
     "output_type": "execute_result"
    }
   ],
   "source": [
    "spark.sql(\"SHOW LOG main IN nessie\").toPandas()"
   ]
  },
  {
   "cell_type": "code",
   "execution_count": null,
   "id": "bda53c12-ad39-4b7e-bb45-9a0b364d0baf",
   "metadata": {},
   "outputs": [],
   "source": []
  }
 ],
 "metadata": {
  "kernelspec": {
   "display_name": "Python 3 (ipykernel)",
   "language": "python",
   "name": "python3"
  },
  "language_info": {
   "codemirror_mode": {
    "name": "ipython",
    "version": 3
   },
   "file_extension": ".py",
   "mimetype": "text/x-python",
   "name": "python",
   "nbconvert_exporter": "python",
   "pygments_lexer": "ipython3",
   "version": "3.10.12"
  }
 },
 "nbformat": 4,
 "nbformat_minor": 5
}
