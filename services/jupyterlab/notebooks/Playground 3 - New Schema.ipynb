{
 "cells": [
  {
   "cell_type": "markdown",
   "id": "11bff561-4ee5-4bdf-834c-25c5ea888b67",
   "metadata": {},
   "source": [
    "# Imports "
   ]
  },
  {
   "cell_type": "code",
   "execution_count": 1,
   "id": "ece2fcfb-fe6e-4a96-a581-bc3424424808",
   "metadata": {
    "execution": {
     "iopub.execute_input": "2023-12-06T18:52:51.305959Z",
     "iopub.status.busy": "2023-12-06T18:52:51.305310Z",
     "iopub.status.idle": "2023-12-06T18:52:51.507316Z",
     "shell.execute_reply": "2023-12-06T18:52:51.506712Z",
     "shell.execute_reply.started": "2023-12-06T18:52:51.305900Z"
    },
    "tags": []
   },
   "outputs": [],
   "source": [
    "from common import getOrCreateSparkSession"
   ]
  },
  {
   "cell_type": "code",
   "execution_count": 2,
   "id": "a55df75f-6609-4405-b978-e15615cc1d53",
   "metadata": {
    "execution": {
     "iopub.execute_input": "2023-12-06T18:52:51.661466Z",
     "iopub.status.busy": "2023-12-06T18:52:51.659088Z",
     "iopub.status.idle": "2023-12-06T18:52:55.626836Z",
     "shell.execute_reply": "2023-12-06T18:52:55.626124Z",
     "shell.execute_reply.started": "2023-12-06T18:52:51.661353Z"
    },
    "tags": []
   },
   "outputs": [
    {
     "name": "stdout",
     "output_type": "stream",
     "text": [
      ":: loading settings :: url = jar:file:/usr/local/lib/python3.10/dist-packages/pyspark/jars/ivy-2.5.1.jar!/org/apache/ivy/core/settings/ivysettings.xml\n"
     ]
    },
    {
     "name": "stderr",
     "output_type": "stream",
     "text": [
      "Ivy Default Cache set to: /root/.ivy2/cache\n",
      "The jars for the packages stored in: /root/.ivy2/jars\n",
      "org.apache.iceberg#iceberg-spark-runtime-3.2_2.12 added as a dependency\n",
      "org.projectnessie.nessie-integrations#nessie-spark-extensions-3.2_2.12 added as a dependency\n",
      ":: resolving dependencies :: org.apache.spark#spark-submit-parent-0e6ef28d-4f7f-41c9-aaf6-5c66edaed0c8;1.0\n",
      "\tconfs: [default]\n",
      "\tfound org.apache.iceberg#iceberg-spark-runtime-3.2_2.12;1.4.2 in central\n",
      "\tfound org.projectnessie.nessie-integrations#nessie-spark-extensions-3.2_2.12;0.74.0 in central\n",
      ":: resolution report :: resolve 119ms :: artifacts dl 5ms\n",
      "\t:: modules in use:\n",
      "\torg.apache.iceberg#iceberg-spark-runtime-3.2_2.12;1.4.2 from central in [default]\n",
      "\torg.projectnessie.nessie-integrations#nessie-spark-extensions-3.2_2.12;0.74.0 from central in [default]\n",
      "\t---------------------------------------------------------------------\n",
      "\t|                  |            modules            ||   artifacts   |\n",
      "\t|       conf       | number| search|dwnlded|evicted|| number|dwnlded|\n",
      "\t---------------------------------------------------------------------\n",
      "\t|      default     |   2   |   0   |   0   |   0   ||   2   |   0   |\n",
      "\t---------------------------------------------------------------------\n",
      ":: retrieving :: org.apache.spark#spark-submit-parent-0e6ef28d-4f7f-41c9-aaf6-5c66edaed0c8\n",
      "\tconfs: [default]\n",
      "\t0 artifacts copied, 2 already retrieved (0kB/5ms)\n",
      "23/12/06 18:52:53 WARN NativeCodeLoader: Unable to load native-hadoop library for your platform... using builtin-java classes where applicable\n",
      "Using Spark's default log4j profile: org/apache/spark/log4j-defaults.properties\n",
      "Setting default log level to \"WARN\".\n",
      "To adjust logging level use sc.setLogLevel(newLevel). For SparkR, use setLogLevel(newLevel).\n",
      "23/12/06 18:52:53 WARN Utils: Service 'SparkUI' could not bind on port 4040. Attempting port 4041.\n",
      "23/12/06 18:52:53 WARN Utils: Service 'SparkUI' could not bind on port 4041. Attempting port 4042.\n",
      "23/12/06 18:52:53 WARN Utils: Service 'SparkUI' could not bind on port 4042. Attempting port 4043.\n"
     ]
    }
   ],
   "source": [
    "spark = getOrCreateSparkSession()"
   ]
  },
  {
   "cell_type": "markdown",
   "id": "4567def9-04b7-431f-a523-f19a366c4584",
   "metadata": {},
   "source": [
    "# Branch out "
   ]
  },
  {
   "cell_type": "code",
   "execution_count": 3,
   "id": "ae3804b2-df14-4dec-ae5a-aba7ec4b38a4",
   "metadata": {
    "execution": {
     "iopub.execute_input": "2023-12-06T18:53:01.949340Z",
     "iopub.status.busy": "2023-12-06T18:53:01.948997Z",
     "iopub.status.idle": "2023-12-06T18:53:05.303648Z",
     "shell.execute_reply": "2023-12-06T18:53:05.302949Z",
     "shell.execute_reply.started": "2023-12-06T18:53:01.949311Z"
    },
    "tags": []
   },
   "outputs": [
    {
     "data": {
      "text/html": [
       "<div>\n",
       "<style scoped>\n",
       "    .dataframe tbody tr th:only-of-type {\n",
       "        vertical-align: middle;\n",
       "    }\n",
       "\n",
       "    .dataframe tbody tr th {\n",
       "        vertical-align: top;\n",
       "    }\n",
       "\n",
       "    .dataframe thead th {\n",
       "        text-align: right;\n",
       "    }\n",
       "</style>\n",
       "<table border=\"1\" class=\"dataframe\">\n",
       "  <thead>\n",
       "    <tr style=\"text-align: right;\">\n",
       "      <th></th>\n",
       "      <th>refType</th>\n",
       "      <th>name</th>\n",
       "      <th>hash</th>\n",
       "    </tr>\n",
       "  </thead>\n",
       "  <tbody>\n",
       "    <tr>\n",
       "      <th>0</th>\n",
       "      <td>Branch</td>\n",
       "      <td>dev</td>\n",
       "      <td>1de998576faf154bf496cb3262ac45472e406eac2bb2a1...</td>\n",
       "    </tr>\n",
       "  </tbody>\n",
       "</table>\n",
       "</div>"
      ],
      "text/plain": [
       "  refType name                                               hash\n",
       "0  Branch  dev  1de998576faf154bf496cb3262ac45472e406eac2bb2a1..."
      ]
     },
     "execution_count": 3,
     "metadata": {},
     "output_type": "execute_result"
    }
   ],
   "source": [
    "spark.sql(\"CREATE BRANCH dev IN nessie FROM main\").toPandas()"
   ]
  },
  {
   "cell_type": "code",
   "execution_count": 4,
   "id": "5e4b2009-ee64-4b77-9ee0-f9484598e7d0",
   "metadata": {
    "execution": {
     "iopub.execute_input": "2023-12-06T18:53:05.305340Z",
     "iopub.status.busy": "2023-12-06T18:53:05.304982Z",
     "iopub.status.idle": "2023-12-06T18:53:05.379553Z",
     "shell.execute_reply": "2023-12-06T18:53:05.378841Z",
     "shell.execute_reply.started": "2023-12-06T18:53:05.305311Z"
    },
    "tags": []
   },
   "outputs": [
    {
     "data": {
      "text/html": [
       "<div>\n",
       "<style scoped>\n",
       "    .dataframe tbody tr th:only-of-type {\n",
       "        vertical-align: middle;\n",
       "    }\n",
       "\n",
       "    .dataframe tbody tr th {\n",
       "        vertical-align: top;\n",
       "    }\n",
       "\n",
       "    .dataframe thead th {\n",
       "        text-align: right;\n",
       "    }\n",
       "</style>\n",
       "<table border=\"1\" class=\"dataframe\">\n",
       "  <thead>\n",
       "    <tr style=\"text-align: right;\">\n",
       "      <th></th>\n",
       "      <th>refType</th>\n",
       "      <th>name</th>\n",
       "      <th>hash</th>\n",
       "    </tr>\n",
       "  </thead>\n",
       "  <tbody>\n",
       "    <tr>\n",
       "      <th>0</th>\n",
       "      <td>Branch</td>\n",
       "      <td>dev</td>\n",
       "      <td>1de998576faf154bf496cb3262ac45472e406eac2bb2a1...</td>\n",
       "    </tr>\n",
       "    <tr>\n",
       "      <th>1</th>\n",
       "      <td>Branch</td>\n",
       "      <td>main</td>\n",
       "      <td>1de998576faf154bf496cb3262ac45472e406eac2bb2a1...</td>\n",
       "    </tr>\n",
       "  </tbody>\n",
       "</table>\n",
       "</div>"
      ],
      "text/plain": [
       "  refType  name                                               hash\n",
       "0  Branch   dev  1de998576faf154bf496cb3262ac45472e406eac2bb2a1...\n",
       "1  Branch  main  1de998576faf154bf496cb3262ac45472e406eac2bb2a1..."
      ]
     },
     "execution_count": 4,
     "metadata": {},
     "output_type": "execute_result"
    }
   ],
   "source": [
    "spark.sql(\"LIST REFERENCES IN nessie\").toPandas()"
   ]
  },
  {
   "cell_type": "code",
   "execution_count": 5,
   "id": "96f87b57-3f6e-4e0c-a258-8bda79b8124a",
   "metadata": {
    "execution": {
     "iopub.execute_input": "2023-12-06T18:53:09.175970Z",
     "iopub.status.busy": "2023-12-06T18:53:09.175611Z",
     "iopub.status.idle": "2023-12-06T18:53:09.245718Z",
     "shell.execute_reply": "2023-12-06T18:53:09.244903Z",
     "shell.execute_reply.started": "2023-12-06T18:53:09.175942Z"
    },
    "tags": []
   },
   "outputs": [
    {
     "data": {
      "text/html": [
       "<div>\n",
       "<style scoped>\n",
       "    .dataframe tbody tr th:only-of-type {\n",
       "        vertical-align: middle;\n",
       "    }\n",
       "\n",
       "    .dataframe tbody tr th {\n",
       "        vertical-align: top;\n",
       "    }\n",
       "\n",
       "    .dataframe thead th {\n",
       "        text-align: right;\n",
       "    }\n",
       "</style>\n",
       "<table border=\"1\" class=\"dataframe\">\n",
       "  <thead>\n",
       "    <tr style=\"text-align: right;\">\n",
       "      <th></th>\n",
       "      <th>refType</th>\n",
       "      <th>name</th>\n",
       "      <th>hash</th>\n",
       "    </tr>\n",
       "  </thead>\n",
       "  <tbody>\n",
       "    <tr>\n",
       "      <th>0</th>\n",
       "      <td>Branch</td>\n",
       "      <td>dev</td>\n",
       "      <td>1de998576faf154bf496cb3262ac45472e406eac2bb2a1...</td>\n",
       "    </tr>\n",
       "  </tbody>\n",
       "</table>\n",
       "</div>"
      ],
      "text/plain": [
       "  refType name                                               hash\n",
       "0  Branch  dev  1de998576faf154bf496cb3262ac45472e406eac2bb2a1..."
      ]
     },
     "execution_count": 5,
     "metadata": {},
     "output_type": "execute_result"
    }
   ],
   "source": [
    "spark.sql(\"USE REFERENCE dev IN nessie\").toPandas()"
   ]
  },
  {
   "cell_type": "code",
   "execution_count": 18,
   "id": "2ea608b5-7dd9-4ffc-ba2f-71ebe0bd7897",
   "metadata": {
    "execution": {
     "iopub.execute_input": "2023-12-06T19:02:10.247454Z",
     "iopub.status.busy": "2023-12-06T19:02:10.246761Z",
     "iopub.status.idle": "2023-12-06T19:02:10.380853Z",
     "shell.execute_reply": "2023-12-06T19:02:10.379470Z",
     "shell.execute_reply.started": "2023-12-06T19:02:10.247423Z"
    },
    "tags": []
   },
   "outputs": [
    {
     "name": "stderr",
     "output_type": "stream",
     "text": [
      "23/12/06 19:02:10 WARN BaseTransaction: Failed to load metadata for a committed snapshot, skipping clean-up\n"
     ]
    },
    {
     "data": {
      "text/html": [
       "<div>\n",
       "<style scoped>\n",
       "    .dataframe tbody tr th:only-of-type {\n",
       "        vertical-align: middle;\n",
       "    }\n",
       "\n",
       "    .dataframe tbody tr th {\n",
       "        vertical-align: top;\n",
       "    }\n",
       "\n",
       "    .dataframe thead th {\n",
       "        text-align: right;\n",
       "    }\n",
       "</style>\n",
       "<table border=\"1\" class=\"dataframe\">\n",
       "  <thead>\n",
       "    <tr style=\"text-align: right;\">\n",
       "      <th></th>\n",
       "    </tr>\n",
       "  </thead>\n",
       "  <tbody>\n",
       "  </tbody>\n",
       "</table>\n",
       "</div>"
      ],
      "text/plain": [
       "Empty DataFrame\n",
       "Columns: []\n",
       "Index: []"
      ]
     },
     "execution_count": 18,
     "metadata": {},
     "output_type": "execute_result"
    }
   ],
   "source": [
    "spark.sql(\n",
    "\"\"\"\n",
    "ALTER TABLE nessie.taxis.vendors ADD COLUMNS(\n",
    "    address STRING\n",
    ");\n",
    "\"\"\"\n",
    ").toPandas()"
   ]
  },
  {
   "cell_type": "code",
   "execution_count": 19,
   "id": "2dd6342a-cdf9-48cd-acbc-59e7144e2590",
   "metadata": {
    "execution": {
     "iopub.execute_input": "2023-12-06T19:02:20.169808Z",
     "iopub.status.busy": "2023-12-06T19:02:20.169031Z",
     "iopub.status.idle": "2023-12-06T19:02:20.382422Z",
     "shell.execute_reply": "2023-12-06T19:02:20.381549Z",
     "shell.execute_reply.started": "2023-12-06T19:02:20.169776Z"
    },
    "tags": []
   },
   "outputs": [
    {
     "data": {
      "text/html": [
       "<div>\n",
       "<style scoped>\n",
       "    .dataframe tbody tr th:only-of-type {\n",
       "        vertical-align: middle;\n",
       "    }\n",
       "\n",
       "    .dataframe tbody tr th {\n",
       "        vertical-align: top;\n",
       "    }\n",
       "\n",
       "    .dataframe thead th {\n",
       "        text-align: right;\n",
       "    }\n",
       "</style>\n",
       "<table border=\"1\" class=\"dataframe\">\n",
       "  <thead>\n",
       "    <tr style=\"text-align: right;\">\n",
       "      <th></th>\n",
       "    </tr>\n",
       "  </thead>\n",
       "  <tbody>\n",
       "  </tbody>\n",
       "</table>\n",
       "</div>"
      ],
      "text/plain": [
       "Empty DataFrame\n",
       "Columns: []\n",
       "Index: []"
      ]
     },
     "execution_count": 19,
     "metadata": {},
     "output_type": "execute_result"
    }
   ],
   "source": [
    "spark.sql(\n",
    "\"\"\"\n",
    "INSERT INTO nessie.taxis.vendors VALUES\n",
    "    (1, \"Yellow Taxi\", \"There Str\"),\n",
    "    (1010, \"Taxis\", \"Onlinestrasse\")\n",
    "\"\"\"\n",
    ").toPandas()"
   ]
  },
  {
   "cell_type": "code",
   "execution_count": 21,
   "id": "093bce76-dbcd-4e63-b61f-d815f0911700",
   "metadata": {
    "execution": {
     "iopub.execute_input": "2023-12-06T19:02:51.595250Z",
     "iopub.status.busy": "2023-12-06T19:02:51.594910Z",
     "iopub.status.idle": "2023-12-06T19:02:52.264783Z",
     "shell.execute_reply": "2023-12-06T19:02:52.264059Z",
     "shell.execute_reply.started": "2023-12-06T19:02:51.595221Z"
    },
    "tags": []
   },
   "outputs": [
    {
     "data": {
      "text/html": [
       "<div>\n",
       "<style scoped>\n",
       "    .dataframe tbody tr th:only-of-type {\n",
       "        vertical-align: middle;\n",
       "    }\n",
       "\n",
       "    .dataframe tbody tr th {\n",
       "        vertical-align: top;\n",
       "    }\n",
       "\n",
       "    .dataframe thead th {\n",
       "        text-align: right;\n",
       "    }\n",
       "</style>\n",
       "<table border=\"1\" class=\"dataframe\">\n",
       "  <thead>\n",
       "    <tr style=\"text-align: right;\">\n",
       "      <th></th>\n",
       "      <th>vendor_id</th>\n",
       "      <th>title</th>\n",
       "      <th>address</th>\n",
       "    </tr>\n",
       "  </thead>\n",
       "  <tbody>\n",
       "    <tr>\n",
       "      <th>0</th>\n",
       "      <td>1</td>\n",
       "      <td>Yellow Taxi</td>\n",
       "      <td>None</td>\n",
       "    </tr>\n",
       "    <tr>\n",
       "      <th>1</th>\n",
       "      <td>1</td>\n",
       "      <td>Yellow Taxi</td>\n",
       "      <td>There Str</td>\n",
       "    </tr>\n",
       "    <tr>\n",
       "      <th>2</th>\n",
       "      <td>10</td>\n",
       "      <td>We'll Get You There Compnay</td>\n",
       "      <td>None</td>\n",
       "    </tr>\n",
       "    <tr>\n",
       "      <th>3</th>\n",
       "      <td>1010</td>\n",
       "      <td>Taxis</td>\n",
       "      <td>Onlinestrasse</td>\n",
       "    </tr>\n",
       "    <tr>\n",
       "      <th>4</th>\n",
       "      <td>4252</td>\n",
       "      <td>Not Uber</td>\n",
       "      <td>None</td>\n",
       "    </tr>\n",
       "  </tbody>\n",
       "</table>\n",
       "</div>"
      ],
      "text/plain": [
       "   vendor_id                        title        address\n",
       "0          1                  Yellow Taxi           None\n",
       "1          1                  Yellow Taxi      There Str\n",
       "2         10  We'll Get You There Compnay           None\n",
       "3       1010                        Taxis  Onlinestrasse\n",
       "4       4252                     Not Uber           None"
      ]
     },
     "execution_count": 21,
     "metadata": {},
     "output_type": "execute_result"
    }
   ],
   "source": [
    "spark.sql(\"SELECT * FROM nessie.taxis.vendors LIMIT 5;\").toPandas()"
   ]
  },
  {
   "cell_type": "markdown",
   "id": "a5ef40be-1b29-4f85-98ca-b3f4bbc137b3",
   "metadata": {},
   "source": [
    "# Merge back into `@main`"
   ]
  },
  {
   "cell_type": "code",
   "execution_count": 23,
   "id": "30c58c67-888f-4d0c-8f5b-cbf6866c7d5b",
   "metadata": {
    "execution": {
     "iopub.execute_input": "2023-12-06T19:04:05.942931Z",
     "iopub.status.busy": "2023-12-06T19:04:05.942563Z",
     "iopub.status.idle": "2023-12-06T19:04:06.060742Z",
     "shell.execute_reply": "2023-12-06T19:04:06.059892Z",
     "shell.execute_reply.started": "2023-12-06T19:04:05.942902Z"
    },
    "tags": []
   },
   "outputs": [
    {
     "data": {
      "text/html": [
       "<div>\n",
       "<style scoped>\n",
       "    .dataframe tbody tr th:only-of-type {\n",
       "        vertical-align: middle;\n",
       "    }\n",
       "\n",
       "    .dataframe tbody tr th {\n",
       "        vertical-align: top;\n",
       "    }\n",
       "\n",
       "    .dataframe thead th {\n",
       "        text-align: right;\n",
       "    }\n",
       "</style>\n",
       "<table border=\"1\" class=\"dataframe\">\n",
       "  <thead>\n",
       "    <tr style=\"text-align: right;\">\n",
       "      <th></th>\n",
       "      <th>name</th>\n",
       "      <th>hash</th>\n",
       "    </tr>\n",
       "  </thead>\n",
       "  <tbody>\n",
       "    <tr>\n",
       "      <th>0</th>\n",
       "      <td>main</td>\n",
       "      <td>d1ce11c92f031752c99fc04d120681a4559dc7989bea81...</td>\n",
       "    </tr>\n",
       "  </tbody>\n",
       "</table>\n",
       "</div>"
      ],
      "text/plain": [
       "   name                                               hash\n",
       "0  main  d1ce11c92f031752c99fc04d120681a4559dc7989bea81..."
      ]
     },
     "execution_count": 23,
     "metadata": {},
     "output_type": "execute_result"
    }
   ],
   "source": [
    "spark.sql(\"MERGE BRANCH dev INTO main IN nessie\").toPandas()"
   ]
  },
  {
   "cell_type": "code",
   "execution_count": 24,
   "id": "bcacbe7e-61e6-42ff-8821-250238190aa8",
   "metadata": {
    "execution": {
     "iopub.execute_input": "2023-12-06T19:04:06.947312Z",
     "iopub.status.busy": "2023-12-06T19:04:06.946732Z",
     "iopub.status.idle": "2023-12-06T19:04:06.989737Z",
     "shell.execute_reply": "2023-12-06T19:04:06.989000Z",
     "shell.execute_reply.started": "2023-12-06T19:04:06.947286Z"
    },
    "tags": []
   },
   "outputs": [
    {
     "data": {
      "text/html": [
       "<div>\n",
       "<style scoped>\n",
       "    .dataframe tbody tr th:only-of-type {\n",
       "        vertical-align: middle;\n",
       "    }\n",
       "\n",
       "    .dataframe tbody tr th {\n",
       "        vertical-align: top;\n",
       "    }\n",
       "\n",
       "    .dataframe thead th {\n",
       "        text-align: right;\n",
       "    }\n",
       "</style>\n",
       "<table border=\"1\" class=\"dataframe\">\n",
       "  <thead>\n",
       "    <tr style=\"text-align: right;\">\n",
       "      <th></th>\n",
       "      <th>refType</th>\n",
       "      <th>name</th>\n",
       "      <th>hash</th>\n",
       "    </tr>\n",
       "  </thead>\n",
       "  <tbody>\n",
       "    <tr>\n",
       "      <th>0</th>\n",
       "      <td>Branch</td>\n",
       "      <td>main</td>\n",
       "      <td>d1ce11c92f031752c99fc04d120681a4559dc7989bea81...</td>\n",
       "    </tr>\n",
       "  </tbody>\n",
       "</table>\n",
       "</div>"
      ],
      "text/plain": [
       "  refType  name                                               hash\n",
       "0  Branch  main  d1ce11c92f031752c99fc04d120681a4559dc7989bea81..."
      ]
     },
     "execution_count": 24,
     "metadata": {},
     "output_type": "execute_result"
    }
   ],
   "source": [
    "spark.sql(\"USE REFERENCE main IN nessie\").toPandas()"
   ]
  },
  {
   "cell_type": "code",
   "execution_count": 25,
   "id": "2b350be1-1934-4405-aede-50183e4b73bf",
   "metadata": {
    "execution": {
     "iopub.execute_input": "2023-12-06T19:05:29.620847Z",
     "iopub.status.busy": "2023-12-06T19:05:29.620302Z",
     "iopub.status.idle": "2023-12-06T19:05:29.758103Z",
     "shell.execute_reply": "2023-12-06T19:05:29.757173Z",
     "shell.execute_reply.started": "2023-12-06T19:05:29.620809Z"
    },
    "tags": []
   },
   "outputs": [
    {
     "data": {
      "text/html": [
       "<div>\n",
       "<style scoped>\n",
       "    .dataframe tbody tr th:only-of-type {\n",
       "        vertical-align: middle;\n",
       "    }\n",
       "\n",
       "    .dataframe tbody tr th {\n",
       "        vertical-align: top;\n",
       "    }\n",
       "\n",
       "    .dataframe thead th {\n",
       "        text-align: right;\n",
       "    }\n",
       "</style>\n",
       "<table border=\"1\" class=\"dataframe\">\n",
       "  <thead>\n",
       "    <tr style=\"text-align: right;\">\n",
       "      <th></th>\n",
       "      <th>vendor_id</th>\n",
       "      <th>title</th>\n",
       "      <th>address</th>\n",
       "    </tr>\n",
       "  </thead>\n",
       "  <tbody>\n",
       "    <tr>\n",
       "      <th>0</th>\n",
       "      <td>1</td>\n",
       "      <td>Yellow Taxi</td>\n",
       "      <td>None</td>\n",
       "    </tr>\n",
       "    <tr>\n",
       "      <th>1</th>\n",
       "      <td>10</td>\n",
       "      <td>We'll Get You There Compnay</td>\n",
       "      <td>None</td>\n",
       "    </tr>\n",
       "    <tr>\n",
       "      <th>2</th>\n",
       "      <td>4252</td>\n",
       "      <td>Not Uber</td>\n",
       "      <td>None</td>\n",
       "    </tr>\n",
       "    <tr>\n",
       "      <th>3</th>\n",
       "      <td>1</td>\n",
       "      <td>Yellow Taxi</td>\n",
       "      <td>There Str</td>\n",
       "    </tr>\n",
       "    <tr>\n",
       "      <th>4</th>\n",
       "      <td>1010</td>\n",
       "      <td>Taxis</td>\n",
       "      <td>Onlinestrasse</td>\n",
       "    </tr>\n",
       "  </tbody>\n",
       "</table>\n",
       "</div>"
      ],
      "text/plain": [
       "   vendor_id                        title        address\n",
       "0          1                  Yellow Taxi           None\n",
       "1         10  We'll Get You There Compnay           None\n",
       "2       4252                     Not Uber           None\n",
       "3          1                  Yellow Taxi      There Str\n",
       "4       1010                        Taxis  Onlinestrasse"
      ]
     },
     "execution_count": 25,
     "metadata": {},
     "output_type": "execute_result"
    }
   ],
   "source": [
    "spark.sql(\"SELECT * FROM nessie.taxis.vendors;\").toPandas()"
   ]
  }
 ],
 "metadata": {
  "kernelspec": {
   "display_name": "Python 3 (ipykernel)",
   "language": "python",
   "name": "python3"
  },
  "language_info": {
   "codemirror_mode": {
    "name": "ipython",
    "version": 3
   },
   "file_extension": ".py",
   "mimetype": "text/x-python",
   "name": "python",
   "nbconvert_exporter": "python",
   "pygments_lexer": "ipython3",
   "version": "3.10.12"
  }
 },
 "nbformat": 4,
 "nbformat_minor": 5
}
